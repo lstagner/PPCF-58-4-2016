{
 "cells": [
  {
   "cell_type": "code",
   "execution_count": null,
   "metadata": {
    "collapsed": false,
    "scrolled": true
   },
   "outputs": [],
   "source": [
    "push!(LOAD_PATH, \"./src\")\n",
    "using RegularizedSystems\n",
    "using VSTom\n",
    "using PyPlot"
   ]
  },
  {
   "cell_type": "code",
   "execution_count": null,
   "metadata": {
    "collapsed": false,
    "scrolled": true
   },
   "outputs": [],
   "source": [
    "b = read_ncdf(\"/home/lstagner/Dropbox/Inversion_method_analysis/31557/31557F00_fi_1_wght_2241ms.cdf\")\n",
    "a = read_ncdf(\"/home/lstagner/Dropbox/Inversion_method_analysis/31557/31557F00_fi_2_wght_2271ms.cdf\")\n",
    "dw = read_ncdf(\"/home/lstagner/Dropbox/Inversion_method_analysis/Asger\\ source\\ code/31557_dW.nc\")\n",
    "spec = read_ncdf(\"/home/lstagner/Dropbox/Inversion_method_analysis/31557/31557_measured_spectra.cdf\")\n",
    "true_dists = read_ncdf(\"/home/lstagner/Dropbox/Inversion_method_analysis/31557/31557_true_distributions.nc\")"
   ]
  },
  {
   "cell_type": "code",
   "execution_count": null,
   "metadata": {
    "collapsed": false
   },
   "outputs": [],
   "source": [
    "energy = map(Float64,b[\"energy\"])\n",
    "pitch = map(Float64,b[\"pitch\"])\n",
    "wl = map(Float64,b[\"central_wavel\"])\n",
    "wght_b = map(Float64,b[\"weight\"])\n",
    "wght_a = map(Float64,a[\"weight\"]);"
   ]
  },
  {
   "cell_type": "code",
   "execution_count": null,
   "metadata": {
    "collapsed": false
   },
   "outputs": [],
   "source": [
    "bb = read_ncdf(\"data/before_sawtooth_transfer_matrix.cdf\")\n",
    "ind1 = round(Int64,bb[\"spectrum_1_index\"])\n",
    "ind2 = round(Int64,bb[\"spectrum_2_index\"])\n",
    "ind3 = round(Int64,bb[\"spectrum_3_index\"])\n",
    "ind4 = round(Int64,bb[\"spectrum_4_index\"])\n",
    "ind5 = round(Int64,bb[\"spectrum_5_index\"]);"
   ]
  },
  {
   "cell_type": "code",
   "execution_count": null,
   "metadata": {
    "collapsed": false
   },
   "outputs": [],
   "source": [
    "spec1_b = map(Float64,spec[\"intens\"][1,ind1,1]')\n",
    "spec1_a = map(Float64,spec[\"intens\"][1,ind1,2]')\n",
    "err1_b  = map(Float64,spec[\"error\"][1,ind1,1]')\n",
    "err1_a  = map(Float64,spec[\"error\"][1,ind1,2]')\n",
    "wl1 = map(Float64,spec[\"central_wavel\"][1,ind1]')\n",
    "\n",
    "spec2_b = map(Float64,spec[\"intens\"][2,ind2,1]')\n",
    "spec2_a = map(Float64,spec[\"intens\"][2,ind2,2]')\n",
    "err2_b  = map(Float64,spec[\"error\"][2,ind2,1]')\n",
    "err2_a  = map(Float64,spec[\"error\"][2,ind2,2]')\n",
    "wl2 = map(Float64,spec[\"central_wavel\"][2,ind2]')\n",
    "\n",
    "spec3_b = map(Float64,spec[\"intens\"][3,ind3,1]')\n",
    "spec3_a = map(Float64,spec[\"intens\"][3,ind3,2]')\n",
    "err3_b  = map(Float64,spec[\"error\"][3,ind3,1]')\n",
    "err3_a  = map(Float64,spec[\"error\"][3,ind3,2]')\n",
    "wl3 = map(Float64,spec[\"central_wavel\"][3,ind3]')\n",
    "\n",
    "spec4_b = map(Float64,spec[\"intens\"][4,ind4,1]')\n",
    "spec4_a = map(Float64,spec[\"intens\"][4,ind4,2]')\n",
    "err4_b  = map(Float64,spec[\"error\"][4,ind4,1]')\n",
    "err4_a  = map(Float64,spec[\"error\"][4,ind4,2]')\n",
    "wl4 = map(Float64,spec[\"central_wavel\"][4,ind4]')\n",
    "\n",
    "spec5_b = map(Float64,spec[\"intens\"][5,ind5,1]')\n",
    "spec5_a = map(Float64,spec[\"intens\"][5,ind5,2]')\n",
    "err5_b  = map(Float64,spec[\"error\"][5,ind5,1]')\n",
    "err5_a  = map(Float64,spec[\"error\"][5,ind5,2]')\n",
    "wl5 = map(Float64,spec[\"central_wavel\"][5,ind5]');"
   ]
  },
  {
   "cell_type": "code",
   "execution_count": null,
   "metadata": {
    "collapsed": false
   },
   "outputs": [],
   "source": [
    "E = energy .< 100\n",
    "energy = energy[E]\n",
    "nen =length(energy)"
   ]
  },
  {
   "cell_type": "code",
   "execution_count": null,
   "metadata": {
    "collapsed": false
   },
   "outputs": [],
   "source": [
    "A1_b = zeros(length(wl1),nen*75)\n",
    "A1_a = zeros(length(wl1),nen*75)\n",
    "dwav = abs(wl1[2] - wl1[1])\n",
    "for i=1:length(wl1)\n",
    "    ind = indmin((wl .- wl1[i]).^2)\n",
    "    A1_b[i,:] = reshape(reshape(wght_b[1,ind,E,:],nen,75)',nen*75)*(1e4 / (dwav*4*pi))\n",
    "    A1_a[i,:] = reshape(reshape(wght_a[1,ind,E,:],nen,75)',nen*75)*(1e4 / (dwav*4*pi))\n",
    "end"
   ]
  },
  {
   "cell_type": "code",
   "execution_count": null,
   "metadata": {
    "collapsed": true
   },
   "outputs": [],
   "source": [
    "A2_b = zeros(length(wl2),nen*75)\n",
    "A2_a = zeros(length(wl2),nen*75)\n",
    "dwav = abs(wl2[2] - wl2[1])\n",
    "for i=1:length(wl2)\n",
    "    ind = indmin((wl .- wl2[i]).^2)\n",
    "    A2_b[i,:] = reshape(reshape(wght_b[2,ind,E,:],nen,75)',nen*75)*(1e4 / (dwav*4*pi))\n",
    "    A2_a[i,:] = reshape(reshape(wght_a[2,ind,E,:],nen,75)',nen*75)*(1e4 / (dwav*4*pi))\n",
    "end"
   ]
  },
  {
   "cell_type": "code",
   "execution_count": null,
   "metadata": {
    "collapsed": true
   },
   "outputs": [],
   "source": [
    "A3_b = zeros(length(wl3),nen*75)\n",
    "A3_a = zeros(length(wl3),nen*75)\n",
    "dwav = abs(wl3[2] - wl3[1])\n",
    "for i=1:length(wl3)\n",
    "    ind = indmin((wl .- wl3[i]).^2)\n",
    "    A3_b[i,:] = reshape(reshape(wght_b[3,ind,E,:],nen,75)',nen*75)*(1e4 / (dwav*4*pi))\n",
    "    A3_a[i,:] = reshape(reshape(wght_a[3,ind,E,:],nen,75)',nen*75)*(1e4 / (dwav*4*pi))\n",
    "end"
   ]
  },
  {
   "cell_type": "code",
   "execution_count": null,
   "metadata": {
    "collapsed": true
   },
   "outputs": [],
   "source": [
    "A4_b = zeros(length(wl4),nen*75)\n",
    "A4_a = zeros(length(wl4),nen*75)\n",
    "dwav = abs(wl4[2] - wl4[1])\n",
    "for i=1:length(wl4)\n",
    "    ind = indmin((wl .- wl4[i]).^2)\n",
    "    A4_b[i,:] = reshape(reshape(wght_b[4,ind,E,:],nen,75)',nen*75)*(1e4 / (dwav*4*pi))\n",
    "    A4_a[i,:] = reshape(reshape(wght_a[4,ind,E,:],nen,75)',nen*75)*(1e4 / (dwav*4*pi))\n",
    "end"
   ]
  },
  {
   "cell_type": "code",
   "execution_count": null,
   "metadata": {
    "collapsed": true
   },
   "outputs": [],
   "source": [
    "A5_b = zeros(length(wl5),nen*75)\n",
    "A5_a = zeros(length(wl5),nen*75)\n",
    "dwav = abs(wl5[2] - wl5[1])\n",
    "for i=1:length(wl5)\n",
    "    ind = indmin((wl .- wl5[i]).^2)\n",
    "    A5_b[i,:] = reshape(reshape(wght_b[5,ind,E,:],nen,75)',nen*75)*(1e4 / (dwav*4*pi)) \n",
    "    A5_a[i,:] = reshape(reshape(wght_a[5,ind,E,:],nen,75)',nen*75)*(1e4 / (dwav*4*pi)) #(Ph*cm^3)/(m^2 *s*dE*dP*sr*nm)\n",
    "end"
   ]
  },
  {
   "cell_type": "code",
   "execution_count": null,
   "metadata": {
    "collapsed": false
   },
   "outputs": [],
   "source": [
    "dwav = wl\n",
    "A_b = vcat(A1_b,A2_b,A3_b,A4_b,A5_b)\n",
    "A_a = vcat(A1_a,A2_a,A3_a,A4_a,A5_a)\n",
    "spec_b = reshape(vcat(spec1_b,spec2_b,spec3_b,spec4_b,spec5_b),1116)\n",
    "err_b = reshape(vcat(err1_b,err2_b,err3_b,err4_b,err5_b),1116)\n",
    "wavelength = vcat(wl1,wl2,wl3,wl4,wl5)\n",
    "#err_b = spec_err[\"noise_before\"]\n",
    "spec_a = reshape(vcat(spec1_a,spec2_a,spec3_a,spec4_a,spec5_a),1116)\n",
    "err_a = reshape(vcat(err1_a,err2_a,err3_a,err4_a,err5_a),1116);\n",
    "#err_a = spec_err[\"noise_after\"];"
   ]
  },
  {
   "cell_type": "code",
   "execution_count": null,
   "metadata": {
    "collapsed": false
   },
   "outputs": [],
   "source": [
    "energy_50 = dw[\"E\"]\n",
    "pitch_50 = dw[\"p\"]\n",
    "A_b = resize_transfer_matrix(A_b,energy,pitch,energy_50,pitch_50);\n",
    "A_a = resize_transfer_matrix(A_a,energy,pitch,energy_50,pitch_50);"
   ]
  },
  {
   "cell_type": "code",
   "execution_count": null,
   "metadata": {
    "collapsed": false
   },
   "outputs": [],
   "source": [
    "dw_dE = abs(energy_50[2]-energy_50[1])\n",
    "dw_dP = abs(pitch_50[2]-pitch_50[1])\n",
    "dtransfer = dw[\"dW\"]/(dw_dE*dw_dP)/(4*pi);"
   ]
  },
  {
   "cell_type": "code",
   "execution_count": null,
   "metadata": {
    "collapsed": false
   },
   "outputs": [],
   "source": [
    "using NetCDF\n",
    "\n",
    "nrows, ncols = size(A_a)\n",
    "nen = length(energy_50)\n",
    "np = length(pitch_50)\n",
    "# Write transfer matrix to file\n",
    "fname = \"data/after_sawtooth_data.cdf\"\n",
    "\n",
    "isfile(fname) && rm(fname)\n",
    "\n",
    "nrows_id = NcDim(\"nrows\",nrows)\n",
    "ncols_id = NcDim(\"ncols\",ncols)\n",
    "nwav_id = NcDim(\"nwav\",length(wavelength))\n",
    "nen_id = NcDim(\"energy\",nen)\n",
    "np_id = NcDim(\"pitch\",np)\n",
    "\n",
    "t_varid = NcVar(\"transfer_matrix\",[nrows_id,ncols_id])\n",
    "dw_varid = NcVar(\"dw\",[nrows_id,ncols_id])\n",
    "e_varid = NcVar(\"energy\",nen_id)\n",
    "p_varid = NcVar(\"pitch\",np_id)\n",
    "s_varid = NcVar(\"spectra\",nrows_id)\n",
    "wl_varid = NcVar(\"\")\n",
    "err_varid = NcVar(\"error\",nrows_id)\n",
    "ncid = NetCDF.create(fname,[t_varid,dw_varid,e_varid,p_varid,s_varid,err_varid],mode=NC_CLASSIC_MODEL)\n",
    "\n",
    "NetCDF.putvar(ncid,\"transfer_matrix\",A_a)\n",
    "NetCDF.putvar(ncid,\"dw\",dtransfer)\n",
    "NetCDF.putvar(ncid,\"energy\",energy_50)\n",
    "NetCDF.putvar(ncid,\"pitch\",pitch_50)\n",
    "NetCDF.putvar(ncid,\"spectra\",spec_a)\n",
    "NetCDF.putvar(ncid,\"error\",err_a)\n",
    "NetCDF.close(ncid);"
   ]
  },
  {
   "cell_type": "code",
   "execution_count": null,
   "metadata": {
    "collapsed": true
   },
   "outputs": [],
   "source": [
    "nrows, ncols = size(A_b)\n",
    "nen = length(energy_50)\n",
    "np = length(pitch_50)\n",
    "# Write transfer matrix to file\n",
    "fname = \"data/before_sawtooth_data.cdf\"\n",
    "\n",
    "isfile(fname) && rm(fname)\n",
    "\n",
    "nrows_id = NcDim(\"nrows\",nrows)\n",
    "ncols_id = NcDim(\"ncols\",ncols)\n",
    "nen_id = NcDim(\"energy\",nen)\n",
    "np_id = NcDim(\"pitch\",np)\n",
    "\n",
    "t_varid = NcVar(\"transfer_matrix\",[nrows_id,ncols_id])\n",
    "dw_varid = NcVar(\"dw\",[nrows_id,ncols_id])\n",
    "e_varid = NcVar(\"energy\",nen_id)\n",
    "p_varid = NcVar(\"pitch\",np_id)\n",
    "s_varid = NcVar(\"spectra\",nrows_id)\n",
    "err_varid = NcVar(\"error\",nrows_id)\n",
    "ncid = NetCDF.create(fname,[t_varid,dw_varid,e_varid,p_varid,s_varid,err_varid],mode=NC_CLASSIC_MODEL)\n",
    "\n",
    "NetCDF.putvar(ncid,\"transfer_matrix\",A_b)\n",
    "NetCDF.putvar(ncid,\"dw\",dtransfer)\n",
    "NetCDF.putvar(ncid,\"energy\",energy_50)\n",
    "NetCDF.putvar(ncid,\"pitch\",pitch_50)\n",
    "NetCDF.putvar(ncid,\"spectra\",spec_b)\n",
    "NetCDF.putvar(ncid,\"error\",err_b)\n",
    "NetCDF.close(ncid);"
   ]
  },
  {
   "cell_type": "code",
   "execution_count": null,
   "metadata": {
    "collapsed": true
   },
   "outputs": [],
   "source": []
  }
 ],
 "metadata": {
  "kernelspec": {
   "display_name": "Julia 0.4.1",
   "language": "julia",
   "name": "julia-0.4"
  },
  "language_info": {
   "file_extension": ".jl",
   "mimetype": "application/julia",
   "name": "julia",
   "version": "0.4.1"
  }
 },
 "nbformat": 4,
 "nbformat_minor": 0
}
