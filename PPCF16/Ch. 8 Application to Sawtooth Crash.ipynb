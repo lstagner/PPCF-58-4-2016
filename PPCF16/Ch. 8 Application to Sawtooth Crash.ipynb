{
 "cells": [
  {
   "cell_type": "code",
   "execution_count": 8,
   "metadata": {
    "collapsed": true
   },
   "outputs": [],
   "source": [
    "using ProgressMeter"
   ]
  },
  {
   "cell_type": "code",
   "execution_count": 1,
   "metadata": {
    "collapsed": true
   },
   "outputs": [
    {
     "name": "stderr",
     "output_type": "stream",
     "text": [
      "WARNING: Base.Uint is deprecated, use UInt instead.\n",
      "  likely near /home/lstagner/.julia/v0.4/NetCDF/src/NetCDF.jl:438\n",
      "WARNING: Base.Uint is deprecated, use UInt instead.\n",
      "  likely near /home/lstagner/.julia/v0.4/NetCDF/src/NetCDF.jl:438\n",
      "WARNING: Union(args...) is deprecated, use Union{args...} instead.\n",
      " in depwarn at deprecated.jl:73\n",
      " in call at deprecated.jl:50\n",
      " in include at ./boot.jl:261\n",
      " in include_from_node1 at ./loading.jl:304\n",
      " in require at ./loading.jl:243\n",
      " in include at ./boot.jl:261\n",
      " in include_from_node1 at ./loading.jl:304\n",
      " in include at ./boot.jl:261\n",
      " in include_from_node1 at ./loading.jl:304\n",
      " in require at ./loading.jl:243\n",
      " in include_string at loading.jl:266\n",
      " in execute_request_0x535c5df2 at /home/lstagner/.julia/v0.4/IJulia/src/execute_request.jl:177\n",
      " in eventloop at /home/lstagner/.julia/v0.4/IJulia/src/IJulia.jl:141\n",
      " in anonymous at task.jl:447\n",
      "while loading /home/lstagner/.julia/v0.4/NetCDF/src/NetCDF.jl, in expression starting on line 429\n",
      "WARNING: Base.String is deprecated, use AbstractString instead.\n",
      "  likely near /home/lstagner/.julia/v0.4/NetCDF/src/NetCDF.jl:429\n",
      "WARNING: Base.String is deprecated, use AbstractString instead.\n",
      "  likely near /home/lstagner/.julia/v0.4/NetCDF/src/NetCDF.jl:429\n",
      "WARNING: Base.String is deprecated, use AbstractString instead.\n",
      "  likely near /home/lstagner/.julia/v0.4/NetCDF/src/NetCDF.jl:429\n",
      "WARNING: Base.String is deprecated, use AbstractString instead.\n",
      "  likely near /home/lstagner/.julia/v0.4/NetCDF/src/NetCDF.jl:430\n",
      "WARNING: Base.String is deprecated, use AbstractString instead.\n",
      "  likely near /home/lstagner/.julia/v0.4/NetCDF/src/NetCDF.jl:429\n",
      "WARNING: Base.String is deprecated, use AbstractString instead.\n",
      "  likely near /home/lstagner/.julia/v0.4/NetCDF/src/NetCDF.jl:429\n",
      "WARNING: Base.String is deprecated, use AbstractString instead.\n",
      "  likely near /home/lstagner/.julia/v0.4/NetCDF/src/NetCDF.jl:429\n",
      "WARNING: Base.String is deprecated, use AbstractString instead.\n",
      "  likely near /home/lstagner/.julia/v0.4/NetCDF/src/NetCDF.jl:430\n",
      "WARNING: Base.String is deprecated, use AbstractString instead.\n",
      "  likely near /home/lstagner/.julia/v0.4/NetCDF/src/NetCDF.jl:69\n",
      "WARNING: Union(args...) is deprecated, use Union{args...} instead.\n",
      " in depwarn at deprecated.jl:73\n",
      " in call at deprecated.jl:50\n",
      " in include at ./boot.jl:261\n",
      " in include_from_node1 at ./loading.jl:304\n",
      " in require at ./loading.jl:243\n",
      " in include at ./boot.jl:261\n",
      " in include_from_node1 at ./loading.jl:304\n",
      " in include at ./boot.jl:261\n",
      " in include_from_node1 at ./loading.jl:304\n",
      " in require at ./loading.jl:243\n",
      " in include_string at loading.jl:266\n",
      " in execute_request_0x535c5df2 at /home/lstagner/.julia/v0.4/IJulia/src/execute_request.jl:177\n",
      " in eventloop at /home/lstagner/.julia/v0.4/IJulia/src/IJulia.jl:141\n",
      " in anonymous at task.jl:447\n",
      "while loading /home/lstagner/.julia/v0.4/NetCDF/src/NetCDF.jl, in expression starting on line 429\n",
      "WARNING: Base.String is deprecated, use AbstractString instead.\n",
      "  likely near /home/lstagner/.julia/v0.4/NetCDF/src/NetCDF.jl:429\n",
      "WARNING: Union(args...) is deprecated, use Union{args...} instead.\n",
      " in depwarn at deprecated.jl:73\n",
      " in call at deprecated.jl:50\n",
      " in include at ./boot.jl:261\n",
      " in include_from_node1 at ./loading.jl:304\n",
      " in require at ./loading.jl:243\n",
      " in include at ./boot.jl:261\n",
      " in include_from_node1 at ./loading.jl:304\n",
      " in include at ./boot.jl:261\n",
      " in include_from_node1 at ./loading.jl:304\n",
      " in require at ./loading.jl:243\n",
      " in include_string at loading.jl:266\n",
      " in execute_request_0x535c5df2 at /home/lstagner/.julia/v0.4/IJulia/src/execute_request.jl:177\n",
      " in eventloop at /home/lstagner/.julia/v0.4/IJulia/src/IJulia.jl:141\n",
      " in anonymous at task.jl:447\n",
      "while loading /home/lstagner/.julia/v0.4/NetCDF/src/NetCDF.jl, in expression starting on line 429\n",
      "WARNING: Base.String is deprecated, use AbstractString instead.\n",
      "  likely near /home/lstagner/.julia/v0.4/NetCDF/src/NetCDF.jl:429\n",
      "WARNING: Union(args...) is deprecated, use Union{args...} instead.\n",
      " in depwarn at deprecated.jl:73\n",
      " in call at deprecated.jl:50\n",
      " in include at ./boot.jl:261\n",
      " in include_from_node1 at ./loading.jl:304\n",
      " in require at ./loading.jl:243\n",
      " in include at ./boot.jl:261\n",
      " in include_from_node1 at ./loading.jl:304\n",
      " in include at ./boot.jl:261\n",
      " in include_from_node1 at ./loading.jl:304\n",
      " in require at ./loading.jl:243\n",
      " in include_string at loading.jl:266\n",
      " in execute_request_0x535c5df2 at /home/lstagner/.julia/v0.4/IJulia/src/execute_request.jl:177\n",
      " in eventloop at /home/lstagner/.julia/v0.4/IJulia/src/IJulia.jl:141\n",
      " in anonymous at task.jl:447\n",
      "while loading /home/lstagner/.julia/v0.4/NetCDF/src/NetCDF.jl, in expression starting on line 429\n",
      "WARNING: Base.String is deprecated, use AbstractString instead.\n",
      "  likely near /home/lstagner/.julia/v0.4/NetCDF/src/NetCDF.jl:429\n",
      "WARNING: Union(args...) is deprecated, use Union{args...} instead.\n",
      " in depwarn at deprecated.jl:73\n",
      " in call at deprecated.jl:50\n",
      " in include at ./boot.jl:261\n",
      " in include_from_node1 at ./loading.jl:304\n",
      " in require at ./loading.jl:243\n",
      " in include at ./boot.jl:261\n",
      " in include_from_node1 at ./loading.jl:304\n",
      " in include at ./boot.jl:261\n",
      " in include_from_node1 at ./loading.jl:304\n",
      " in require at ./loading.jl:243\n",
      " in include_string at loading.jl:266\n",
      " in execute_request_0x535c5df2 at /home/lstagner/.julia/v0.4/IJulia/src/execute_request.jl:177\n",
      " in eventloop at /home/lstagner/.julia/v0.4/IJulia/src/IJulia.jl:141\n",
      " in anonymous at task.jl:447\n",
      "while loading /home/lstagner/.julia/v0.4/NetCDF/src/NetCDF.jl, in expression starting on line 429\n",
      "WARNING: Base.String is deprecated, use AbstractString instead.\n",
      "  likely near /home/lstagner/.julia/v0.4/NetCDF/src/NetCDF.jl:430\n",
      "WARNING: Union(args...) is deprecated, use Union{args...} instead.\n",
      " in depwarn at deprecated.jl:73\n",
      " in call at deprecated.jl:50\n",
      " in include at ./boot.jl:261\n",
      " in include_from_node1 at ./loading.jl:304\n",
      " in require at ./loading.jl:243\n",
      " in include at ./boot.jl:261\n",
      " in include_from_node1 at ./loading.jl:304\n",
      " in include at ./boot.jl:261\n",
      " in include_from_node1 at ./loading.jl:304\n",
      " in require at ./loading.jl:243\n",
      " in include_string at loading.jl:266\n",
      " in execute_request_0x535c5df2 at /home/lstagner/.julia/v0.4/IJulia/src/execute_request.jl:177\n",
      " in eventloop at /home/lstagner/.julia/v0.4/IJulia/src/IJulia.jl:141\n",
      " in anonymous at task.jl:447\n",
      "while loading /home/lstagner/.julia/v0.4/NetCDF/src/NetCDF.jl, in expression starting on line 430\n",
      "WARNING: Base.String is deprecated, use AbstractString instead.\n",
      "  likely near /home/lstagner/.julia/v0.4/NetCDF/src/NetCDF.jl:104\n",
      "WARNING: Union(args...) is deprecated, use Union{args...} instead.\n",
      " in depwarn at deprecated.jl:73\n",
      " in call at deprecated.jl:50\n",
      " in include at ./boot.jl:261\n",
      " in include_from_node1 at ./loading.jl:304\n",
      " in require at ./loading.jl:243\n",
      " in include at ./boot.jl:261\n",
      " in include_from_node1 at ./loading.jl:304\n",
      " in include at ./boot.jl:261\n",
      " in include_from_node1 at ./loading.jl:304\n",
      " in require at ./loading.jl:243\n",
      " in include_string at loading.jl:266\n",
      " in execute_request_0x535c5df2 at /home/lstagner/.julia/v0.4/IJulia/src/execute_request.jl:177\n",
      " in eventloop at /home/lstagner/.julia/v0.4/IJulia/src/IJulia.jl:141\n",
      " in anonymous at task.jl:447\n",
      "while loading /home/lstagner/.julia/v0.4/NetCDF/src/NetCDF.jl, in expression starting on line 104\n",
      "WARNING: Base.String is deprecated, use AbstractString instead.\n",
      "  likely near /home/lstagner/.julia/v0.4/NetCDF/src/NetCDF.jl:104\n",
      "WARNING: Union(args...) is deprecated, use Union{args...} instead.\n",
      " in depwarn at deprecated.jl:73\n",
      " in call at deprecated.jl:50\n",
      " in include at ./boot.jl:261\n",
      " in include_from_node1 at ./loading.jl:304\n",
      " in require at ./loading.jl:243\n",
      " in include at ./boot.jl:261\n",
      " in include_from_node1 at ./loading.jl:304\n",
      " in include at ./boot.jl:261\n",
      " in include_from_node1 at ./loading.jl:304\n",
      " in require at ./loading.jl:243\n",
      " in include_string at loading.jl:266\n",
      " in execute_request_0x535c5df2 at /home/lstagner/.julia/v0.4/IJulia/src/execute_request.jl:177\n",
      " in eventloop at /home/lstagner/.julia/v0.4/IJulia/src/IJulia.jl:141\n",
      " in anonymous at task.jl:447\n",
      "while loading /home/lstagner/.julia/v0.4/NetCDF/src/NetCDF.jl, in expression starting on line 104\n",
      "WARNING: Union(args...) is deprecated, use Union{args...} instead.\n",
      " in depwarn at deprecated.jl:73\n",
      " in call at deprecated.jl:50\n",
      " in include at ./boot.jl:261\n",
      " in include_from_node1 at ./loading.jl:304\n",
      " in require at ./loading.jl:243\n",
      " in include at ./boot.jl:261\n",
      " in include_from_node1 at ./loading.jl:304\n",
      " in include at ./boot.jl:261\n",
      " in include_from_node1 at ./loading.jl:304\n",
      " in require at ./loading.jl:243\n",
      " in include_string at loading.jl:266\n",
      " in execute_request_0x535c5df2 at /home/lstagner/.julia/v0.4/IJulia/src/execute_request.jl:177\n",
      " in eventloop at /home/lstagner/.julia/v0.4/IJulia/src/IJulia.jl:141\n",
      " in anonymous at task.jl:447\n",
      "while loading /home/lstagner/.julia/v0.4/NetCDF/src/NetCDF.jl, in expression starting on line 104\n",
      "WARNING: Base.Uint16 is deprecated, use UInt16 instead.\n",
      "  likely near /home/lstagner/.julia/v0.4/NetCDF/src/NetCDF.jl:438\n",
      "WARNING: Base.Uint16 is deprecated, use UInt16 instead.\n",
      "  likely near /home/lstagner/.julia/v0.4/NetCDF/src/NetCDF.jl:438\n",
      "WARNING: Base.Uint8 is deprecated, use UInt8 instead.\n",
      "  likely near /home/lstagner/.julia/v0.4/NetCDF/src/netcdf_helpers.jl:35\n",
      "WARNING: Base.Uint8 is deprecated, use UInt8 instead.\n",
      "  likely near /home/lstagner/.julia/v0.4/NetCDF/src/netcdf_helpers.jl:44\n",
      "WARNING: Base.Uint is deprecated, use UInt instead.\n",
      "  likely near /home/lstagner/.julia/v0.4/NetCDF/src/netcdf_helpers.jl:58\n",
      "WARNING: Base.Uint is deprecated, use UInt instead.\n",
      "  likely near /home/lstagner/.julia/v0.4/NetCDF/src/netcdf_helpers.jl:59\n",
      "WARNING: Base.String is deprecated, use AbstractString instead.\n",
      "  likely near /home/lstagner/.julia/v0.4/NetCDF/src/netcdf_helpers.jl:65\n",
      "WARNING: Base.Uint16 is deprecated, use UInt16 instead.\n",
      "  likely near /home/lstagner/.julia/v0.4/NetCDF/src/netcdf_helpers.jl:65\n",
      "WARNING: Base.String is deprecated, use AbstractString instead.\n",
      "  likely near /home/lstagner/.julia/v0.4/NetCDF/src/netcdf_helpers.jl:83\n",
      "WARNING: Base.String is deprecated, use AbstractString instead.\n",
      "  likely near /home/lstagner/.julia/v0.4/NetCDF/src/netcdf_helpers.jl:127\n",
      "WARNING: Base.String is deprecated, use AbstractString instead.\n",
      "  likely near /home/lstagner/.julia/v0.4/NetCDF/src/netcdf_helpers.jl:128\n",
      "WARNING: Base.String is deprecated, use AbstractString instead.\n",
      "  likely near /home/lstagner/.julia/v0.4/NetCDF/src/netcdf_helpers.jl:129\n",
      "WARNING: Base.String is deprecated, use AbstractString instead.\n",
      "  likely near /home/lstagner/.julia/v0.4/NetCDF/src/netcdf_helpers.jl:130\n",
      "WARNING: Base.String is deprecated, use AbstractString instead.\n",
      "  likely near /home/lstagner/.julia/v0.4/NetCDF/src/netcdf_helpers.jl:131\n",
      "WARNING: Base.String is deprecated, use AbstractString instead.\n",
      "  likely near /home/lstagner/.julia/v0.4/NetCDF/src/netcdf_helpers.jl:132\n",
      "WARNING: Base.String is deprecated, use AbstractString instead.\n",
      "  likely near /home/lstagner/.julia/v0.4/NetCDF/src/netcdf_helpers.jl:133\n",
      "WARNING: Base.String is deprecated, use AbstractString instead.\n",
      "  likely near /home/lstagner/.julia/v0.4/NetCDF/src/netcdf_helpers.jl:133\n",
      "WARNING: Base.String is deprecated, use AbstractString instead.\n",
      "  likely near /home/lstagner/.julia/v0.4/NetCDF/src/netcdf_helpers.jl:134\n",
      "WARNING: Base.String is deprecated, use AbstractString instead.\n",
      "  likely near /home/lstagner/.julia/v0.4/NetCDF/src/netcdf_helpers.jl:136\n",
      "WARNING: Base.String is deprecated, use AbstractString instead.\n",
      "  likely near /home/lstagner/.julia/v0.4/NetCDF/src/netcdf_helpers.jl:137\n",
      "WARNING: Base.String is deprecated, use AbstractString instead.\n",
      "  likely near /home/lstagner/.julia/v0.4/NetCDF/src/netcdf_helpers.jl:138\n",
      "WARNING: Base.String is deprecated, use AbstractString instead.\n",
      "  likely near /home/lstagner/.julia/v0.4/NetCDF/src/netcdf_helpers.jl:139\n",
      "WARNING: Base.String is deprecated, use AbstractString instead.\n",
      "  likely near /home/lstagner/.julia/v0.4/NetCDF/src/netcdf_helpers.jl:140\n",
      "WARNING: Base.String is deprecated, use AbstractString instead.\n",
      "  likely near /home/lstagner/.julia/v0.4/NetCDF/src/netcdf_helpers.jl:141\n",
      "WARNING: Base.String is deprecated, use AbstractString instead.\n",
      "  likely near /home/lstagner/.julia/v0.4/NetCDF/src/netcdf_helpers.jl:142\n",
      "WARNING: Base.String is deprecated, use AbstractString instead.\n",
      "  likely near /home/lstagner/.julia/v0.4/NetCDF/src/netcdf_helpers.jl:146\n",
      "WARNING: Base.String is deprecated, use AbstractString instead.\n",
      "  likely near /home/lstagner/.julia/v0.4/NetCDF/src/netcdf_helpers.jl:151\n",
      "WARNING: Base.Uint8 is deprecated, use UInt8 instead.\n",
      "  likely near /home/lstagner/.julia/v0.4/NetCDF/src/netcdf_helpers.jl:151\n",
      "WARNING: Base.String is deprecated, use AbstractString instead.\n",
      "  likely near /home/lstagner/.julia/v0.4/NetCDF/src/netcdf_helpers.jl:152\n",
      "WARNING: Base.Uint8 is deprecated, use UInt8 instead.\n",
      "  likely near /home/lstagner/.julia/v0.4/NetCDF/src/netcdf_helpers.jl:152\n",
      "WARNING: Base.String is deprecated, use AbstractString instead.\n",
      "  likely near /home/lstagner/.julia/v0.4/NetCDF/src/netcdf_helpers.jl:153\n",
      "WARNING: Base.String is deprecated, use AbstractString instead.\n",
      "  likely near /home/lstagner/.julia/v0.4/NetCDF/src/netcdf_helpers.jl:154\n",
      "WARNING: Base.String is deprecated, use AbstractString instead.\n",
      "  likely near /home/lstagner/.julia/v0.4/NetCDF/src/netcdf_helpers.jl:155\n",
      "WARNING: Base.String is deprecated, use AbstractString instead.\n",
      "  likely near /home/lstagner/.julia/v0.4/NetCDF/src/netcdf_helpers.jl:156\n",
      "WARNING: Base.String is deprecated, use AbstractString instead.\n",
      "  likely near /home/lstagner/.julia/v0.4/NetCDF/src/netcdf_helpers.jl:157\n",
      "WARNING: Base.String is deprecated, use AbstractString instead.\n",
      "  likely near /home/lstagner/.julia/v0.4/NetCDF/src/netcdf_helpers.jl:158\n",
      "WARNING: Base.String is deprecated, use AbstractString instead.\n",
      "  likely near /home/lstagner/.julia/v0.4/NetCDF/src/NetCDF.jl:153\n",
      "WARNING: Base.String is deprecated, use AbstractString instead.\n",
      "  likely near /home/lstagner/.julia/v0.4/NetCDF/src/NetCDF.jl:153\n",
      "WARNING: Base.String is deprecated, use AbstractString instead.\n",
      "  likely near /home/lstagner/.julia/v0.4/NetCDF/src/NetCDF.jl:153\n",
      "WARNING: Base.String is deprecated, use AbstractString instead.\n",
      "  likely near /home/lstagner/.julia/v0.4/NetCDF/src/NetCDF.jl:180\n",
      "WARNING: Base.String is deprecated, use AbstractString instead.\n",
      "  likely near /home/lstagner/.julia/v0.4/NetCDF/src/NetCDF.jl:180\n",
      "WARNING: Base.String is deprecated, use AbstractString instead.\n",
      "  likely near /home/lstagner/.julia/v0.4/NetCDF/src/NetCDF.jl:180\n",
      "WARNING: Base.Uint is deprecated, use UInt instead.\n",
      "  likely near /home/lstagner/.julia/v0.4/NetCDF/src/NetCDF.jl:242\n",
      "WARNING: Base.Uint is deprecated, use UInt instead.\n",
      "  likely near /home/lstagner/.julia/v0.4/NetCDF/src/NetCDF.jl:242\n",
      "WARNING: Base.Uint is deprecated, use UInt instead.\n",
      "  likely near /home/lstagner/.julia/v0.4/NetCDF/src/NetCDF.jl:242\n",
      "WARNING: Base.Uint is deprecated, use UInt instead.\n",
      "  likely near /home/lstagner/.julia/v0.4/NetCDF/src/NetCDF.jl:242\n",
      "WARNING: Base.Uint is deprecated, use UInt instead.\n",
      "  likely near /home/lstagner/.julia/v0.4/NetCDF/src/NetCDF.jl:242\n",
      "WARNING: Base.Uint is deprecated, use UInt instead.\n",
      "  likely near /home/lstagner/.julia/v0.4/NetCDF/src/NetCDF.jl:242\n",
      "WARNING: Base.Uint is deprecated, use UInt instead.\n",
      "  likely near /home/lstagner/.julia/v0.4/NetCDF/src/NetCDF.jl:242\n",
      "WARNING: Base.Uint is deprecated, use UInt instead.\n",
      "  likely near /home/lstagner/.julia/v0.4/NetCDF/src/NetCDF.jl:242\n",
      "WARNING: Base.Uint is deprecated, use UInt instead.\n",
      "  likely near /home/lstagner/.julia/v0.4/NetCDF/src/NetCDF.jl:242\n",
      "WARNING: Base.Uint is deprecated, use UInt instead.\n",
      "  likely near /home/lstagner/.julia/v0.4/NetCDF/src/NetCDF.jl:242\n",
      "WARNING: Base.Uint is deprecated, use UInt instead.\n",
      "  likely near /home/lstagner/.julia/v0.4/NetCDF/src/NetCDF.jl:242\n",
      "WARNING: Base.Uint is deprecated, use UInt instead.\n",
      "  likely near /home/lstagner/.julia/v0.4/NetCDF/src/NetCDF.jl:242\n",
      "WARNING: Base.Uint is deprecated, use UInt instead.\n",
      "  likely near /home/lstagner/.julia/v0.4/NetCDF/src/NetCDF.jl:242\n",
      "WARNING: Base.Uint is deprecated, use UInt instead.\n",
      "  likely near /home/lstagner/.julia/v0.4/NetCDF/src/NetCDF.jl:242\n",
      "WARNING: Base.Uint is deprecated, use UInt instead.\n",
      "  likely near /home/lstagner/.julia/v0.4/NetCDF/src/NetCDF.jl:242\n",
      "WARNING: Base.Uint is deprecated, use UInt instead.\n",
      "  likely near /home/lstagner/.julia/v0.4/NetCDF/src/NetCDF.jl:242\n",
      "WARNING: Base.Uint is deprecated, use UInt instead.\n",
      "  likely near /home/lstagner/.julia/v0.4/NetCDF/src/NetCDF.jl:242\n",
      "WARNING: Base.Uint is deprecated, use UInt instead.\n",
      "  likely near /home/lstagner/.julia/v0.4/NetCDF/src/NetCDF.jl:242\n",
      "WARNING: Base.Uint is deprecated, use UInt instead.\n",
      "  likely near /home/lstagner/.julia/v0.4/NetCDF/src/NetCDF.jl:242\n",
      "WARNING: Base.Uint is deprecated, use UInt instead.\n",
      "  likely near /home/lstagner/.julia/v0.4/NetCDF/src/NetCDF.jl:242\n",
      "WARNING: Base.Uint is deprecated, use UInt instead.\n",
      "  likely near /home/lstagner/.julia/v0.4/NetCDF/src/NetCDF.jl:242\n",
      "WARNING: Base.String is deprecated, use AbstractString instead.\n",
      "  likely near /home/lstagner/.julia/v0.4/NetCDF/src/NetCDF.jl:260\n",
      "WARNING: Base.String is deprecated, use AbstractString instead.\n",
      "  likely near /home/lstagner/.julia/v0.4/NetCDF/src/NetCDF.jl:429\n",
      "WARNING: Base.String is deprecated, use AbstractString instead.\n",
      "  likely near /home/lstagner/.julia/v0.4/NetCDF/src/NetCDF.jl:429\n",
      "WARNING: Base.String is deprecated, use AbstractString instead.\n",
      "  likely near /home/lstagner/.julia/v0.4/NetCDF/src/NetCDF.jl:430\n",
      "WARNING: Base.String is deprecated, use AbstractString instead.\n",
      "  likely near /home/lstagner/.julia/v0.4/NetCDF/src/NetCDF.jl:430\n",
      "WARNING: Base.String is deprecated, use AbstractString instead.\n",
      "  likely near /home/lstagner/.julia/v0.4/NetCDF/src/NetCDF.jl:287\n",
      "WARNING: Base.String is deprecated, use AbstractString instead.\n",
      "  likely near /home/lstagner/.julia/v0.4/NetCDF/src/NetCDF.jl:287\n",
      "WARNING: Base.String is deprecated, use AbstractString instead.\n",
      "  likely near /home/lstagner/.julia/v0.4/NetCDF/src/NetCDF.jl:287\n",
      "WARNING: Base.Uint is deprecated, use UInt instead.\n",
      "  likely near /home/lstagner/.julia/v0.4/NetCDF/src/NetCDF.jl:328\n",
      "WARNING: Base.Uint is deprecated, use UInt instead.\n",
      "  likely near /home/lstagner/.julia/v0.4/NetCDF/src/NetCDF.jl:328\n",
      "WARNING: Base.Uint is deprecated, use UInt instead.\n",
      "  likely near /home/lstagner/.julia/v0.4/NetCDF/src/NetCDF.jl:328\n",
      "WARNING: Base.Uint is deprecated, use UInt instead.\n",
      "  likely near /home/lstagner/.julia/v0.4/NetCDF/src/NetCDF.jl:328\n",
      "WARNING: Base.Uint is deprecated, use UInt instead.\n",
      "  likely near /home/lstagner/.julia/v0.4/NetCDF/src/NetCDF.jl:328\n",
      "WARNING: Base.Uint is deprecated, use UInt instead.\n",
      "  likely near /home/lstagner/.julia/v0.4/NetCDF/src/NetCDF.jl:328\n",
      "WARNING: Base.Uint is deprecated, use UInt instead.\n",
      "  likely near /home/lstagner/.julia/v0.4/NetCDF/src/NetCDF.jl:328\n",
      "WARNING: Base.String is deprecated, use AbstractString instead.\n",
      "  likely near /home/lstagner/.julia/v0.4/NetCDF/src/NetCDF.jl:429\n",
      "WARNING: Base.String is deprecated, use AbstractString instead.\n",
      "  likely near /home/lstagner/.julia/v0.4/NetCDF/src/NetCDF.jl:430\n",
      "WARNING: Base.Uint16 is deprecated, use UInt16 instead.\n",
      "  likely near /home/lstagner/.julia/v0.4/NetCDF/src/NetCDF.jl:429\n",
      "WARNING: Base.String is deprecated, use AbstractString instead.\n",
      "  likely near /home/lstagner/.julia/v0.4/NetCDF/src/NetCDF.jl:429\n",
      "WARNING: Base.String is deprecated, use AbstractString instead.\n",
      "  likely near /home/lstagner/.julia/v0.4/NetCDF/src/NetCDF.jl:429\n",
      "WARNING: Base.String is deprecated, use AbstractString instead.\n",
      "  likely near /home/lstagner/.julia/v0.4/NetCDF/src/NetCDF.jl:429\n",
      "WARNING: Base.String is deprecated, use AbstractString instead.\n",
      "  likely near /home/lstagner/.julia/v0.4/NetCDF/src/NetCDF.jl:430\n",
      "WARNING: Base.Uint16 is deprecated, use UInt16 instead.\n",
      "  likely near /home/lstagner/.julia/v0.4/NetCDF/src/NetCDF.jl:439\n",
      "WARNING: Base.String is deprecated, use AbstractString instead.\n",
      "  likely near /home/lstagner/.julia/v0.4/NetCDF/src/NetCDF.jl:439\n",
      "WARNING: Base.String is deprecated, use AbstractString instead.\n",
      "  likely near /home/lstagner/.julia/v0.4/NetCDF/src/NetCDF.jl:439\n",
      "WARNING: Base.String is deprecated, use AbstractString instead.\n",
      "  likely near /home/lstagner/.julia/v0.4/NetCDF/src/NetCDF.jl:439\n",
      "WARNING: Base.String is deprecated, use AbstractString instead.\n",
      "  likely near /home/lstagner/.julia/v0.4/NetCDF/src/NetCDF.jl:429\n",
      "WARNING: Base.String is deprecated, use AbstractString instead.\n",
      "  likely near /home/lstagner/.julia/v0.4/NetCDF/src/NetCDF.jl:429\n",
      "WARNING: Base.String is deprecated, use AbstractString instead.\n",
      "  likely near /home/lstagner/.julia/v0.4/NetCDF/src/NetCDF.jl:429\n",
      "WARNING: Base.String is deprecated, use AbstractString instead.\n",
      "  likely near /home/lstagner/.julia/v0.4/NetCDF/src/NetCDF.jl:429\n",
      "WARNING: Base.String is deprecated, use AbstractString instead.\n",
      "  likely near /home/lstagner/.julia/v0.4/NetCDF/src/NetCDF.jl:429\n",
      "WARNING: Base.String is deprecated, use AbstractString instead.\n",
      "  likely near /home/lstagner/.julia/v0.4/NetCDF/src/NetCDF.jl:429\n",
      "WARNING: Base.String is deprecated, use AbstractString instead.\n",
      "  likely near /home/lstagner/.julia/v0.4/NetCDF/src/NetCDF.jl:430\n",
      "WARNING: Base.String is deprecated, use AbstractString instead.\n",
      "  likely near /home/lstagner/.julia/v0.4/NetCDF/src/NetCDF.jl:430\n",
      "WARNING: Base.String is deprecated, use AbstractString instead.\n",
      "  likely near /home/lstagner/.julia/v0.4/NetCDF/src/NetCDF.jl:429\n",
      "WARNING: Base.String is deprecated, use AbstractString instead.\n",
      "  likely near /home/lstagner/.julia/v0.4/NetCDF/src/NetCDF.jl:429\n",
      "WARNING: Base.String is deprecated, use AbstractString instead.\n",
      "  likely near /home/lstagner/.julia/v0.4/NetCDF/src/NetCDF.jl:429\n",
      "WARNING: Base.String is deprecated, use AbstractString instead.\n",
      "  likely near /home/lstagner/.julia/v0.4/NetCDF/src/NetCDF.jl:430\n",
      "WARNING: Base.String is deprecated, use AbstractString instead.\n",
      "  likely near /home/lstagner/.julia/v0.4/NetCDF/src/NetCDF.jl:429\n",
      "WARNING: Base.String is deprecated, use AbstractString instead.\n",
      "  likely near /home/lstagner/.julia/v0.4/NetCDF/src/NetCDF.jl:429\n",
      "WARNING: Base.String is deprecated, use AbstractString instead.\n",
      "  likely near /home/lstagner/.julia/v0.4/NetCDF/src/NetCDF.jl:429\n",
      "WARNING: Base.String is deprecated, use AbstractString instead.\n",
      "  likely near /home/lstagner/.julia/v0.4/NetCDF/src/NetCDF.jl:429\n",
      "WARNING: Base.String is deprecated, use AbstractString instead.\n",
      "  likely near /home/lstagner/.julia/v0.4/NetCDF/src/NetCDF.jl:429\n",
      "WARNING: Base.String is deprecated, use AbstractString instead.\n",
      "  likely near /home/lstagner/.julia/v0.4/NetCDF/src/NetCDF.jl:429\n",
      "WARNING: Base.String is deprecated, use AbstractString instead.\n",
      "  likely near /home/lstagner/.julia/v0.4/NetCDF/src/NetCDF.jl:430\n",
      "WARNING: Base.String is deprecated, use AbstractString instead.\n",
      "  likely near /home/lstagner/.julia/v0.4/NetCDF/src/NetCDF.jl:430\n",
      "WARNING: Base.String is deprecated, use AbstractString instead.\n",
      "  likely near /home/lstagner/.julia/v0.4/NetCDF/src/NetCDF.jl:520\n",
      "WARNING: Base.String is deprecated, use AbstractString instead.\n",
      "  likely near /home/lstagner/.julia/v0.4/NetCDF/src/NetCDF.jl:520\n",
      "WARNING: Base.String is deprecated, use AbstractString instead.\n",
      "  likely near /home/lstagner/.julia/v0.4/NetCDF/src/NetCDF.jl:429\n",
      "WARNING: Base.String is deprecated, use AbstractString instead.\n",
      "  likely near /home/lstagner/.julia/v0.4/NetCDF/src/NetCDF.jl:429\n",
      "WARNING: Base.String is deprecated, use AbstractString instead.\n",
      "  likely near /home/lstagner/.julia/v0.4/NetCDF/src/NetCDF.jl:429\n",
      "WARNING: Base.String is deprecated, use AbstractString instead.\n",
      "  likely near /home/lstagner/.julia/v0.4/NetCDF/src/NetCDF.jl:429\n",
      "WARNING: Base.String is deprecated, use AbstractString instead.\n",
      "  likely near /home/lstagner/.julia/v0.4/NetCDF/src/NetCDF.jl:429\n",
      "WARNING: Base.String is deprecated, use AbstractString instead.\n",
      "  likely near /home/lstagner/.julia/v0.4/NetCDF/src/NetCDF.jl:429\n",
      "WARNING: Base.String is deprecated, use AbstractString instead.\n",
      "  likely near /home/lstagner/.julia/v0.4/NetCDF/src/NetCDF.jl:430\n",
      "WARNING: Base.String is deprecated, use AbstractString instead.\n",
      "  likely near /home/lstagner/.julia/v0.4/NetCDF/src/NetCDF.jl:430\n",
      "WARNING: Base.String is deprecated, use AbstractString instead.\n",
      "  likely near /home/lstagner/.julia/v0.4/NetCDF/src/NetCDF.jl:429\n",
      "WARNING: Base.String is deprecated, use AbstractString instead.\n",
      "  likely near /home/lstagner/.julia/v0.4/NetCDF/src/NetCDF.jl:430\n",
      "WARNING: Base.String is deprecated, use AbstractString instead.\n",
      "  likely near /home/lstagner/.julia/v0.4/NetCDF/src/NetCDF.jl:429\n",
      "WARNING: Base.String is deprecated, use AbstractString instead.\n",
      "  likely near /home/lstagner/.julia/v0.4/NetCDF/src/NetCDF.jl:429\n",
      "WARNING: Base.String is deprecated, use AbstractString instead.\n",
      "  likely near /home/lstagner/.julia/v0.4/NetCDF/src/NetCDF.jl:429\n",
      "WARNING: Base.String is deprecated, use AbstractString instead.\n",
      "  likely near /home/lstagner/.julia/v0.4/NetCDF/src/NetCDF.jl:429\n",
      "WARNING: Base.String is deprecated, use AbstractString instead.\n",
      "  likely near /home/lstagner/.julia/v0.4/NetCDF/src/NetCDF.jl:429\n",
      "WARNING: Base.String is deprecated, use AbstractString instead.\n",
      "  likely near /home/lstagner/.julia/v0.4/NetCDF/src/NetCDF.jl:429\n",
      "WARNING: Base.String is deprecated, use AbstractString instead.\n",
      "  likely near /home/lstagner/.julia/v0.4/NetCDF/src/NetCDF.jl:430\n",
      "WARNING: Base.String is deprecated, use AbstractString instead.\n",
      "  likely near /home/lstagner/.julia/v0.4/NetCDF/src/NetCDF.jl:430\n",
      "WARNING: Base.String is deprecated, use AbstractString instead.\n",
      "  likely near /home/lstagner/.julia/v0.4/NetCDF/src/NetCDF.jl:561\n",
      "WARNING: Base.String is deprecated, use AbstractString instead.\n",
      "  likely near /home/lstagner/.julia/v0.4/NetCDF/src/NetCDF.jl:561\n",
      "WARNING: Base.String is deprecated, use AbstractString instead.\n",
      "  likely near /home/lstagner/.julia/v0.4/NetCDF/src/NetCDF.jl:429\n",
      "WARNING: Base.String is deprecated, use AbstractString instead.\n",
      "  likely near /home/lstagner/.julia/v0.4/NetCDF/src/NetCDF.jl:429\n",
      "WARNING: Base.String is deprecated, use AbstractString instead.\n",
      "  likely near /home/lstagner/.julia/v0.4/NetCDF/src/NetCDF.jl:429\n",
      "WARNING: Base.String is deprecated, use AbstractString instead.\n",
      "  likely near /home/lstagner/.julia/v0.4/NetCDF/src/NetCDF.jl:430\n",
      "WARNING: Base.String is deprecated, use AbstractString instead.\n",
      "  likely near /home/lstagner/.julia/v0.4/NetCDF/src/NetCDF.jl:430\n",
      "WARNING: Base.String is deprecated, use AbstractString instead.\n",
      "  likely near /home/lstagner/.julia/v0.4/NetCDF/src/NetCDF.jl:430\n",
      "WARNING: Union(args...) is deprecated, use Union{args...} instead.\n",
      " in depwarn at deprecated.jl:73\n",
      " in call at deprecated.jl:50\n",
      " in include at ./boot.jl:261\n",
      " in include_from_node1 at ./loading.jl:304\n",
      " in require at ./loading.jl:243\n",
      " in include at ./boot.jl:261\n",
      " in include_from_node1 at ./loading.jl:304\n",
      " in include at ./boot.jl:261\n",
      " in include_from_node1 at ./loading.jl:304\n",
      " in require at ./loading.jl:243\n",
      " in include_string at loading.jl:266\n",
      " in execute_request_0x535c5df2 at /home/lstagner/.julia/v0.4/IJulia/src/execute_request.jl:177\n",
      " in eventloop at /home/lstagner/.julia/v0.4/IJulia/src/IJulia.jl:141\n",
      " in anonymous at task.jl:447\n",
      "while loading /home/lstagner/.julia/v0.4/NetCDF/src/NetCDF.jl, in expression starting on line 429\n",
      "WARNING: Base.Uint16 is deprecated, use UInt16 instead.\n",
      "  likely near /home/lstagner/.julia/v0.4/NetCDF/src/NetCDF.jl:429\n",
      "WARNING: Base.String is deprecated, use AbstractString instead.\n",
      "  likely near /home/lstagner/.julia/v0.4/NetCDF/src/NetCDF.jl:429\n",
      "WARNING: Base.String is deprecated, use AbstractString instead.\n",
      "  likely near /home/lstagner/.julia/v0.4/NetCDF/src/NetCDF.jl:429\n",
      "WARNING: Base.String is deprecated, use AbstractString instead.\n",
      "  likely near /home/lstagner/.julia/v0.4/NetCDF/src/NetCDF.jl:429\n",
      "WARNING: Base.String is deprecated, use AbstractString instead.\n",
      "  likely near /home/lstagner/.julia/v0.4/NetCDF/src/NetCDF.jl:429\n",
      "WARNING: Base.String is deprecated, use AbstractString instead.\n",
      "  likely near /home/lstagner/.julia/v0.4/NetCDF/src/NetCDF.jl:429\n",
      "WARNING: Base.String is deprecated, use AbstractString instead.\n",
      "  likely near /home/lstagner/.julia/v0.4/NetCDF/src/NetCDF.jl:429\n",
      "WARNING: Base.String is deprecated, use AbstractString instead.\n",
      "  likely near /home/lstagner/.julia/v0.4/NetCDF/src/NetCDF.jl:430\n",
      "WARNING: Base.String is deprecated, use AbstractString instead.\n",
      "  likely near /home/lstagner/.julia/v0.4/NetCDF/src/NetCDF.jl:430\n",
      "WARNING: Base.Uint8 is deprecated, use UInt8 instead.\n",
      "  likely near /home/lstagner/.julia/v0.4/NetCDF/src/NetCDF.jl:716\n",
      "WARNING: Base.Uint8 is deprecated, use UInt8 instead.\n",
      "  likely near /home/lstagner/.julia/v0.4/NetCDF/src/NetCDF.jl:716\n",
      "WARNING: Base.Uint8 is deprecated, use UInt8 instead.\n",
      "  likely near /home/lstagner/.julia/v0.4/NetCDF/src/NetCDF.jl:716\n",
      "WARNING: Base.Uint8 is deprecated, use UInt8 instead.\n",
      "  likely near /home/lstagner/.julia/v0.4/NetCDF/src/NetCDF.jl:716\n",
      "WARNING: Base.Uint8 is deprecated, use UInt8 instead.\n",
      "  likely near /home/lstagner/.julia/v0.4/NetCDF/src/NetCDF.jl:716\n",
      "WARNING: Base.Uint8 is deprecated, use UInt8 instead.\n",
      "  likely near /home/lstagner/.julia/v0.4/NetCDF/src/NetCDF.jl:716\n",
      "WARNING: Base.Uint8 is deprecated, use UInt8 instead.\n",
      "  likely near /home/lstagner/.julia/v0.4/NetCDF/src/NetCDF.jl:716\n",
      "WARNING: Base.Uint8 is deprecated, use UInt8 instead.\n",
      "  likely near /home/lstagner/.julia/v0.4/NetCDF/src/NetCDF.jl:716\n",
      "WARNING: Base.Uint8 is deprecated, use UInt8 instead.\n",
      "  likely near /home/lstagner/.julia/v0.4/NetCDF/src/NetCDF.jl:716\n",
      "in __init__ at /home/lstagner/.julia/v0.4/NetCDF/src/NetCDF.jl:12\n",
      "WARNING: Base.Uint8 is deprecated, use UInt8 instead.\n",
      "  likely near /home/lstagner/.julia/v0.4/NetCDF/src/NetCDF.jl:716\n",
      "in __init__ at /home/lstagner/.julia/v0.4/NetCDF/src/NetCDF.jl:12\n",
      "WARNING: Base.Uint8 is deprecated, use UInt8 instead.\n",
      "  likely near /home/lstagner/.julia/v0.4/NetCDF/src/NetCDF.jl:716\n",
      "in __init__ at /home/lstagner/.julia/v0.4/NetCDF/src/NetCDF.jl:20\n",
      "WARNING: Base.Uint8 is deprecated, use UInt8 instead.\n",
      "  likely near /home/lstagner/.julia/v0.4/NetCDF/src/NetCDF.jl:716\n",
      "in __init__ at /home/lstagner/.julia/v0.4/NetCDF/src/NetCDF.jl:20\n"
     ]
    }
   ],
   "source": [
    "using RegularizedSystems\n",
    "using VSTom\n",
    "using PyPlot"
   ]
  },
  {
   "cell_type": "code",
   "execution_count": 2,
   "metadata": {
    "collapsed": true
   },
   "outputs": [
    {
     "name": "stderr",
     "output_type": "stream",
     "text": [
      "WARNING: Base.Uint8 is deprecated, use UInt8 instead.\n",
      "  likely near In[2]:1\n",
      "WARNING: Base.Uint8 is deprecated, use UInt8 instead.\n",
      "  likely near In[2]:1\n",
      "WARNING: Base.Uint8 is deprecated, use UInt8 instead.\n",
      "  likely near In[2]:1\n",
      "WARNING: Base.Uint8 is deprecated, use UInt8 instead.\n",
      "  likely near In[2]:1\n",
      "WARNING: Base.Uint8 is deprecated, use UInt8 instead.\n",
      "  likely near In[2]:1\n",
      "WARNING: Base.Uint16 is deprecated, use UInt16 instead.\n",
      "  likely near In[2]:1\n",
      "WARNING: Base.Uint16 is deprecated, use UInt16 instead.\n",
      "  likely near In[2]:1\n",
      "WARNING: Base.Uint16 is deprecated, use UInt16 instead.\n",
      "  likely near In[2]:1\n",
      "WARNING: Base.Uint16 is deprecated, use UInt16 instead.\n",
      "  likely near In[2]:1\n",
      "WARNING: Base.Uint16 is deprecated, use UInt16 instead.\n",
      "  likely near In[2]:1\n",
      "WARNING: Base.Uint8 is deprecated, use UInt8 instead.\n",
      "  likely near In[2]:1\n",
      "WARNING: Base.Uint8 is deprecated, use UInt8 instead.\n",
      "  likely near In[2]:1\n",
      "WARNING: Base.Uint8 is deprecated, use UInt8 instead.\n",
      "  likely near In[2]:1\n",
      "WARNING: Base.Uint8 is deprecated, use UInt8 instead.\n",
      "  likely near In[2]:1\n",
      "WARNING: Base.Uint8 is deprecated, use UInt8 instead.\n",
      "  likely near In[2]:1\n",
      "WARNING: Base.Uint8 is deprecated, use UInt8 instead.\n",
      "  likely near In[2]:1\n",
      "WARNING: Base.Uint8 is deprecated, use UInt8 instead.\n",
      "  likely near In[2]:1\n",
      "WARNING: Base.Uint8 is deprecated, use UInt8 instead.\n",
      "  likely near In[2]:1\n",
      "WARNING: Base.Uint8 is deprecated, use UInt8 instead.\n",
      "  likely near In[2]:1\n",
      "WARNING: Base.Uint8 is deprecated, use UInt8 instead.\n",
      "  likely near In[2]:1\n",
      "WARNING: Base.Uint8 is deprecated, use UInt8 instead.\n",
      "  likely near In[2]:1\n",
      "WARNING: Base.Uint8 is deprecated, use UInt8 instead.\n",
      "  likely near In[2]:1\n",
      "WARNING: Base.Uint8 is deprecated, use UInt8 instead.\n",
      "  likely near In[2]:1\n",
      "WARNING: Base.Uint8 is deprecated, use UInt8 instead.\n",
      "  likely near In[2]:1\n",
      "WARNING: Base.Uint8 is deprecated, use UInt8 instead.\n",
      "  likely near In[2]:1\n",
      "WARNING: Base.String is deprecated, use AbstractString instead.\n",
      "  likely near In[2]:1\n",
      "WARNING: Base.String is deprecated, use AbstractString instead.\n",
      "  likely near In[2]:1\n",
      "WARNING: Base.Uint8 is deprecated, use UInt8 instead.\n",
      "  likely near In[2]:1\n",
      "WARNING: Base.Uint8 is deprecated, use UInt8 instead.\n",
      "  likely near In[2]:1\n",
      "WARNING: Base.Uint8 is deprecated, use UInt8 instead.\n",
      "  likely near In[2]:1\n",
      "WARNING: Base.Uint8 is deprecated, use UInt8 instead.\n",
      "  likely near In[2]:1\n",
      "WARNING: Base.Uint8 is deprecated, use UInt8 instead.\n",
      "  likely near In[2]:1\n",
      "WARNING: Base.Uint is deprecated, use UInt instead.\n",
      "  likely near In[2]:1\n",
      "WARNING: Base.Uint is deprecated, use UInt instead.\n",
      "  likely near In[2]:1\n",
      "WARNING: Base.Uint is deprecated, use UInt instead.\n",
      "  likely near In[2]:1\n",
      "WARNING: Base.Uint is deprecated, use UInt instead.\n",
      "  likely near In[2]:1\n",
      "WARNING: Base.Uint is deprecated, use UInt instead.\n",
      "  likely near In[2]:1\n",
      "WARNING: Base.Uint is deprecated, use UInt instead.\n",
      "  likely near In[2]:1\n",
      "WARNING: Base.Uint8 is deprecated, use UInt8 instead.\n",
      "  likely near In[2]:1\n",
      "WARNING: Base.Uint8 is deprecated, use UInt8 instead.\n",
      "  likely near In[2]:1\n",
      "WARNING: Base.Uint8 is deprecated, use UInt8 instead.\n",
      "  likely near In[2]:1\n",
      "WARNING: Base.Uint8 is deprecated, use UInt8 instead.\n",
      "  likely near In[2]:1\n",
      "WARNING: Base.Uint8 is deprecated, use UInt8 instead.\n",
      "  likely near In[2]:1\n",
      "WARNING: Base.String is deprecated, use AbstractString instead.\n",
      "  likely near In[2]:1\n",
      "WARNING: Base.String is deprecated, use AbstractString instead.\n",
      "  likely near In[2]:1\n",
      "WARNING: Base.String is deprecated, use AbstractString instead.\n",
      "  likely near In[2]:1\n",
      "WARNING: Base.String is deprecated, use AbstractString instead.\n",
      "  likely near In[2]:1\n",
      "WARNING: Base.Uint8 is deprecated, use UInt8 instead.\n",
      "  likely near In[2]:1\n",
      "WARNING: Base.Uint8 is deprecated, use UInt8 instead.\n",
      "  likely near In[2]:1\n",
      "WARNING: Base.String is deprecated, use AbstractString instead.\n",
      "  likely near In[2]:1\n",
      "in getatts_all at /home/lstagner/.julia/v0.4/NetCDF/src/netcdf_helpers.jl:195\n",
      "WARNING: Base.String is deprecated, use AbstractString instead.\n",
      "  likely near In[2]:1\n",
      "in getatts_all at /home/lstagner/.julia/v0.4/NetCDF/src/netcdf_helpers.jl:195\n",
      "WARNING: Base.String is deprecated, use AbstractString instead.\n",
      "  likely near In[2]:1\n",
      "in getatts_all at /home/lstagner/.julia/v0.4/NetCDF/src/netcdf_helpers.jl:195\n",
      "WARNING: Base.Uint8 is deprecated, use UInt8 instead.\n",
      "  likely near In[2]:1\n",
      "WARNING: Base.Uint8 is deprecated, use UInt8 instead.\n",
      "  likely near In[2]:1\n",
      "WARNING: Base.Uint16 is deprecated, use UInt16 instead.\n",
      "  likely near In[2]:1\n",
      "WARNING: Base.Uint16 is deprecated, use UInt16 instead.\n",
      "  likely near In[2]:1\n",
      "WARNING: Base.Uint16 is deprecated, use UInt16 instead.\n",
      "  likely near In[2]:1\n"
     ]
    },
    {
     "data": {
      "text/plain": [
       "Dict{AbstractString,Any} with 4 entries:\n",
       "  \"transfer_matrix_before\" => 1116x2500 Array{Float64,2}:…\n",
       "  \"E\"                      => [20.0,21.6327,23.2653,24.898,26.5306,28.1633,29.7…\n",
       "  \"transfer_matrix_after\"  => 1116x2500 Array{Float64,2}:…\n",
       "  \"p\"                      => [-0.96,-0.920816,-0.881633,-0.842449,-0.803265,-0…"
      ]
     },
     "execution_count": 2,
     "metadata": {},
     "output_type": "execute_result"
    }
   ],
   "source": [
    "dw = read_ncdf(\"/home/lstagner/Dropbox/Inversion_method_analysis/Asger\\ source\\ code/31557_dW.nc\")\n",
    "a = read_ncdf(\"/home/lstagner/Dropbox/Inversion_method_analysis/Asger\\ source\\ code/31557_August_5.nc\")"
   ]
  },
  {
   "cell_type": "code",
   "execution_count": 3,
   "metadata": {
    "collapsed": false
   },
   "outputs": [],
   "source": [
    "energy_full_dA = dw[\"E\"]\n",
    "pitch_full_dA = dw[\"p\"]\n",
    "dA_full = dw[\"dW\"]/(abs(energy_full_dA[2]-energy_full_dA[1])*abs(pitch_full_dA[2]-pitch_full_dA[1]))\n",
    "\n",
    "energy_full_A = a[\"E\"]\n",
    "pitch_full_A = a[\"p\"]\n",
    "A_b_full = a[\"transfer_matrix_before\"]/(abs(energy_full_A[2]-energy_full_A[1])*abs(pitch_full_A[2]-pitch_full_A[1]))\n",
    "A_a_full = a[\"transfer_matrix_after\"]/(abs(energy_full_A[2]-energy_full_A[1])*abs(pitch_full_A[2]-pitch_full_A[1]));"
   ]
  },
  {
   "cell_type": "code",
   "execution_count": 4,
   "metadata": {
    "collapsed": false
   },
   "outputs": [],
   "source": [
    "nenergy = 20\n",
    "npitch = 20\n",
    "\n",
    "energy = linspace(20.0,100.0,nenergy)\n",
    "pitch = linspace(extrema(pitch_full_A)...,npitch)\n",
    "dE = abs(energy[2]-energy[1])\n",
    "dP = abs(pitch[2]-pitch[1])\n",
    "\n",
    "dA = resize_transfer_matrix(dA_full,energy_full_dA,pitch_full_dA,energy,pitch)\n",
    "A_b = resize_transfer_matrix(A_b_full,energy_full_A,pitch_full_A,energy,pitch)\n",
    "A_a = resize_transfer_matrix(A_a_full,energy_full_A,pitch_full_A,energy,pitch);"
   ]
  },
  {
   "cell_type": "code",
   "execution_count": 5,
   "metadata": {
    "collapsed": false
   },
   "outputs": [],
   "source": [
    "data_b = read_ncdf(\"data/before_sawtooth_data.cdf\")\n",
    "data_a = read_ncdf(\"data/after_sawtooth_data.cdf\")\n",
    "spec_b = data_b[\"spectra\"]\n",
    "err_b = data_b[\"error\"]\n",
    "spec_a = data_a[\"spectra\"]\n",
    "err_a = data_a[\"error\"];"
   ]
  },
  {
   "cell_type": "code",
   "execution_count": 6,
   "metadata": {
    "collapsed": false
   },
   "outputs": [],
   "source": [
    "true_dist = read_ncdf(\"data/true_sawtooth_distributions.cdf\");\n",
    "true_before = bilinear(true_dist[\"TRANSP_before\"],true_dist[\"E\"],true_dist[\"p\"],energy,pitch)\n",
    "true_after = bilinear(true_dist[\"TRANSP_after\"],true_dist[\"E\"],true_dist[\"p\"],energy,pitch);"
   ]
  },
  {
   "cell_type": "code",
   "execution_count": 23,
   "metadata": {
    "collapsed": false
   },
   "outputs": [
    {
     "name": "stdout",
     "output_type": "stream",
     "text": [
      "Progress: 100%|█████████████████████████████████████████| Time: 0:03:18\n"
     ]
    }
   ],
   "source": [
    "nr,nc = size(A_a)\n",
    "num=100\n",
    "x_a_samples = zeros(nc,num)\n",
    "x_b_samples = zeros(nc,num)\n",
    "@showprogress for i=1:num\n",
    "    rA_b = A_b .+ dA.*randn(size(A_b)...)\n",
    "    rA_a = A_a .+ dA.*randn(size(A_a)...)\n",
    "    rspec_b = spec_b .+ err_b.*randn(size(spec_b)...)\n",
    "    rspec_a = spec_a .+ err_a.*randn(size(spec_a)...)\n",
    "\n",
    "    tsvd_before = TSVDFunctional(rA_b,rspec_b,err_b);\n",
    "    tsvd_after  = TSVDFunctional(rA_a,rspec_a,err_a);\n",
    "    k_before = discrete_lcurve(tsvd_before,55:75,nseeds=20)\n",
    "    k_after = discrete_lcurve(tsvd_after,55:75,nseeds=20)\n",
    "    sol_b = minimize(tsvd_before,k_before)\n",
    "    sol_a = minimize(tsvd_after,k_after)\n",
    "    x_b_samples[:,i] = max(sol_b.x,0)/(dE*dP)\n",
    "    x_a_samples[:,i] = max(sol_a.x,0)/(dE*dP)\n",
    "end"
   ]
  },
  {
   "cell_type": "code",
   "execution_count": 24,
   "metadata": {
    "collapsed": false
   },
   "outputs": [],
   "source": [
    "tsvd_b_mean = reshape(mean(x_b_samples,2),20,20)\n",
    "tsvd_b_var  = reshape(var(x_b_samples,2),20,20)\n",
    "tsvd_b_bias = tsvd_b_mean .- true_before\n",
    "\n",
    "tsvd_a_mean = reshape(mean(x_a_samples,2),20,20)\n",
    "tsvd_a_var  = reshape(var(x_a_samples,2),20,20)\n",
    "tsvd_a_bias = tsvd_a_mean .- true_after\n",
    "\n",
    "tsvd_ratio_mean = reshape(mean(max(x_a_samples,1e9)./max(x_b_samples,1e9),2),20,20)\n",
    "tsvd_ratio_var = reshape(var(max(x_a_samples,1e9)./max(x_b_samples,1e9),2),20,20)\n",
    "\n",
    "iratio_samples = zeros(20,num)\n",
    "for i=1:num\n",
    "    iratio_samples[:,i] = sum(reshape(x_a_samples[:,i],20,20),2)./sum(reshape(x_b_samples[:,i],20,20),2)\n",
    "end\n",
    "\n",
    "tsvd_iratio_mean = squeeze(mean(iratio_samples,2),2)\n",
    "tsvd_iratio_var = squeeze(var(iratio_samples,2),2);"
   ]
  },
  {
   "cell_type": "code",
   "execution_count": 25,
   "metadata": {
    "collapsed": false
   },
   "outputs": [
    {
     "data": {
      "image/png": "[encoded data removed]",
      "text/plain": [
       "PyPlot.Figure(PyObject <matplotlib.figure.Figure object at 0x7ff8b609a518>)"
      ]
     },
     "metadata": {},
     "output_type": "display_data"
    },
    {
     "data": {
      "text/plain": [
       "(PyObject <matplotlib.lines.Line2D object at 0x7ff8b6027780>,(PyObject <matplotlib.lines.Line2D object at 0x7ff8b6027400>,PyObject <matplotlib.lines.Line2D object at 0x7ff8b60277b8>),(PyObject <matplotlib.collections.LineCollection object at 0x7ff8b60219e8>,))"
      ]
     },
     "execution_count": 25,
     "metadata": {},
     "output_type": "execute_result"
    }
   ],
   "source": [
    "errorbar(pitch,tsvd_iratio_mean,sqrt(tsvd_iratio_var))"
   ]
  },
  {
   "cell_type": "code",
   "execution_count": 27,
   "metadata": {
    "collapsed": false
   },
   "outputs": [],
   "source": [
    "using NetCDF\n",
    "# Write synthetic data to file\n",
    "fname = \"data/tsvd_sampled_sawtooth.cdf\"\n",
    "\n",
    "isfile(fname) && rm(fname)\n",
    "\n",
    "nen_id = NcDim(\"nenergy\",20)\n",
    "np_id = NcDim(\"npitch\",20)\n",
    "\n",
    "x_a_mean_varid = NcVar(\"x_a_mean\",[np_id,nen_id])\n",
    "x_a_var_varid = NcVar(\"x_a_var\",[np_id,nen_id])\n",
    "x_a_bias_varid = NcVar(\"x_a_bias\",[np_id,nen_id])\n",
    "\n",
    "x_b_mean_varid = NcVar(\"x_b_mean\",[np_id,nen_id])\n",
    "x_b_var_varid = NcVar(\"x_b_var\",[np_id,nen_id])\n",
    "x_b_bias_varid = NcVar(\"x_b_bias\",[np_id,nen_id])\n",
    "\n",
    "x_ratio_mean_varid = NcVar(\"ratio_mean\",[np_id,nen_id])\n",
    "x_ratio_var_varid = NcVar(\"ratio_var\",[np_id,nen_id])\n",
    "\n",
    "iratio_mean_varid = NcVar(\"iratio_mean\",np_id)\n",
    "iratio_var_varid = NcVar(\"iratio_var\",np_id)\n",
    "\n",
    "energy_varid = NcVar(\"energy\",nen_id)\n",
    "pitch_varid = NcVar(\"pitch\",np_id)\n",
    "\n",
    "ncid = NetCDF.create(fname,NcVar[x_a_mean_varid,x_a_var_varid,x_a_bias_varid,\n",
    "    x_b_mean_varid,x_b_var_varid,x_b_bias_varid,\n",
    "    x_ratio_mean_varid,x_ratio_var_varid,\n",
    "    iratio_mean_varid,iratio_var_varid,\n",
    "    energy_varid,pitch_varid],mode=NC_CLASSIC_MODEL)\n",
    "\n",
    "NetCDF.putvar(ncid,\"x_b_mean\",tsvd_b_mean)\n",
    "NetCDF.putvar(ncid,\"x_b_var\",tsvd_b_var)\n",
    "NetCDF.putvar(ncid,\"x_b_bias\",tsvd_b_bias)\n",
    "\n",
    "NetCDF.putvar(ncid,\"x_a_mean\",tsvd_a_mean)\n",
    "NetCDF.putvar(ncid,\"x_a_var\",tsvd_a_var)\n",
    "NetCDF.putvar(ncid,\"x_a_bias\",tsvd_a_bias)\n",
    "\n",
    "NetCDF.putvar(ncid,\"ratio_mean\",tsvd_ratio_mean)\n",
    "NetCDF.putvar(ncid,\"ratio_var\",tsvd_ratio_var)\n",
    "\n",
    "NetCDF.putvar(ncid,\"iratio_mean\",tsvd_iratio_mean)\n",
    "NetCDF.putvar(ncid,\"iratio_var\",tsvd_iratio_var)\n",
    "\n",
    "NetCDF.putvar(ncid,\"energy\",collect(energy))\n",
    "NetCDF.putvar(ncid,\"pitch\",collect(pitch))\n",
    "\n",
    "NetCDF.close(ncid);"
   ]
  },
  {
   "cell_type": "code",
   "execution_count": 28,
   "metadata": {
    "collapsed": false
   },
   "outputs": [
    {
     "name": "stdout",
     "output_type": "stream",
     "text": [
      "Progress: 100%|█████████████████████████████████████████| Time: 0:14:46\n"
     ]
    }
   ],
   "source": [
    "nr,nc = size(A_a)\n",
    "num=100\n",
    "x_a_samples = zeros(nc,num)\n",
    "x_b_samples = zeros(nc,num)\n",
    "@showprogress for i=1:num\n",
    "    rA_b = A_b .+ dA.*randn(size(A_b)...)\n",
    "    rA_a = A_a .+ dA.*randn(size(A_a)...)\n",
    "    rspec_b = spec_b .+ err_b.*randn(size(spec_b)...)\n",
    "    rspec_a = spec_a .+ err_a.*randn(size(spec_a)...)\n",
    "\n",
    "    tik0_before = TikhonovFunctional(rA_b,rspec_b,err_b,(eye(nc),));\n",
    "    tik0_after  = TikhonovFunctional(rA_a,rspec_a,err_a,(eye(nc),));\n",
    "    alpha_before = lcurve(tik0_before,log_alpha_range=(-10,5),nseeds=20)\n",
    "    alpha_after = lcurve(tik0_after,log_alpha_range=(-10,5),nseeds=20)\n",
    "    sol_b = minimize(tik0_before,alpha_before)\n",
    "    sol_a = minimize(tik0_after,alpha_after)\n",
    "    x_b_samples[:,i] = max(sol_b.x,0)/(dE*dP)\n",
    "    x_a_samples[:,i] = max(sol_a.x,0)/(dE*dP)\n",
    "end"
   ]
  },
  {
   "cell_type": "code",
   "execution_count": 29,
   "metadata": {
    "collapsed": false
   },
   "outputs": [],
   "source": [
    "tik0_b_mean = reshape(mean(x_b_samples,2),20,20)\n",
    "tik0_b_var  = reshape(var(x_b_samples,2),20,20)\n",
    "tik0_b_bias = tik0_b_mean .- true_before\n",
    "\n",
    "tik0_a_mean = reshape(mean(x_a_samples,2),20,20)\n",
    "tik0_a_var  = reshape(var(x_a_samples,2),20,20)\n",
    "tik0_a_bias = tik0_a_mean .- true_after\n",
    "\n",
    "tik0_ratio_mean = reshape(mean(max(x_a_samples,1e9)./max(x_b_samples,1e9),2),20,20)\n",
    "tik0_ratio_var = reshape(var(max(x_a_samples,1e9)./max(x_b_samples,1e9),2),20,20)\n",
    "\n",
    "iratio_samples = zeros(20,num)\n",
    "for i=1:num\n",
    "    iratio_samples[:,i] = sum(reshape(x_a_samples[:,i],20,20),2)./sum(reshape(x_b_samples[:,i],20,20),2)\n",
    "end\n",
    "\n",
    "tik0_iratio_mean = squeeze(mean(iratio_samples,2),2)\n",
    "tik0_iratio_var = squeeze(var(iratio_samples,2),2);"
   ]
  },
  {
   "cell_type": "code",
   "execution_count": 30,
   "metadata": {
    "collapsed": false
   },
   "outputs": [
    {
     "data": {
      "image/png": "[encoded data removed]",
      "text/plain": [
       "PyPlot.Figure(PyObject <matplotlib.figure.Figure object at 0x7ff8b6159c50>)"
      ]
     },
     "metadata": {},
     "output_type": "display_data"
    },
    {
     "data": {
      "text/plain": [
       "(PyObject <matplotlib.lines.Line2D object at 0x7ff8b5f8be80>,(PyObject <matplotlib.lines.Line2D object at 0x7ff8b5f8bb00>,PyObject <matplotlib.lines.Line2D object at 0x7ff8b5f8beb8>),(PyObject <matplotlib.collections.LineCollection object at 0x7ff8b5f8b128>,))"
      ]
     },
     "execution_count": 30,
     "metadata": {},
     "output_type": "execute_result"
    }
   ],
   "source": [
    "errorbar(pitch,tik0_iratio_mean,sqrt(tik0_iratio_var))"
   ]
  },
  {
   "cell_type": "code",
   "execution_count": 31,
   "metadata": {
    "collapsed": true
   },
   "outputs": [],
   "source": [
    "using NetCDF\n",
    "# Write synthetic data to file\n",
    "fname = \"data/tik0_sampled_sawtooth.cdf\"\n",
    "\n",
    "isfile(fname) && rm(fname)\n",
    "\n",
    "nen_id = NcDim(\"nenergy\",20)\n",
    "np_id = NcDim(\"npitch\",20)\n",
    "\n",
    "x_a_mean_varid = NcVar(\"x_a_mean\",[np_id,nen_id])\n",
    "x_a_var_varid = NcVar(\"x_a_var\",[np_id,nen_id])\n",
    "x_a_bias_varid = NcVar(\"x_a_bias\",[np_id,nen_id])\n",
    "\n",
    "x_b_mean_varid = NcVar(\"x_b_mean\",[np_id,nen_id])\n",
    "x_b_var_varid = NcVar(\"x_b_var\",[np_id,nen_id])\n",
    "x_b_bias_varid = NcVar(\"x_b_bias\",[np_id,nen_id])\n",
    "\n",
    "x_ratio_mean_varid = NcVar(\"ratio_mean\",[np_id,nen_id])\n",
    "x_ratio_var_varid = NcVar(\"ratio_var\",[np_id,nen_id])\n",
    "\n",
    "iratio_mean_varid = NcVar(\"iratio_mean\",np_id)\n",
    "iratio_var_varid = NcVar(\"iratio_var\",np_id)\n",
    "\n",
    "energy_varid = NcVar(\"energy\",nen_id)\n",
    "pitch_varid = NcVar(\"pitch\",np_id)\n",
    "\n",
    "ncid = NetCDF.create(fname,NcVar[x_a_mean_varid,x_a_var_varid,x_a_bias_varid,\n",
    "    x_b_mean_varid,x_b_var_varid,x_b_bias_varid,\n",
    "    x_ratio_mean_varid,x_ratio_var_varid,\n",
    "    iratio_mean_varid,iratio_var_varid,\n",
    "    energy_varid,pitch_varid],mode=NC_CLASSIC_MODEL)\n",
    "\n",
    "NetCDF.putvar(ncid,\"x_b_mean\",tik0_b_mean)\n",
    "NetCDF.putvar(ncid,\"x_b_var\",tik0_b_var)\n",
    "NetCDF.putvar(ncid,\"x_b_bias\",tik0_b_bias)\n",
    "\n",
    "NetCDF.putvar(ncid,\"x_a_mean\",tik0_a_mean)\n",
    "NetCDF.putvar(ncid,\"x_a_var\",tik0_a_var)\n",
    "NetCDF.putvar(ncid,\"x_a_bias\",tik0_a_bias)\n",
    "\n",
    "NetCDF.putvar(ncid,\"ratio_mean\",tik0_ratio_mean)\n",
    "NetCDF.putvar(ncid,\"ratio_var\",tik0_ratio_var)\n",
    "\n",
    "NetCDF.putvar(ncid,\"iratio_mean\",tik0_iratio_mean)\n",
    "NetCDF.putvar(ncid,\"iratio_var\",tik0_iratio_var)\n",
    "\n",
    "NetCDF.putvar(ncid,\"energy\",collect(energy))\n",
    "NetCDF.putvar(ncid,\"pitch\",collect(pitch))\n",
    "\n",
    "NetCDF.close(ncid);"
   ]
  },
  {
   "cell_type": "code",
   "execution_count": 22,
   "metadata": {
    "collapsed": false
   },
   "outputs": [
    {
     "name": "stdout",
     "output_type": "stream",
     "text": [
      "Progress: 100%|█████████████████████████████████████████| Time: 0:08:27\n"
     ]
    }
   ],
   "source": [
    "nr,nc = size(A_a)\n",
    "num=25\n",
    "x_a_samples = zeros(nc,num)\n",
    "x_b_samples = zeros(nc,num)\n",
    "L1E,L1p = gradEP(energy,pitch)\n",
    "@showprogress for i=1:num\n",
    "    rA_b = A_b .+ dA.*randn(size(A_b)...)\n",
    "    rA_a = A_a .+ dA.*randn(size(A_a)...)\n",
    "    rspec_b = spec_b .+ err_b.*randn(size(spec_b)...)\n",
    "    rspec_a = spec_a .+ err_a.*randn(size(spec_a)...)\n",
    "\n",
    "    tik1_before = TikhonovFunctional(rA_b,rspec_b,err_b,(L1E,L1p));\n",
    "    tik1_after  = TikhonovFunctional(rA_a,rspec_a,err_a,(L1E,L1p));\n",
    "    alpha_before = lcurve(tik1_before,log_alpha_range=(0,20),nseeds=20)\n",
    "    alpha_after = lcurve(tik1_after,log_alpha_range=(0,20),nseeds=20)\n",
    "    sol_b = minimize(tik1_before,alpha_before)\n",
    "    sol_a = minimize(tik1_after,alpha_after)\n",
    "    x_b_samples[:,i] = max(sol_b.x,0)/(dE*dP)\n",
    "    x_a_samples[:,i] = max(sol_a.x,0)/(dE*dP)\n",
    "end"
   ]
  },
  {
   "cell_type": "code",
   "execution_count": 27,
   "metadata": {
    "collapsed": true
   },
   "outputs": [],
   "source": [
    "tik1_b_mean = reshape(mean(x_b_samples,2),20,20)\n",
    "tik1_b_var  = reshape(var(x_b_samples,2),20,20)\n",
    "tik1_b_bias = tik1_b_mean .- true_before\n",
    "\n",
    "tik1_a_mean = reshape(mean(x_a_samples,2),20,20)\n",
    "tik1_a_var  = reshape(var(x_a_samples,2),20,20)\n",
    "tik1_a_bias = tik1_a_mean .- true_after\n",
    "\n",
    "tik1_ratio_mean = reshape(mean(max(x_a_samples,1e9)./max(x_b_samples,1e9),2),20,20)\n",
    "tik1_ratio_var = reshape(var(max(x_a_samples,1e9)./max(x_b_samples,1e9),2),20,20)\n",
    "\n",
    "iratio_samples = zeros(20,25)\n",
    "for i=1:num\n",
    "    iratio_samples[:,i] = sum(reshape(x_a_samples[:,i],20,20),2)./sum(reshape(x_b_samples[:,i],20,20),2)\n",
    "end\n",
    "\n",
    "tik1_iratio_mean = squeeze(mean(iratio_samples,2),2)\n",
    "tik1_iratio_var = squeeze(var(iratio_samples,2),2);"
   ]
  },
  {
   "cell_type": "code",
   "execution_count": 28,
   "metadata": {
    "collapsed": false
   },
   "outputs": [
    {
     "data": {
      "image/png": "[encoded data removed]",
      "text/plain": [
       "Figure(PyObject <matplotlib.figure.Figure object at 0x7fbafba824e0>)"
      ]
     },
     "metadata": {},
     "output_type": "display_data"
    },
    {
     "data": {
      "text/plain": [
       "(PyObject <matplotlib.lines.Line2D object at 0x7fbafb99f2e8>,(PyObject <matplotlib.lines.Line2D object at 0x7fbafb999748>,PyObject <matplotlib.lines.Line2D object at 0x7fbafb999b00>),(PyObject <matplotlib.collections.LineCollection object at 0x7fbafba11d30>,))"
      ]
     },
     "execution_count": 28,
     "metadata": {},
     "output_type": "execute_result"
    }
   ],
   "source": [
    "errorbar(pitch,tik1_iratio_mean,sqrt(tik1_iratio_var))"
   ]
  },
  {
   "cell_type": "code",
   "execution_count": 29,
   "metadata": {
    "collapsed": false
   },
   "outputs": [],
   "source": [
    "using NetCDF\n",
    "# Write synthetic data to file\n",
    "fname = \"data/tik1_sampled_sawtooth.cdf\"\n",
    "\n",
    "isfile(fname) && rm(fname)\n",
    "\n",
    "nen_id = NcDim(\"nenergy\",20)\n",
    "np_id = NcDim(\"npitch\",20)\n",
    "\n",
    "x_a_mean_varid = NcVar(\"x_a_mean\",[np_id,nen_id])\n",
    "x_a_var_varid = NcVar(\"x_a_var\",[np_id,nen_id])\n",
    "x_a_bias_varid = NcVar(\"x_a_bias\",[np_id,nen_id])\n",
    "\n",
    "x_b_mean_varid = NcVar(\"x_b_mean\",[np_id,nen_id])\n",
    "x_b_var_varid = NcVar(\"x_b_var\",[np_id,nen_id])\n",
    "x_b_bias_varid = NcVar(\"x_b_bias\",[np_id,nen_id])\n",
    "\n",
    "x_ratio_mean_varid = NcVar(\"ratio_mean\",[np_id,nen_id])\n",
    "x_ratio_var_varid = NcVar(\"ratio_var\",[np_id,nen_id])\n",
    "\n",
    "iratio_mean_varid = NcVar(\"iratio_mean\",np_id)\n",
    "iratio_var_varid = NcVar(\"iratio_var\",np_id)\n",
    "\n",
    "energy_varid = NcVar(\"energy\",nen_id)\n",
    "pitch_varid = NcVar(\"pitch\",np_id)\n",
    "\n",
    "ncid = NetCDF.create(fname,[x_a_mean_varid,x_a_var_varid,x_a_bias_varid,\n",
    "    x_b_mean_varid,x_b_var_varid,x_b_bias_varid,\n",
    "    x_ratio_mean_varid,x_ratio_var_varid,\n",
    "    iratio_mean_varid,iratio_var_varid,\n",
    "    energy_varid,pitch_varid],mode=NC_CLASSIC_MODEL)\n",
    "\n",
    "NetCDF.putvar(ncid,\"x_b_mean\",tik1_b_mean)\n",
    "NetCDF.putvar(ncid,\"x_b_var\",tik1_b_var)\n",
    "NetCDF.putvar(ncid,\"x_b_bias\",tik1_b_bias)\n",
    "\n",
    "NetCDF.putvar(ncid,\"x_a_mean\",tik1_a_mean)\n",
    "NetCDF.putvar(ncid,\"x_a_var\",tik1_a_var)\n",
    "NetCDF.putvar(ncid,\"x_a_bias\",tik1_a_bias)\n",
    "\n",
    "NetCDF.putvar(ncid,\"ratio_mean\",tik1_ratio_mean)\n",
    "NetCDF.putvar(ncid,\"ratio_var\",tik1_ratio_var)\n",
    "\n",
    "NetCDF.putvar(ncid,\"iratio_mean\",tik1_iratio_mean)\n",
    "NetCDF.putvar(ncid,\"iratio_var\",tik1_iratio_var)\n",
    "\n",
    "NetCDF.putvar(ncid,\"energy\",energy)\n",
    "NetCDF.putvar(ncid,\"pitch\",pitch)\n",
    "\n",
    "NetCDF.close(ncid);"
   ]
  },
  {
   "cell_type": "code",
   "execution_count": 8,
   "metadata": {
    "collapsed": false
   },
   "outputs": [
    {
     "name": "stdout",
     "output_type": "stream",
     "text": [
      "Progress: 100%|█████████████████████████████████████████| Time: 0:36:31\n"
     ]
    }
   ],
   "source": [
    "nr,nc = size(A_a)\n",
    "num=25\n",
    "x_a_samples = zeros(nc,num)\n",
    "x_b_samples = zeros(nc,num)\n",
    "L1E,L1p = gradEP(energy,pitch)\n",
    "@showprogress for i=1:num\n",
    "    rA_b = A_b .+ dA.*randn(size(A_b)...)\n",
    "    rA_a = A_a .+ dA.*randn(size(A_a)...)\n",
    "    rspec_b = spec_b .+ err_b.*randn(size(spec_b)...)\n",
    "    rspec_a = spec_a .+ err_a.*randn(size(spec_a)...)\n",
    "\n",
    "    mf_before = FisherFunctional(rA_b,rspec_b,err_b,(L1E,L1p));\n",
    "    mf_after  = FisherFunctional(rA_a,rspec_a,err_a,(L1E,L1p));\n",
    "    alpha_before = lcurve(mf_before,log_alpha_range=(0,20),nseeds=20,kwargs={:maxiter=>5,:verbose=>false})\n",
    "    alpha_after = lcurve(mf_after,log_alpha_range=(0,20),nseeds=20,kwargs={:maxiter=>5,:verbose=>false})\n",
    "    sol_b = minimize(mf_before,alpha_before,maxiter=5)\n",
    "    sol_a = minimize(mf_after,alpha_after,maxiter=5)\n",
    "    x_b_samples[:,i] = max(sol_b.x,0)/(dE*dP)\n",
    "    x_a_samples[:,i] = max(sol_a.x,0)/(dE*dP)\n",
    "end"
   ]
  },
  {
   "cell_type": "code",
   "execution_count": 19,
   "metadata": {
    "collapsed": true
   },
   "outputs": [],
   "source": [
    "mf_b_mean = reshape(mean(x_b_samples,2),20,20)\n",
    "mf_b_var  = reshape(var(x_b_samples,2),20,20)\n",
    "mf_b_bias = mf_b_mean .- true_before\n",
    "\n",
    "mf_a_mean = reshape(mean(x_a_samples,2),20,20)\n",
    "mf_a_var  = reshape(var(x_a_samples,2),20,20)\n",
    "mf_a_bias = mf_a_mean .- true_after\n",
    "\n",
    "mf_ratio_mean = reshape(mean(max(x_a_samples,1e9)./max(x_b_samples,1e9),2),20,20)\n",
    "mf_ratio_var = reshape(var(max(x_a_samples,1e9)./max(x_b_samples,1e9),2),20,20)\n",
    "\n",
    "iratio_samples = zeros(20,25)\n",
    "for i=1:num\n",
    "    iratio_samples[:,i] = sum(reshape(x_a_samples[:,i],20,20),2)./sum(reshape(x_b_samples[:,i],20,20),2)\n",
    "end\n",
    "\n",
    "mf_iratio_mean = squeeze(mean(iratio_samples,2),2)\n",
    "mf_iratio_var = squeeze(var(iratio_samples,2),2);"
   ]
  },
  {
   "cell_type": "code",
   "execution_count": 18,
   "metadata": {
    "collapsed": false
   },
   "outputs": [
    {
     "data": {
      "text/plain": [
       "(20,)"
      ]
     },
     "execution_count": 18,
     "metadata": {},
     "output_type": "execute_result"
    }
   ],
   "source": [
    "size(mf_iratio_mean)"
   ]
  },
  {
   "cell_type": "code",
   "execution_count": 20,
   "metadata": {
    "collapsed": false
   },
   "outputs": [
    {
     "data": {
      "image/png": "[encoded data removed]",
      "text/plain": [
       "Figure(PyObject <matplotlib.figure.Figure object at 0x7fbafbb7d0f0>)"
      ]
     },
     "metadata": {},
     "output_type": "display_data"
    },
    {
     "data": {
      "text/plain": [
       "(PyObject <matplotlib.lines.Line2D object at 0x7fbafbadf6a0>,(PyObject <matplotlib.lines.Line2D object at 0x7fbafbad8b00>,PyObject <matplotlib.lines.Line2D object at 0x7fbafbad8eb8>),(PyObject <matplotlib.collections.LineCollection object at 0x7fbafbad8128>,))"
      ]
     },
     "execution_count": 20,
     "metadata": {},
     "output_type": "execute_result"
    }
   ],
   "source": [
    "errorbar(pitch,mf_iratio_mean,sqrt(mf_iratio_var))"
   ]
  },
  {
   "cell_type": "code",
   "execution_count": 21,
   "metadata": {
    "collapsed": false
   },
   "outputs": [],
   "source": [
    "using NetCDF\n",
    "# Write synthetic data to file\n",
    "fname = \"data/mf_sampled_sawtooth.cdf\"\n",
    "\n",
    "isfile(fname) && rm(fname)\n",
    "\n",
    "nen_id = NcDim(\"nenergy\",20)\n",
    "np_id = NcDim(\"npitch\",20)\n",
    "\n",
    "x_a_mean_varid = NcVar(\"x_a_mean\",[np_id,nen_id])\n",
    "x_a_var_varid = NcVar(\"x_a_var\",[np_id,nen_id])\n",
    "x_a_bias_varid = NcVar(\"x_a_bias\",[np_id,nen_id])\n",
    "\n",
    "x_b_mean_varid = NcVar(\"x_b_mean\",[np_id,nen_id])\n",
    "x_b_var_varid = NcVar(\"x_b_var\",[np_id,nen_id])\n",
    "x_b_bias_varid = NcVar(\"x_b_bias\",[np_id,nen_id])\n",
    "\n",
    "x_ratio_mean_varid = NcVar(\"ratio_mean\",[np_id,nen_id])\n",
    "x_ratio_var_varid = NcVar(\"ratio_var\",[np_id,nen_id])\n",
    "\n",
    "iratio_mean_varid = NcVar(\"iratio_mean\",np_id)\n",
    "iratio_var_varid = NcVar(\"iratio_var\",np_id)\n",
    "\n",
    "energy_varid = NcVar(\"energy\",nen_id)\n",
    "pitch_varid = NcVar(\"pitch\",np_id)\n",
    "\n",
    "ncid = NetCDF.create(fname,[x_a_mean_varid,x_a_var_varid,x_a_bias_varid,\n",
    "    x_b_mean_varid,x_b_var_varid,x_b_bias_varid,\n",
    "    x_ratio_mean_varid,x_ratio_var_varid,\n",
    "    iratio_mean_varid,iratio_var_varid,\n",
    "    energy_varid,pitch_varid],mode=NC_CLASSIC_MODEL)\n",
    "\n",
    "NetCDF.putvar(ncid,\"x_b_mean\",mf_b_mean)\n",
    "NetCDF.putvar(ncid,\"x_b_var\",mf_b_var)\n",
    "NetCDF.putvar(ncid,\"x_b_bias\",mf_b_bias)\n",
    "\n",
    "NetCDF.putvar(ncid,\"x_a_mean\",mf_a_mean)\n",
    "NetCDF.putvar(ncid,\"x_a_var\",mf_a_var)\n",
    "NetCDF.putvar(ncid,\"x_a_bias\",mf_a_bias)\n",
    "\n",
    "NetCDF.putvar(ncid,\"ratio_mean\",mf_ratio_mean)\n",
    "NetCDF.putvar(ncid,\"ratio_var\",mf_ratio_var)\n",
    "\n",
    "NetCDF.putvar(ncid,\"iratio_mean\",mf_iratio_mean)\n",
    "NetCDF.putvar(ncid,\"iratio_var\",mf_iratio_var)\n",
    "\n",
    "NetCDF.putvar(ncid,\"energy\",energy)\n",
    "NetCDF.putvar(ncid,\"pitch\",pitch)\n",
    "\n",
    "NetCDF.close(ncid);"
   ]
  },
  {
   "cell_type": "code",
   "execution_count": 10,
   "metadata": {
    "collapsed": false
   },
   "outputs": [
    {
     "name": "stdout",
     "output_type": "stream",
     "text": [
      " PB allocation in DMUMPS_185\n",
      "Progress: 100%|█████████████████████████████████████████| Time: 3:52:53\n"
     ]
    }
   ],
   "source": [
    "nr,nc = size(A_a)\n",
    "num=50\n",
    "x_a_samples = zeros(nc,num)\n",
    "x_b_samples = zeros(nc,num)\n",
    "\n",
    "@showprogress for i=1:num\n",
    "    rA_b = A_b .+ dA.*randn(size(A_b)...)\n",
    "    rA_a = A_a .+ dA.*randn(size(A_a)...)\n",
    "    rspec_b = spec_b .+ err_b.*randn(size(spec_b)...)\n",
    "    rspec_a = spec_a .+ err_a.*randn(size(spec_a)...)\n",
    "\n",
    "    mf_before = EntropyFunctional(rA_b,rspec_b,err_b);\n",
    "    mf_after  = EntropyFunctional(rA_a,rspec_a,err_a);\n",
    "    alpha_before = lcurve(mf_before,log_alpha_range=(-10,-3),nseeds=21)\n",
    "    alpha_after = lcurve(mf_after,log_alpha_range=(-10,-3),nseeds=21)\n",
    "    sol_b = minimize(mf_before,alpha_before)\n",
    "    sol_a = minimize(mf_after,alpha_after)\n",
    "    x_b_samples[:,i] = max(sol_b.x,0)/(dE*dP)\n",
    "    x_a_samples[:,i] = max(sol_a.x,0)/(dE*dP)\n",
    "end"
   ]
  },
  {
   "cell_type": "code",
   "execution_count": 11,
   "metadata": {
    "collapsed": false
   },
   "outputs": [],
   "source": [
    "me_b_mean = reshape(mean(x_b_samples,2),20,20)\n",
    "me_b_var  = reshape(var(x_b_samples,2),20,20)\n",
    "me_b_bias = me_b_mean .- true_before\n",
    "\n",
    "me_a_mean = reshape(mean(x_a_samples,2),20,20)\n",
    "me_a_var  = reshape(var(x_a_samples,2),20,20)\n",
    "me_a_bias = me_a_mean .- true_after\n",
    "\n",
    "me_ratio_mean = reshape(mean(max(x_a_samples,1e9)./max(x_b_samples,1e9),2),20,20)\n",
    "me_ratio_var = reshape(var(max(x_a_samples,1e9)./max(x_b_samples,1e9),2),20,20)\n",
    "\n",
    "iratio_samples = zeros(20,num)\n",
    "for i=1:num\n",
    "    aa = sqrt(sum(reshape(x_a_samples[:,i],20,20),2))./sum(reshape(x_b_samples[:,i],20,20),2)\n",
    "    bb = sqrt(sum(reshape(x_a_samples[:,i],20,20),2))\n",
    "    iratio_samples[:,i] = aa.*bb\n",
    "end\n",
    "me_iratio_mean = squeeze(mean(iratio_samples,2),2)\n",
    "me_iratio_var = squeeze(var(iratio_samples,2),2);"
   ]
  },
  {
   "cell_type": "code",
   "execution_count": 14,
   "metadata": {
    "collapsed": false,
    "scrolled": false
   },
   "outputs": [
    {
     "data": {
      "image/png": "[encoded data removed]",
      "text/plain": [
       "PyPlot.Figure(PyObject <matplotlib.figure.Figure object at 0x7ff8b6159be0>)"
      ]
     },
     "metadata": {},
     "output_type": "display_data"
    },
    {
     "data": {
      "text/plain": [
       "PyObject <matplotlib.collections.PolyCollection object at 0x7ff8b60c66a0>"
      ]
     },
     "execution_count": 14,
     "metadata": {},
     "output_type": "execute_result"
    }
   ],
   "source": [
    "pcolor(energy,pitch,me_a_mean)"
   ]
  },
  {
   "cell_type": "code",
   "execution_count": null,
   "metadata": {
    "collapsed": true
   },
   "outputs": [],
   "source": []
  },
  {
   "cell_type": "code",
   "execution_count": 17,
   "metadata": {
    "collapsed": false
   },
   "outputs": [],
   "source": [
    "using NetCDF\n",
    "# Write synthetic data to file\n",
    "fname = \"data/me_sampled_sawtooth.cdf\"\n",
    "\n",
    "isfile(fname) && rm(fname)\n",
    "\n",
    "nen_id = NcDim(\"nenergy\",20)\n",
    "np_id = NcDim(\"npitch\",20)\n",
    "\n",
    "x_a_mean_varid = NcVar(\"x_a_mean\",[np_id,nen_id])\n",
    "x_a_var_varid = NcVar(\"x_a_var\",[np_id,nen_id])\n",
    "x_a_bias_varid = NcVar(\"x_a_bias\",[np_id,nen_id])\n",
    "\n",
    "x_b_mean_varid = NcVar(\"x_b_mean\",[np_id,nen_id])\n",
    "x_b_var_varid = NcVar(\"x_b_var\",[np_id,nen_id])\n",
    "x_b_bias_varid = NcVar(\"x_b_bias\",[np_id,nen_id])\n",
    "\n",
    "x_ratio_mean_varid = NcVar(\"ratio_mean\",[np_id,nen_id])\n",
    "x_ratio_var_varid = NcVar(\"ratio_var\",[np_id,nen_id])\n",
    "\n",
    "iratio_mean_varid = NcVar(\"iratio_mean\",np_id)\n",
    "iratio_var_varid = NcVar(\"iratio_var\",np_id)\n",
    "\n",
    "energy_varid = NcVar(\"energy\",nen_id)\n",
    "pitch_varid = NcVar(\"pitch\",np_id)\n",
    "\n",
    "ncid = NetCDF.create(fname,NcVar[x_a_mean_varid,x_a_var_varid,x_a_bias_varid,\n",
    "    x_b_mean_varid,x_b_var_varid,x_b_bias_varid,\n",
    "    x_ratio_mean_varid,x_ratio_var_varid,\n",
    "    iratio_mean_varid,iratio_var_varid,\n",
    "    energy_varid,pitch_varid],mode=NC_CLASSIC_MODEL)\n",
    "\n",
    "NetCDF.putvar(ncid,\"x_b_mean\",me_b_mean)\n",
    "NetCDF.putvar(ncid,\"x_b_var\",me_b_var)\n",
    "NetCDF.putvar(ncid,\"x_b_bias\",me_b_bias)\n",
    "\n",
    "NetCDF.putvar(ncid,\"x_a_mean\",me_a_mean)\n",
    "NetCDF.putvar(ncid,\"x_a_var\",me_a_var)\n",
    "NetCDF.putvar(ncid,\"x_a_bias\",me_a_bias)\n",
    "\n",
    "NetCDF.putvar(ncid,\"ratio_mean\",me_ratio_mean)\n",
    "NetCDF.putvar(ncid,\"ratio_var\",me_ratio_var)\n",
    "\n",
    "NetCDF.putvar(ncid,\"iratio_mean\",me_iratio_mean)\n",
    "NetCDF.putvar(ncid,\"iratio_var\",me_iratio_var)\n",
    "\n",
    "NetCDF.putvar(ncid,\"energy\",collect(energy))\n",
    "NetCDF.putvar(ncid,\"pitch\",collect(pitch))\n",
    "\n",
    "NetCDF.close(ncid);"
   ]
  },
  {
   "cell_type": "code",
   "execution_count": 54,
   "metadata": {
    "collapsed": false
   },
   "outputs": [
    {
     "data": {
      "image/png": "[encoded data removed]",
      "text/plain": [
       "Figure(PyObject <matplotlib.figure.Figure object at 0x7fbafb87e940>)"
      ]
     },
     "metadata": {},
     "output_type": "display_data"
    },
    {
     "data": {
      "text/plain": [
       "PyObject <matplotlib.colorbar.Colorbar object at 0x7fbafb38f0b8>"
      ]
     },
     "execution_count": 54,
     "metadata": {},
     "output_type": "execute_result"
    }
   ],
   "source": [
    "pcolor(energy,pitch,me_a_mean,vmax=4e11)\n",
    "colorbar()"
   ]
  },
  {
   "cell_type": "code",
   "execution_count": 110,
   "metadata": {
    "collapsed": false
   },
   "outputs": [],
   "source": [
    "using NetCDF\n",
    "# Write synthetic data to file\n",
    "fname = \"data/true_sawtooth.cdf\"\n",
    "\n",
    "isfile(fname) && rm(fname)\n",
    "\n",
    "nen_id = NcDim(\"nenergy\",20)\n",
    "np_id = NcDim(\"npitch\",20)\n",
    "\n",
    "x_a_varid = NcVar(\"x_a\",[np_id,nen_id])\n",
    "\n",
    "x_b_varid = NcVar(\"x_b\",[np_id,nen_id])\n",
    "\n",
    "x_ratio_varid = NcVar(\"ratio\",[np_id,nen_id])\n",
    "\n",
    "iratio_varid = NcVar(\"iratio\",np_id)\n",
    "\n",
    "energy_varid = NcVar(\"energy\",nen_id)\n",
    "pitch_varid = NcVar(\"pitch\",np_id)\n",
    "\n",
    "ncid = NetCDF.create(fname,[x_a_varid,x_b_varid,\n",
    "    x_ratio_varid,iratio_varid,energy_varid,pitch_varid],mode=NC_CLASSIC_MODEL)\n",
    "\n",
    "NetCDF.putvar(ncid,\"x_b\",true_before)\n",
    "\n",
    "NetCDF.putvar(ncid,\"x_a\",true_after)\n",
    "\n",
    "NetCDF.putvar(ncid,\"ratio\",ratio)\n",
    "\n",
    "NetCDF.putvar(ncid,\"iratio\",iratio)\n",
    "\n",
    "\n",
    "NetCDF.putvar(ncid,\"energy\",energy)\n",
    "NetCDF.putvar(ncid,\"pitch\",pitch)\n",
    "\n",
    "NetCDF.close(ncid);"
   ]
  },
  {
   "cell_type": "code",
   "execution_count": 107,
   "metadata": {
    "collapsed": false
   },
   "outputs": [
    {
     "data": {
      "text/plain": [
       "20x20 Array{Float64,2}:\n",
       " 0.880247  0.87033   1.09054   2.13279   7.31343   …  0.0       0.0  0.0  0.0\n",
       " 0.782418  0.731004  0.980037  0.938758  0.980751     0.0       0.0  0.0  0.0\n",
       " 0.989221  0.826849  0.836867  1.20818   0.93269      0.0       0.0  0.0  0.0\n",
       " 0.892626  0.970255  0.947302  1.05628   1.11531      0.0       0.0  0.0  0.0\n",
       " 0.921018  0.953716  1.05702   0.860786  1.1368       0.0       0.0  0.0  0.0\n",
       " 1.02512   1.00206   1.04906   1.05547   1.26221   …  0.0       0.0  0.0  0.0\n",
       " 0.917293  0.972097  0.970073  1.0329    1.32814      0.0       0.0  0.0  0.0\n",
       " 0.947762  0.959162  1.00144   1.08856   1.0593       0.0       0.0  0.0  0.0\n",
       " 0.903424  0.913123  0.998205  0.891216  0.900977     0.0       0.0  0.0  0.0\n",
       " 0.897848  0.883957  0.90257   0.811703  0.758974     0.0       0.0  0.0  0.0\n",
       " 0.885299  0.799019  0.793633  0.740074  0.681666  …  0.0       0.0  0.0  0.0\n",
       " 0.859111  0.746103  0.702662  0.703692  0.618974     0.0       0.0  0.0  0.0\n",
       " 0.830779  0.728623  0.659942  0.75168   0.683407     0.0       0.0  0.0  0.0\n",
       " 0.8231    0.751882  0.692016  0.727829  0.672391     0.0       0.0  0.0  0.0\n",
       " 0.793662  0.752001  0.750458  0.734466  0.637576     0.0       0.0  0.0  0.0\n",
       " 0.794804  0.790393  0.764039  0.681969  0.621053  …  1.9323e8  0.0  0.0  0.0\n",
       " 0.783911  0.767034  0.752661  0.632586  0.629375     0.0       0.0  0.0  0.0\n",
       " 0.727901  0.746091  0.738298  0.678921  0.641601     0.0       0.0  0.0  0.0\n",
       " 0.69799   0.758635  0.661398  0.607152  0.665599     0.0       0.0  0.0  0.0\n",
       " 0.756504  0.685795  0.751895  0.660838  0.578624     0.0       0.0  0.0  0.0"
      ]
     },
     "execution_count": 107,
     "metadata": {},
     "output_type": "execute_result"
    }
   ],
   "source": [
    "iratio = squeeze(sum(true_after,2)./sum(true_before,2),2)\n",
    "ratio = (sqrt(true_after)./max(true_before,1)).*sqrt(true_after)"
   ]
  },
  {
   "cell_type": "code",
   "execution_count": 108,
   "metadata": {
    "collapsed": false
   },
   "outputs": [
    {
     "data": {
      "image/png": "[encoded data removed]",
      "text/plain": [
       "Figure(PyObject <matplotlib.figure.Figure object at 0x7fbafaf71d30>)"
      ]
     },
     "metadata": {},
     "output_type": "display_data"
    },
    {
     "data": {
      "text/plain": [
       "PyObject <matplotlib.colorbar.Colorbar object at 0x7fbafa8e2780>"
      ]
     },
     "execution_count": 108,
     "metadata": {},
     "output_type": "execute_result"
    }
   ],
   "source": [
    "pcolor(energy,pitch,ratio,vmax=1)\n",
    "colorbar()"
   ]
  },
  {
   "cell_type": "code",
   "execution_count": 125,
   "metadata": {
    "collapsed": false
   },
   "outputs": [
    {
     "data": {
      "image/png": "[encoded data removed]",
      "text/plain": [
       "Figure(PyObject <matplotlib.figure.Figure object at 0x7fbafa78d588>)"
      ]
     },
     "metadata": {},
     "output_type": "display_data"
    },
    {
     "data": {
      "text/plain": [
       "1-element Array{Any,1}:\n",
       " PyObject <matplotlib.lines.Line2D object at 0x7fbafa4d1ef0>"
      ]
     },
     "execution_count": 125,
     "metadata": {},
     "output_type": "execute_result"
    }
   ],
   "source": [
    "t_b = bilinear(true_dist[\"TRANSP_before\"],true_dist[\"E\"],true_dist[\"p\"],a[\"E\"],a[\"p\"])\n",
    "plot(spec_b)\n",
    "plot(A_b_full*vec(t_b)*dS)"
   ]
  },
  {
   "cell_type": "code",
   "execution_count": 118,
   "metadata": {
    "collapsed": false
   },
   "outputs": [
    {
     "data": {
      "text/plain": [
       "0.06397331846301313"
      ]
     },
     "execution_count": 118,
     "metadata": {},
     "output_type": "execute_result"
    }
   ],
   "source": [
    "dS=(abs(energy_full_A[2]-energy_full_A[1])*abs(pitch_full_A[2]-pitch_full_A[1]))"
   ]
  },
  {
   "cell_type": "code",
   "execution_count": null,
   "metadata": {
    "collapsed": true
   },
   "outputs": [],
   "source": []
  }
 ],
 "metadata": {
  "kernelspec": {
   "display_name": "Julia 0.4.0",
   "language": "julia",
   "name": "julia-0.4"
  },
  "language_info": {
   "file_extension": ".jl",
   "mimetype": "application/julia",
   "name": "julia",
   "version": "0.4.0"
  }
 },
 "nbformat": 4,
 "nbformat_minor": 0
}
