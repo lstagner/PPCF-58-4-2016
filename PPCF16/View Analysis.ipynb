{
 "cells": [
  {
   "cell_type": "code",
   "execution_count": null,
   "metadata": {
    "collapsed": false
   },
   "outputs": [],
   "source": [
    "push!(LOAD_PATH, \"./src\")\n",
    "using RegularizedSystems\n",
    "using VSTom\n",
    "using PyPlot\n",
    "using ProgressMeter"
   ]
  },
  {
   "cell_type": "code",
   "execution_count": null,
   "metadata": {
    "collapsed": false
   },
   "outputs": [],
   "source": [
    "function make_synthetic_data{T<:Real}(A::Array{T,2},dist::Array{T,2},n::T,b::T,dE::T,dP::T)\n",
    "    y = (dE*dP) * (A*vec(dist))\n",
    "    \n",
    "    scale = n*mean(sqrt(y))\n",
    "    yerr = scale .* max(sqrt(y),sqrt(b)) .* randn(length(y))\n",
    "    \n",
    "    noisy_spectrum = y .+ yerr\n",
    "    noisy_background = b .+ scale*sqrt(b).*randn(length(y))\n",
    "    \n",
    "    scale_est = n*mean(sqrt(abs(noisy_spectrum)))\n",
    "    \n",
    "    err = scale_est .* max(sqrt(abs(noisy_spectrum)),sqrt(abs(noisy_background)))\n",
    "    \n",
    "    return noisy_spectrum, err\n",
    "end"
   ]
  },
  {
   "cell_type": "code",
   "execution_count": null,
   "metadata": {
    "collapsed": false
   },
   "outputs": [],
   "source": [
    "wf2 = read_ncdf(\"/home/lstagner/Dropbox/Inversion_method_analysis/Asger\\ source\\ code/Transfer_matrix_2_views.nc\")\n",
    "wf3 = read_ncdf(\"/home/lstagner/Dropbox/Inversion_method_analysis/Asger\\ source\\ code/Transfer_matrix_3_views.nc\")\n",
    "wf4 = read_ncdf(\"/home/lstagner/Dropbox/Inversion_method_analysis/Asger\\ source\\ code/Transfer_matrix_4_views.nc\")"
   ]
  },
  {
   "cell_type": "code",
   "execution_count": null,
   "metadata": {
    "collapsed": true
   },
   "outputs": [],
   "source": [
    "nenergy = 20\n",
    "npitch = 20\n",
    "\n",
    "test_dists = read_ncdf(\"data/test_distributions.cdf\");\n",
    "p = vec(test_dists[\"P\"][:,1])\n",
    "E = vec(test_dists[\"E\"][1,:])\n",
    "transp_full = test_dists[\"transp\"]\n",
    "\n",
    "\n",
    "energy_full = wf2[\"E\"]\n",
    "pitch_full  = wf2[\"p\"]\n",
    "A_2_full = resize_transfer_matrix(wf2[\"transfer_matrix\"],energy_full,pitch_full,E,p)\n",
    "A_3_full = resize_transfer_matrix(wf3[\"transfer_matrix\"],energy_full,pitch_full,E,p)\n",
    "A_4_full = resize_transfer_matrix(wf4[\"transfer_matrix\"],energy_full,pitch_full,E,p)\n",
    "\n",
    "energy_full = E\n",
    "pitch_full = p\n",
    "\n",
    "dE_full = abs(energy_full[2] - energy_full[1])\n",
    "dP_full = abs(pitch_full[2] - pitch_full[1])\n",
    "\n",
    "energy = linspace(20.0,maximum(energy_full),nenergy)\n",
    "pitch = linspace(extrema(pitch_full)...,npitch)\n",
    "A_2 = resize_transfer_matrix(A_2_full,energy_full,pitch_full,energy,pitch);\n",
    "A_3 = resize_transfer_matrix(A_3_full,energy_full,pitch_full,energy,pitch);\n",
    "A_4 = resize_transfer_matrix(A_4_full,energy_full,pitch_full,energy,pitch);\n",
    "\n",
    "dE = abs(energy[2]-energy[1])\n",
    "dP = abs(pitch[2]-pitch[1]);\n",
    "transp = bilinear(transp_full,E,p,energy,pitch);"
   ]
  },
  {
   "cell_type": "code",
   "execution_count": null,
   "metadata": {
    "collapsed": false
   },
   "outputs": [],
   "source": [
    "nr,nc = size(A_2)\n",
    "x_2 = zeros(nc,25)\n",
    "for i=1:25\n",
    "    spec,err = make_synthetic_data(A_2_full,transp_full,0.5,1.25e14,dE_full,dP_full)\n",
    "    RF = TSVDFunctional(A_2,spec,err)\n",
    "    k = discrete_lcurve(RF,1:120)\n",
    "    sol = minimize(RF,k)\n",
    "    x_2[:,i] = max(sol.x,0)/(dE*dP)\n",
    "end"
   ]
  },
  {
   "cell_type": "code",
   "execution_count": null,
   "metadata": {
    "collapsed": true
   },
   "outputs": [],
   "source": [
    "nr,nc = size(A_3)\n",
    "x_3 = zeros(nc,25)\n",
    "for i=1:25\n",
    "    spec,err = make_synthetic_data(A_3_full,transp_full,0.5,1.25e14,dE_full,dP_full)\n",
    "    RF = TSVDFunctional(A_3,spec,err)\n",
    "    k = discrete_lcurve(RF,1:180)\n",
    "    sol = minimize(RF,k)\n",
    "    x_3[:,i] = max(sol.x,0)/(dE*dP)\n",
    "end"
   ]
  },
  {
   "cell_type": "code",
   "execution_count": null,
   "metadata": {
    "collapsed": true
   },
   "outputs": [],
   "source": [
    "nr,nc = size(A_4)\n",
    "x_4 = zeros(nc,25)\n",
    "for i=1:25\n",
    "    spec,err = make_synthetic_data(A_4_full,transp_full,0.5,1.25e14,dE_full,dP_full)\n",
    "    RF = TSVDFunctional(A_4,spec,err)\n",
    "    k = discrete_lcurve(RF,1:180)\n",
    "    sol = minimize(RF,k)\n",
    "    x_4[:,i] = max(sol.x,0)/(dE*dP)\n",
    "end"
   ]
  },
  {
   "cell_type": "code",
   "execution_count": null,
   "metadata": {
    "collapsed": false
   },
   "outputs": [],
   "source": [
    "tsvd_x_2_mean = reshape(mean(x_2,2),20,20)\n",
    "tsvd_x_2_var = reshape(var(x_2,2),20,20)\n",
    "\n",
    "tsvd_x_3_mean = reshape(mean(x_3,2),20,20)\n",
    "tsvd_x_3_var = reshape(var(x_3,2),20,20)\n",
    "\n",
    "tsvd_x_4_mean = reshape(mean(x_4,2),20,20)\n",
    "tsvd_x_4_var = reshape(var(x_4,2),20,20);"
   ]
  },
  {
   "cell_type": "markdown",
   "metadata": {},
   "source": [
    "# TIK0"
   ]
  },
  {
   "cell_type": "code",
   "execution_count": null,
   "metadata": {
    "collapsed": true
   },
   "outputs": [],
   "source": [
    "nr,nc = size(A_2)\n",
    "x_2 = zeros(nc,25)\n",
    "for i=1:25\n",
    "    spec,err = make_synthetic_data(A_2_full,transp_full,0.5,1.25e14,dE_full,dP_full)\n",
    "    RF = TikhonovFunctional(A_2,spec,err,(eye(nc),))\n",
    "    alpha = lcurve(RF,log_alpha_range=(-10,5),nseeds=20)\n",
    "    sol = minimize(RF,alpha)\n",
    "    x_2[:,i] = max(sol.x,0)/(dE*dP)\n",
    "end\n",
    "\n",
    "nr,nc = size(A_3)\n",
    "x_3 = zeros(nc,25)\n",
    "for i=1:25\n",
    "    spec,err = make_synthetic_data(A_3_full,transp_full,0.5,1.25e14,dE_full,dP_full)\n",
    "    RF = TikhonovFunctional(A_3,spec,err,(eye(nc),))\n",
    "    alpha = lcurve(RF,log_alpha_range=(-10,5),nseeds=20)\n",
    "    sol = minimize(RF,alpha)\n",
    "    x_3[:,i] = max(sol.x,0)/(dE*dP)\n",
    "end\n",
    "\n",
    "nr,nc = size(A_4)\n",
    "x_4 = zeros(nc,25)\n",
    "for i=1:25\n",
    "    spec,err = make_synthetic_data(A_4_full,transp_full,0.5,1.25e14,dE_full,dP_full)\n",
    "    RF = TikhonovFunctional(A_4,spec,err,(eye(nc),))\n",
    "    alpha = lcurve(RF,log_alpha_range=(-10,5),nseeds=20)\n",
    "    sol = minimize(RF,alpha)\n",
    "    x_4[:,i] = max(sol.x,0)/(dE*dP)\n",
    "end"
   ]
  },
  {
   "cell_type": "code",
   "execution_count": null,
   "metadata": {
    "collapsed": true
   },
   "outputs": [],
   "source": [
    "tik0_x_2_mean = reshape(mean(x_2,2),20,20)\n",
    "tik0_x_2_var = reshape(var(x_2,2),20,20)\n",
    "\n",
    "tik0_x_3_mean = reshape(mean(x_3,2),20,20)\n",
    "tik0_x_3_var = reshape(var(x_3,2),20,20)\n",
    "\n",
    "tik0_x_4_mean = reshape(mean(x_4,2),20,20)\n",
    "tik0_x_4_var = reshape(var(x_4,2),20,20);"
   ]
  },
  {
   "cell_type": "code",
   "execution_count": null,
   "metadata": {
    "collapsed": true
   },
   "outputs": [],
   "source": [
    "L1E,L1p = gradEP(energy,pitch)\n",
    "\n",
    "nr,nc = size(A_2)\n",
    "x_2 = zeros(nc,25)\n",
    "for i=1:25\n",
    "    spec,err = make_synthetic_data(A_2_full,transp_full,0.5,1.25e14,dE_full,dP_full)\n",
    "    RF = TikhonovFunctional(A_2,spec,err,(L1E,L1p))\n",
    "    alpha = lcurve(RF,log_alpha_range=(0,20),nseeds=20)\n",
    "    sol = minimize(RF,alpha)\n",
    "    x_2[:,i] = max(sol.x,0)/(dE*dP)\n",
    "end\n",
    "\n",
    "nr,nc = size(A_3)\n",
    "x_3 = zeros(nc,25)\n",
    "for i=1:25\n",
    "    spec,err = make_synthetic_data(A_3_full,transp_full,0.5,1.25e14,dE_full,dP_full)\n",
    "    RF = TikhonovFunctional(A_3,spec,err,(L1E,L1p))\n",
    "    alpha = lcurve(RF,log_alpha_range=(0,20),nseeds=20)\n",
    "    sol = minimize(RF,alpha)\n",
    "    x_3[:,i] = max(sol.x,0)/(dE*dP)\n",
    "end\n",
    "\n",
    "nr,nc = size(A_4)\n",
    "x_4 = zeros(nc,25)\n",
    "for i=1:25\n",
    "    spec,err = make_synthetic_data(A_4_full,transp_full,0.5,1.25e14,dE_full,dP_full)\n",
    "    RF = TikhonovFunctional(A_4,spec,err,(L1E,L1p))\n",
    "    alpha = lcurve(RF,log_alpha_range=(0,20),nseeds=20)\n",
    "    sol = minimize(RF,alpha)\n",
    "    x_4[:,i] = max(sol.x,0)/(dE*dP)\n",
    "end"
   ]
  },
  {
   "cell_type": "code",
   "execution_count": null,
   "metadata": {
    "collapsed": true
   },
   "outputs": [],
   "source": [
    "tik1_x_2_mean = reshape(mean(x_2,2),20,20)\n",
    "tik1_x_2_var = reshape(var(x_2,2),20,20)\n",
    "\n",
    "tik1_x_3_mean = reshape(mean(x_3,2),20,20)\n",
    "tik1_x_3_var = reshape(var(x_3,2),20,20)\n",
    "\n",
    "tik1_x_4_mean = reshape(mean(x_4,2),20,20)\n",
    "tik1_x_4_var = reshape(var(x_4,2),20,20);"
   ]
  },
  {
   "cell_type": "code",
   "execution_count": null,
   "metadata": {
    "collapsed": false
   },
   "outputs": [],
   "source": [
    "nr,nc = size(A_2)\n",
    "x_2 = zeros(nc,25)\n",
    "for i=1:25\n",
    "    spec,err = make_synthetic_data(A_2_full,transp_full,0.5,1.25e14,dE_full,dP_full)\n",
    "    RF = FisherFunctional(A_2,spec,err,(L1E,L1p))\n",
    "    alpha = lcurve(RF,log_alpha_range=(0,20),nseeds=20,kwargs={:maxiter=>5,:verbose=>false})\n",
    "    sol = minimize(RF,alpha,maxiter=5)\n",
    "    x_2[:,i] = max(sol.x,0)/(dE*dP)\n",
    "end\n",
    "\n",
    "nr,nc = size(A_3)\n",
    "x_3 = zeros(nc,25)\n",
    "for i=1:25\n",
    "    spec,err = make_synthetic_data(A_3_full,transp_full,0.5,1.25e14,dE_full,dP_full)\n",
    "    RF = FisherFunctional(A_3,spec,err,(L1E,L1p))\n",
    "    alpha = lcurve(RF,log_alpha_range=(0,20),nseeds=20,kwargs={:maxiter=>5,:verbose=>false})\n",
    "    sol = minimize(RF,alpha,maxiter=5)\n",
    "    x_3[:,i] = max(sol.x,0)/(dE*dP)\n",
    "end\n",
    "\n",
    "nr,nc = size(A_4)\n",
    "x_4 = zeros(nc,25)\n",
    "for i=1:25\n",
    "    spec,err = make_synthetic_data(A_4_full,transp_full,0.5,1.25e14,dE_full,dP_full)\n",
    "    RF = FisherFunctional(A_4,spec,err,(L1E,L1p))\n",
    "    alpha = lcurve(RF,log_alpha_range=(0,20),nseeds=20,kwargs={:maxiter=>5,:verbose=>false})\n",
    "    sol = minimize(RF,alpha,maxiter=5)\n",
    "    x_4[:,i] = max(sol.x,0)/(dE*dP)\n",
    "end"
   ]
  },
  {
   "cell_type": "code",
   "execution_count": null,
   "metadata": {
    "collapsed": true
   },
   "outputs": [],
   "source": [
    "mf_x_2_mean = reshape(mean(x_2,2),20,20)\n",
    "mf_x_2_var = reshape(var(x_2,2),20,20)\n",
    "\n",
    "mf_x_3_mean = reshape(mean(x_3,2),20,20)\n",
    "mf_x_3_var = reshape(var(x_3,2),20,20)\n",
    "\n",
    "mf_x_4_mean = reshape(mean(x_4,2),20,20)\n",
    "mf_x_4_var = reshape(var(x_4,2),20,20);"
   ]
  },
  {
   "cell_type": "code",
   "execution_count": null,
   "metadata": {
    "collapsed": false
   },
   "outputs": [],
   "source": [
    "nr,nc = size(A_2)\n",
    "x_2 = zeros(nc,25)\n",
    "@showprogress for i=1:25\n",
    "    spec,err = make_synthetic_data(A_2_full,transp_full,0.5,1.25e14,dE_full,dP_full)\n",
    "    RF = EntropyFunctional(A_2,spec,err)\n",
    "    alpha = lcurve(RF,log_alpha_range=(-10,-3),nseeds=21)\n",
    "    sol = minimize(RF,alpha)\n",
    "    x_2[:,i] = max(sol.x,0)/(dE*dP)\n",
    "end"
   ]
  },
  {
   "cell_type": "code",
   "execution_count": null,
   "metadata": {
    "collapsed": false
   },
   "outputs": [],
   "source": [
    "nr,nc = size(A_3)\n",
    "x_3 = zeros(nc,25)\n",
    "@showprogress for i=1:25\n",
    "    spec,err = make_synthetic_data(A_3_full,transp_full,0.5,1.25e14,dE_full,dP_full)\n",
    "    RF = EntropyFunctional(A_3,spec,err)\n",
    "    alpha = lcurve(RF,log_alpha_range=(-10,-3),nseeds=21)\n",
    "    sol = minimize(RF,alpha)\n",
    "    x_3[:,i] = max(sol.x,0)/(dE*dP)\n",
    "end"
   ]
  },
  {
   "cell_type": "code",
   "execution_count": null,
   "metadata": {
    "collapsed": false
   },
   "outputs": [],
   "source": [
    "nr,nc = size(A_4)\n",
    "x_4 = zeros(nc,25)\n",
    "@showprogress for i=1:25\n",
    "    spec,err = make_synthetic_data(A_4_full,transp_full,0.5,1.25e14,dE_full,dP_full)\n",
    "    RF = EntropyFunctional(A_4,spec,err)\n",
    "    alpha = lcurve(RF,log_alpha_range=(-10,-3),nseeds=21)\n",
    "    sol = minimize(RF,alpha)\n",
    "    x_4[:,i] = max(sol.x,0)/(dE*dP)\n",
    "end"
   ]
  },
  {
   "cell_type": "code",
   "execution_count": null,
   "metadata": {
    "collapsed": true
   },
   "outputs": [],
   "source": [
    "me_x_2_mean = reshape(mean(x_2,2),20,20)\n",
    "me_x_2_var = reshape(var(x_2,2),20,20)\n",
    "\n",
    "me_x_3_mean = reshape(mean(x_3,2),20,20)\n",
    "me_x_3_var = reshape(var(x_3,2),20,20)\n",
    "\n",
    "me_x_4_mean = reshape(mean(x_4,2),20,20)\n",
    "me_x_4_var = reshape(var(x_4,2),20,20);"
   ]
  },
  {
   "cell_type": "code",
   "execution_count": null,
   "metadata": {
    "collapsed": false
   },
   "outputs": [],
   "source": [
    "using NetCDF\n",
    "# Write synthetic data to file\n",
    "fname = \"data/view_analysis.cdf\"\n",
    "\n",
    "isfile(fname) && rm(fname)\n",
    "\n",
    "nen_id = NcDim(\"nenergy\",20)\n",
    "np_id = NcDim(\"npitch\",20)\n",
    "\n",
    "tsvd_x_2_mean_varid = NcVar(\"tsvd_x_2_mean\",[np_id,nen_id])\n",
    "tsvd_x_3_mean_varid = NcVar(\"tsvd_x_3_mean\",[np_id,nen_id])\n",
    "tsvd_x_4_mean_varid = NcVar(\"tsvd_x_4_mean\",[np_id,nen_id])\n",
    "\n",
    "tsvd_x_2_var_varid = NcVar(\"tsvd_x_2_var\",[np_id,nen_id])\n",
    "tsvd_x_3_var_varid = NcVar(\"tsvd_x_3_var\",[np_id,nen_id])\n",
    "tsvd_x_4_var_varid = NcVar(\"tsvd_x_4_var\",[np_id,nen_id])\n",
    "\n",
    "tik0_x_2_mean_varid = NcVar(\"tik0_x_2_mean\",[np_id,nen_id])\n",
    "tik0_x_3_mean_varid = NcVar(\"tik0_x_3_mean\",[np_id,nen_id])\n",
    "tik0_x_4_mean_varid = NcVar(\"tik0_x_4_mean\",[np_id,nen_id])\n",
    "\n",
    "tik0_x_2_var_varid = NcVar(\"tik0_x_2_var\",[np_id,nen_id])\n",
    "tik0_x_3_var_varid = NcVar(\"tik0_x_3_var\",[np_id,nen_id])\n",
    "tik0_x_4_var_varid = NcVar(\"tik0_x_4_var\",[np_id,nen_id])\n",
    "\n",
    "tik1_x_2_mean_varid = NcVar(\"tik1_x_2_mean\",[np_id,nen_id])\n",
    "tik1_x_3_mean_varid = NcVar(\"tik1_x_3_mean\",[np_id,nen_id])\n",
    "tik1_x_4_mean_varid = NcVar(\"tik1_x_4_mean\",[np_id,nen_id])\n",
    "\n",
    "tik1_x_2_var_varid = NcVar(\"tik1_x_2_var\",[np_id,nen_id])\n",
    "tik1_x_3_var_varid = NcVar(\"tik1_x_3_var\",[np_id,nen_id])\n",
    "tik1_x_4_var_varid = NcVar(\"tik1_x_4_var\",[np_id,nen_id])\n",
    "\n",
    "mf_x_2_mean_varid = NcVar(\"mf_x_2_mean\",[np_id,nen_id])\n",
    "mf_x_3_mean_varid = NcVar(\"mf_x_3_mean\",[np_id,nen_id])\n",
    "mf_x_4_mean_varid = NcVar(\"mf_x_4_mean\",[np_id,nen_id])\n",
    "\n",
    "mf_x_2_var_varid = NcVar(\"mf_x_2_var\",[np_id,nen_id])\n",
    "mf_x_3_var_varid = NcVar(\"mf_x_3_var\",[np_id,nen_id])\n",
    "mf_x_4_var_varid = NcVar(\"mf_x_4_var\",[np_id,nen_id])\n",
    "\n",
    "me_x_2_mean_varid = NcVar(\"me_x_2_mean\",[np_id,nen_id])\n",
    "me_x_3_mean_varid = NcVar(\"me_x_3_mean\",[np_id,nen_id])\n",
    "me_x_4_mean_varid = NcVar(\"me_x_4_mean\",[np_id,nen_id])\n",
    "\n",
    "me_x_2_var_varid = NcVar(\"me_x_2_var\",[np_id,nen_id])\n",
    "me_x_3_var_varid = NcVar(\"me_x_3_var\",[np_id,nen_id])\n",
    "me_x_4_var_varid = NcVar(\"me_x_4_var\",[np_id,nen_id])\n",
    "\n",
    "energy_varid = NcVar(\"energy\",nen_id)\n",
    "pitch_varid = NcVar(\"pitch\",np_id)\n",
    "\n",
    "ncid = NetCDF.create(fname,NcVar[tsvd_x_2_mean_varid,tsvd_x_3_mean_varid,tsvd_x_4_mean_varid,\n",
    "    tsvd_x_2_var_varid,tsvd_x_3_var_varid,tsvd_x_4_var_varid,\n",
    "    tik0_x_2_mean_varid,tik0_x_3_mean_varid,tik0_x_4_mean_varid,\n",
    "    tik0_x_2_var_varid,tik0_x_3_var_varid,tik0_x_4_var_varid,\n",
    "    tik1_x_2_mean_varid,tik1_x_3_mean_varid,tik1_x_4_mean_varid,\n",
    "    tik1_x_2_var_varid,tik1_x_3_var_varid,tik1_x_4_var_varid,\n",
    "    mf_x_2_mean_varid,mf_x_3_mean_varid,mf_x_4_mean_varid,\n",
    "    mf_x_2_var_varid,mf_x_3_var_varid,mf_x_4_var_varid,\n",
    "    me_x_2_mean_varid,me_x_3_mean_varid,me_x_4_mean_varid,\n",
    "    me_x_2_var_varid,me_x_3_var_varid,me_x_4_var_varid,energy_varid,pitch_varid],mode=NC_CLASSIC_MODEL)\n",
    "\n",
    "NetCDF.putvar(ncid,\"tsvd_x_2_mean\",tsvd_x_2_mean)\n",
    "NetCDF.putvar(ncid,\"tsvd_x_3_mean\",tsvd_x_3_mean)\n",
    "NetCDF.putvar(ncid,\"tsvd_x_4_mean\",tsvd_x_4_mean)\n",
    "\n",
    "NetCDF.putvar(ncid,\"tsvd_x_2_var\",tsvd_x_2_var)\n",
    "NetCDF.putvar(ncid,\"tsvd_x_3_var\",tsvd_x_3_var)\n",
    "NetCDF.putvar(ncid,\"tsvd_x_4_var\",tsvd_x_4_var)\n",
    "\n",
    "NetCDF.putvar(ncid,\"tik0_x_2_mean\",tik0_x_2_mean)\n",
    "NetCDF.putvar(ncid,\"tik0_x_3_mean\",tik0_x_3_mean)\n",
    "NetCDF.putvar(ncid,\"tik0_x_4_mean\",tik0_x_4_mean)\n",
    "\n",
    "NetCDF.putvar(ncid,\"tik0_x_2_var\",tik0_x_2_var)\n",
    "NetCDF.putvar(ncid,\"tik0_x_3_var\",tik0_x_3_var)\n",
    "NetCDF.putvar(ncid,\"tik0_x_4_var\",tik0_x_4_var)\n",
    "\n",
    "NetCDF.putvar(ncid,\"tik1_x_2_mean\",tik1_x_2_mean)\n",
    "NetCDF.putvar(ncid,\"tik1_x_3_mean\",tik1_x_3_mean)\n",
    "NetCDF.putvar(ncid,\"tik1_x_4_mean\",tik1_x_4_mean)\n",
    "\n",
    "NetCDF.putvar(ncid,\"tik1_x_2_var\",tik1_x_2_var)\n",
    "NetCDF.putvar(ncid,\"tik1_x_3_var\",tik1_x_3_var)\n",
    "NetCDF.putvar(ncid,\"tik1_x_4_var\",tik1_x_4_var)\n",
    "\n",
    "NetCDF.putvar(ncid,\"mf_x_2_mean\",mf_x_2_mean)\n",
    "NetCDF.putvar(ncid,\"mf_x_3_mean\",mf_x_3_mean)\n",
    "NetCDF.putvar(ncid,\"mf_x_4_mean\",mf_x_4_mean)\n",
    "\n",
    "NetCDF.putvar(ncid,\"mf_x_2_var\",mf_x_2_var)\n",
    "NetCDF.putvar(ncid,\"mf_x_3_var\",mf_x_3_var)\n",
    "NetCDF.putvar(ncid,\"mf_x_4_var\",mf_x_4_var)\n",
    "\n",
    "NetCDF.putvar(ncid,\"me_x_2_mean\",me_x_2_mean)\n",
    "NetCDF.putvar(ncid,\"me_x_3_mean\",me_x_3_mean)\n",
    "NetCDF.putvar(ncid,\"me_x_4_mean\",me_x_4_mean)\n",
    "\n",
    "NetCDF.putvar(ncid,\"me_x_2_var\",me_x_2_var)\n",
    "NetCDF.putvar(ncid,\"me_x_3_var\",me_x_3_var)\n",
    "NetCDF.putvar(ncid,\"me_x_4_var\",me_x_4_var)\n",
    "\n",
    "NetCDF.putvar(ncid,\"energy\",collect(energy))\n",
    "NetCDF.putvar(ncid,\"pitch\",collect(pitch))\n",
    "\n",
    "NetCDF.close(ncid);"
   ]
  },
  {
   "cell_type": "code",
   "execution_count": null,
   "metadata": {
    "collapsed": true
   },
   "outputs": [],
   "source": []
  }
 ],
 "metadata": {
  "kernelspec": {
   "display_name": "Julia 0.4.1",
   "language": "julia",
   "name": "julia-0.4"
  },
  "language_info": {
   "file_extension": ".jl",
   "mimetype": "application/julia",
   "name": "julia",
   "version": "0.4.1"
  }
 },
 "nbformat": 4,
 "nbformat_minor": 0
}
