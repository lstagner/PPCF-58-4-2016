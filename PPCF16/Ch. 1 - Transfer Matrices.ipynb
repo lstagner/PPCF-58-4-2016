{
 "cells": [
  {
   "cell_type": "markdown",
   "metadata": {},
   "source": [
    "# Asdex Upgrade Transfer Matrix"
   ]
  },
  {
   "cell_type": "code",
   "execution_count": null,
   "metadata": {
    "collapsed": false,
    "scrolled": true
   },
   "outputs": [],
   "source": [
    "push!(LOAD_PATH, \"./src\")\n",
    "using VSTom\n",
    "using NetCDF"
   ]
  },
  {
   "cell_type": "code",
   "execution_count": null,
   "metadata": {
    "collapsed": false,
    "scrolled": true
   },
   "outputs": [],
   "source": [
    "a = read_ncdf(\"data/full_synthetic_transfer_matrix.cdf\")\n",
    "\n",
    "transfer_matrix = a[\"transfer_matrix\"]\n",
    "\n",
    "energy = a[\"E\"] #[keV]\n",
    "ne_orig =length(energy)\n",
    "we = energy .< 100.0\n",
    "energy = energy[we]\n",
    "dE = abs(energy[2] - energy[1])\n",
    "nen = length(energy)\n",
    "\n",
    "pitch = a[\"p\"]\n",
    "dP = abs(pitch[2] - pitch[1])\n",
    "np = length(pitch);\n",
    "\n",
    "\n",
    "nr,nc = size(transfer_matrix)\n",
    "A = zeros(nr,np*nen)\n",
    "for i=1:nr\n",
    "    A[i,:] = reshape(reshape(transfer_matrix[i,:],np,ne_orig)[:,we],1,nen*np)\n",
    "end\n",
    "\n",
    "w1 = energy .< 10.0\n",
    "inds=zeros(Bool,nr)\n",
    "tol = 0.01 # 1%\n",
    "for i=1:nr\n",
    "    wf = reshape(A[i,:],np,nen)\n",
    "    wf_total = sum(wf)\n",
    "    if (sum(wf[:,w1])/wf_total < tol) \n",
    "        inds[i] = true \n",
    "    end\n",
    "end\n",
    "A = A[inds,:];\n",
    "\n",
    "energy_red = collect(linspace(20.0,maximum(energy),sum(energy .> 20.0)))\n",
    "\n",
    "A = resize_transfer_matrix(A,energy,pitch,energy_red,pitch);"
   ]
  },
  {
   "cell_type": "code",
   "execution_count": null,
   "metadata": {
    "collapsed": false
   },
   "outputs": [],
   "source": [
    "using NetCDF\n",
    "\n",
    "nrows, ncols = size(A)\n",
    "\n",
    "# Write transfer matrix to file\n",
    "fname = \"data/reduced_synthetic_transfer_matrix.cdf\"\n",
    "\n",
    "isfile(fname) && rm(fname)\n",
    "\n",
    "nrows_id = NcDim(\"nrows\",nrows)\n",
    "ncols_id = NcDim(\"ncols\",ncols)\n",
    "nen_id = NcDim(\"energy\",length(energy_red))\n",
    "np_id = NcDim(\"pitch\",np)\n",
    "\n",
    "t_varid = NcVar(\"transfer_matrix\",[nrows_id,ncols_id])\n",
    "e_varid = NcVar(\"energy\",nen_id)\n",
    "p_varid = NcVar(\"pitch\",np_id)\n",
    "\n",
    "ncid = NetCDF.create(fname,NcVar[t_varid,e_varid,p_varid],mode=NC_CLASSIC_MODEL)\n",
    "\n",
    "NetCDF.putvar(ncid,\"transfer_matrix\",A)\n",
    "NetCDF.putvar(ncid,\"energy\",energy_red)\n",
    "NetCDF.putvar(ncid,\"pitch\",pitch)\n",
    "\n",
    "NetCDF.close(ncid);"
   ]
  },
  {
   "cell_type": "code",
   "execution_count": null,
   "metadata": {
    "collapsed": true
   },
   "outputs": [],
   "source": []
  }
 ],
 "metadata": {
  "kernelspec": {
   "display_name": "Julia 0.4.1",
   "language": "julia",
   "name": "julia-0.4"
  },
  "language_info": {
   "file_extension": ".jl",
   "mimetype": "application/julia",
   "name": "julia",
   "version": "0.4.1"
  }
 },
 "nbformat": 4,
 "nbformat_minor": 0
}
