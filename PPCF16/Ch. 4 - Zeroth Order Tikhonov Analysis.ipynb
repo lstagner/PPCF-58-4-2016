{
 "cells": [
  {
   "cell_type": "markdown",
   "metadata": {},
   "source": [
    "# Zeroth Order Tikhonov"
   ]
  },
  {
   "cell_type": "code",
   "execution_count": 1,
   "metadata": {
    "collapsed": false,
    "scrolled": true
   },
   "outputs": [
    {
     "name": "stderr",
     "output_type": "stream",
     "text": [
      "WARNING: Base.Uint is deprecated, use UInt instead.\n",
      "  likely near /home/lstagner/.julia/v0.4/NetCDF/src/NetCDF.jl:438\n",
      "WARNING: Base.Uint is deprecated, use UInt instead.\n",
      "  likely near /home/lstagner/.julia/v0.4/NetCDF/src/NetCDF.jl:438\n",
      "WARNING: Union(args...) is deprecated, use Union{args...} instead.\n",
      " in depwarn at deprecated.jl:73\n",
      " in call at deprecated.jl:50\n",
      " in include at ./boot.jl:261\n",
      " in include_from_node1 at ./loading.jl:304\n",
      " in require at ./loading.jl:243\n",
      " in include at ./boot.jl:261\n",
      " in include_from_node1 at ./loading.jl:304\n",
      " in include at ./boot.jl:261\n",
      " in include_from_node1 at ./loading.jl:304\n",
      " in require at ./loading.jl:243\n",
      " in include_string at loading.jl:266\n",
      " in execute_request_0x535c5df2 at /home/lstagner/.julia/v0.4/IJulia/src/execute_request.jl:177\n",
      " in eventloop at /home/lstagner/.julia/v0.4/IJulia/src/IJulia.jl:141\n",
      " in anonymous at task.jl:447\n",
      "while loading /home/lstagner/.julia/v0.4/NetCDF/src/NetCDF.jl, in expression starting on line 429\n",
      "WARNING: Base.String is deprecated, use AbstractString instead.\n",
      "  likely near /home/lstagner/.julia/v0.4/NetCDF/src/NetCDF.jl:429\n",
      "WARNING: Base.String is deprecated, use AbstractString instead.\n",
      "  likely near /home/lstagner/.julia/v0.4/NetCDF/src/NetCDF.jl:429\n",
      "WARNING: Base.String is deprecated, use AbstractString instead.\n",
      "  likely near /home/lstagner/.julia/v0.4/NetCDF/src/NetCDF.jl:429\n",
      "WARNING: Base.String is deprecated, use AbstractString instead.\n",
      "  likely near /home/lstagner/.julia/v0.4/NetCDF/src/NetCDF.jl:430\n",
      "WARNING: Base.String is deprecated, use AbstractString instead.\n",
      "  likely near /home/lstagner/.julia/v0.4/NetCDF/src/NetCDF.jl:429\n",
      "WARNING: Base.String is deprecated, use AbstractString instead.\n",
      "  likely near /home/lstagner/.julia/v0.4/NetCDF/src/NetCDF.jl:429\n",
      "WARNING: Base.String is deprecated, use AbstractString instead.\n",
      "  likely near /home/lstagner/.julia/v0.4/NetCDF/src/NetCDF.jl:429\n",
      "WARNING: Base.String is deprecated, use AbstractString instead.\n",
      "  likely near /home/lstagner/.julia/v0.4/NetCDF/src/NetCDF.jl:430\n",
      "WARNING: Base.String is deprecated, use AbstractString instead.\n",
      "  likely near /home/lstagner/.julia/v0.4/NetCDF/src/NetCDF.jl:69\n",
      "WARNING: Union(args...) is deprecated, use Union{args...} instead.\n",
      " in depwarn at deprecated.jl:73\n",
      " in call at deprecated.jl:50\n",
      " in include at ./boot.jl:261\n",
      " in include_from_node1 at ./loading.jl:304\n",
      " in require at ./loading.jl:243\n",
      " in include at ./boot.jl:261\n",
      " in include_from_node1 at ./loading.jl:304\n",
      " in include at ./boot.jl:261\n",
      " in include_from_node1 at ./loading.jl:304\n",
      " in require at ./loading.jl:243\n",
      " in include_string at loading.jl:266\n",
      " in execute_request_0x535c5df2 at /home/lstagner/.julia/v0.4/IJulia/src/execute_request.jl:177\n",
      " in eventloop at /home/lstagner/.julia/v0.4/IJulia/src/IJulia.jl:141\n",
      " in anonymous at task.jl:447\n",
      "while loading /home/lstagner/.julia/v0.4/NetCDF/src/NetCDF.jl, in expression starting on line 429\n",
      "WARNING: Base.String is deprecated, use AbstractString instead.\n",
      "  likely near /home/lstagner/.julia/v0.4/NetCDF/src/NetCDF.jl:429\n",
      "WARNING: Union(args...) is deprecated, use Union{args...} instead.\n",
      " in depwarn at deprecated.jl:73\n",
      " in call at deprecated.jl:50\n",
      " in include at ./boot.jl:261\n",
      " in include_from_node1 at ./loading.jl:304\n",
      " in require at ./loading.jl:243\n",
      " in include at ./boot.jl:261\n",
      " in include_from_node1 at ./loading.jl:304\n",
      " in include at ./boot.jl:261\n",
      " in include_from_node1 at ./loading.jl:304\n",
      " in require at ./loading.jl:243\n",
      " in include_string at loading.jl:266\n",
      " in execute_request_0x535c5df2 at /home/lstagner/.julia/v0.4/IJulia/src/execute_request.jl:177\n",
      " in eventloop at /home/lstagner/.julia/v0.4/IJulia/src/IJulia.jl:141\n",
      " in anonymous at task.jl:447\n",
      "while loading /home/lstagner/.julia/v0.4/NetCDF/src/NetCDF.jl, in expression starting on line 429\n",
      "WARNING: Base.String is deprecated, use AbstractString instead.\n",
      "  likely near /home/lstagner/.julia/v0.4/NetCDF/src/NetCDF.jl:429\n",
      "WARNING: Union(args...) is deprecated, use Union{args...} instead.\n",
      " in depwarn at deprecated.jl:73\n",
      " in call at deprecated.jl:50\n",
      " in include at ./boot.jl:261\n",
      " in include_from_node1 at ./loading.jl:304\n",
      " in require at ./loading.jl:243\n",
      " in include at ./boot.jl:261\n",
      " in include_from_node1 at ./loading.jl:304\n",
      " in include at ./boot.jl:261\n",
      " in include_from_node1 at ./loading.jl:304\n",
      " in require at ./loading.jl:243\n",
      " in include_string at loading.jl:266\n",
      " in execute_request_0x535c5df2 at /home/lstagner/.julia/v0.4/IJulia/src/execute_request.jl:177\n",
      " in eventloop at /home/lstagner/.julia/v0.4/IJulia/src/IJulia.jl:141\n",
      " in anonymous at task.jl:447\n",
      "while loading /home/lstagner/.julia/v0.4/NetCDF/src/NetCDF.jl, in expression starting on line 429\n",
      "WARNING: Base.String is deprecated, use AbstractString instead.\n",
      "  likely near /home/lstagner/.julia/v0.4/NetCDF/src/NetCDF.jl:429\n",
      "WARNING: Union(args...) is deprecated, use Union{args...} instead.\n",
      " in depwarn at deprecated.jl:73\n",
      " in call at deprecated.jl:50\n",
      " in include at ./boot.jl:261\n",
      " in include_from_node1 at ./loading.jl:304\n",
      " in require at ./loading.jl:243\n",
      " in include at ./boot.jl:261\n",
      " in include_from_node1 at ./loading.jl:304\n",
      " in include at ./boot.jl:261\n",
      " in include_from_node1 at ./loading.jl:304\n",
      " in require at ./loading.jl:243\n",
      " in include_string at loading.jl:266\n",
      " in execute_request_0x535c5df2 at /home/lstagner/.julia/v0.4/IJulia/src/execute_request.jl:177\n",
      " in eventloop at /home/lstagner/.julia/v0.4/IJulia/src/IJulia.jl:141\n",
      " in anonymous at task.jl:447\n",
      "while loading /home/lstagner/.julia/v0.4/NetCDF/src/NetCDF.jl, in expression starting on line 429\n",
      "WARNING: Base.String is deprecated, use AbstractString instead.\n",
      "  likely near /home/lstagner/.julia/v0.4/NetCDF/src/NetCDF.jl:430\n",
      "WARNING: Union(args...) is deprecated, use Union{args...} instead.\n",
      " in depwarn at deprecated.jl:73\n",
      " in call at deprecated.jl:50\n",
      " in include at ./boot.jl:261\n",
      " in include_from_node1 at ./loading.jl:304\n",
      " in require at ./loading.jl:243\n",
      " in include at ./boot.jl:261\n",
      " in include_from_node1 at ./loading.jl:304\n",
      " in include at ./boot.jl:261\n",
      " in include_from_node1 at ./loading.jl:304\n",
      " in require at ./loading.jl:243\n",
      " in include_string at loading.jl:266\n",
      " in execute_request_0x535c5df2 at /home/lstagner/.julia/v0.4/IJulia/src/execute_request.jl:177\n",
      " in eventloop at /home/lstagner/.julia/v0.4/IJulia/src/IJulia.jl:141\n",
      " in anonymous at task.jl:447\n",
      "while loading /home/lstagner/.julia/v0.4/NetCDF/src/NetCDF.jl, in expression starting on line 430\n",
      "WARNING: Base.String is deprecated, use AbstractString instead.\n",
      "  likely near /home/lstagner/.julia/v0.4/NetCDF/src/NetCDF.jl:104\n",
      "WARNING: Union(args...) is deprecated, use Union{args...} instead.\n",
      " in depwarn at deprecated.jl:73\n",
      " in call at deprecated.jl:50\n",
      " in include at ./boot.jl:261\n",
      " in include_from_node1 at ./loading.jl:304\n",
      " in require at ./loading.jl:243\n",
      " in include at ./boot.jl:261\n",
      " in include_from_node1 at ./loading.jl:304\n",
      " in include at ./boot.jl:261\n",
      " in include_from_node1 at ./loading.jl:304\n",
      " in require at ./loading.jl:243\n",
      " in include_string at loading.jl:266\n",
      " in execute_request_0x535c5df2 at /home/lstagner/.julia/v0.4/IJulia/src/execute_request.jl:177\n",
      " in eventloop at /home/lstagner/.julia/v0.4/IJulia/src/IJulia.jl:141\n",
      " in anonymous at task.jl:447\n",
      "while loading /home/lstagner/.julia/v0.4/NetCDF/src/NetCDF.jl, in expression starting on line 104\n",
      "WARNING: Base.String is deprecated, use AbstractString instead.\n",
      "  likely near /home/lstagner/.julia/v0.4/NetCDF/src/NetCDF.jl:104\n",
      "WARNING: Union(args...) is deprecated, use Union{args...} instead.\n",
      " in depwarn at deprecated.jl:73\n",
      " in call at deprecated.jl:50\n",
      " in include at ./boot.jl:261\n",
      " in include_from_node1 at ./loading.jl:304\n",
      " in require at ./loading.jl:243\n",
      " in include at ./boot.jl:261\n",
      " in include_from_node1 at ./loading.jl:304\n",
      " in include at ./boot.jl:261\n",
      " in include_from_node1 at ./loading.jl:304\n",
      " in require at ./loading.jl:243\n",
      " in include_string at loading.jl:266\n",
      " in execute_request_0x535c5df2 at /home/lstagner/.julia/v0.4/IJulia/src/execute_request.jl:177\n",
      " in eventloop at /home/lstagner/.julia/v0.4/IJulia/src/IJulia.jl:141\n",
      " in anonymous at task.jl:447\n",
      "while loading /home/lstagner/.julia/v0.4/NetCDF/src/NetCDF.jl, in expression starting on line 104\n",
      "WARNING: Union(args...) is deprecated, use Union{args...} instead.\n",
      " in depwarn at deprecated.jl:73\n",
      " in call at deprecated.jl:50\n",
      " in include at ./boot.jl:261\n",
      " in include_from_node1 at ./loading.jl:304\n",
      " in require at ./loading.jl:243\n",
      " in include at ./boot.jl:261\n",
      " in include_from_node1 at ./loading.jl:304\n",
      " in include at ./boot.jl:261\n",
      " in include_from_node1 at ./loading.jl:304\n",
      " in require at ./loading.jl:243\n",
      " in include_string at loading.jl:266\n",
      " in execute_request_0x535c5df2 at /home/lstagner/.julia/v0.4/IJulia/src/execute_request.jl:177\n",
      " in eventloop at /home/lstagner/.julia/v0.4/IJulia/src/IJulia.jl:141\n",
      " in anonymous at task.jl:447\n",
      "while loading /home/lstagner/.julia/v0.4/NetCDF/src/NetCDF.jl, in expression starting on line 104\n",
      "WARNING: Base.Uint16 is deprecated, use UInt16 instead.\n",
      "  likely near /home/lstagner/.julia/v0.4/NetCDF/src/NetCDF.jl:438\n",
      "WARNING: Base.Uint16 is deprecated, use UInt16 instead.\n",
      "  likely near /home/lstagner/.julia/v0.4/NetCDF/src/NetCDF.jl:438\n",
      "WARNING: Base.Uint8 is deprecated, use UInt8 instead.\n",
      "  likely near /home/lstagner/.julia/v0.4/NetCDF/src/netcdf_helpers.jl:35\n",
      "WARNING: Base.Uint8 is deprecated, use UInt8 instead.\n",
      "  likely near /home/lstagner/.julia/v0.4/NetCDF/src/netcdf_helpers.jl:44\n",
      "WARNING: Base.Uint is deprecated, use UInt instead.\n",
      "  likely near /home/lstagner/.julia/v0.4/NetCDF/src/netcdf_helpers.jl:58\n",
      "WARNING: Base.Uint is deprecated, use UInt instead.\n",
      "  likely near /home/lstagner/.julia/v0.4/NetCDF/src/netcdf_helpers.jl:59\n",
      "WARNING: Base.String is deprecated, use AbstractString instead.\n",
      "  likely near /home/lstagner/.julia/v0.4/NetCDF/src/netcdf_helpers.jl:65\n",
      "WARNING: Base.Uint16 is deprecated, use UInt16 instead.\n",
      "  likely near /home/lstagner/.julia/v0.4/NetCDF/src/netcdf_helpers.jl:65\n",
      "WARNING: Base.String is deprecated, use AbstractString instead.\n",
      "  likely near /home/lstagner/.julia/v0.4/NetCDF/src/netcdf_helpers.jl:83\n",
      "WARNING: Base.String is deprecated, use AbstractString instead.\n",
      "  likely near /home/lstagner/.julia/v0.4/NetCDF/src/netcdf_helpers.jl:127\n",
      "WARNING: Base.String is deprecated, use AbstractString instead.\n",
      "  likely near /home/lstagner/.julia/v0.4/NetCDF/src/netcdf_helpers.jl:128\n",
      "WARNING: Base.String is deprecated, use AbstractString instead.\n",
      "  likely near /home/lstagner/.julia/v0.4/NetCDF/src/netcdf_helpers.jl:129\n",
      "WARNING: Base.String is deprecated, use AbstractString instead.\n",
      "  likely near /home/lstagner/.julia/v0.4/NetCDF/src/netcdf_helpers.jl:130\n",
      "WARNING: Base.String is deprecated, use AbstractString instead.\n",
      "  likely near /home/lstagner/.julia/v0.4/NetCDF/src/netcdf_helpers.jl:131\n",
      "WARNING: Base.String is deprecated, use AbstractString instead.\n",
      "  likely near /home/lstagner/.julia/v0.4/NetCDF/src/netcdf_helpers.jl:132\n",
      "WARNING: Base.String is deprecated, use AbstractString instead.\n",
      "  likely near /home/lstagner/.julia/v0.4/NetCDF/src/netcdf_helpers.jl:133\n",
      "WARNING: Base.String is deprecated, use AbstractString instead.\n",
      "  likely near /home/lstagner/.julia/v0.4/NetCDF/src/netcdf_helpers.jl:133\n",
      "WARNING: Base.String is deprecated, use AbstractString instead.\n",
      "  likely near /home/lstagner/.julia/v0.4/NetCDF/src/netcdf_helpers.jl:134\n",
      "WARNING: Base.String is deprecated, use AbstractString instead.\n",
      "  likely near /home/lstagner/.julia/v0.4/NetCDF/src/netcdf_helpers.jl:136\n",
      "WARNING: Base.String is deprecated, use AbstractString instead.\n",
      "  likely near /home/lstagner/.julia/v0.4/NetCDF/src/netcdf_helpers.jl:137\n",
      "WARNING: Base.String is deprecated, use AbstractString instead.\n",
      "  likely near /home/lstagner/.julia/v0.4/NetCDF/src/netcdf_helpers.jl:138\n",
      "WARNING: Base.String is deprecated, use AbstractString instead.\n",
      "  likely near /home/lstagner/.julia/v0.4/NetCDF/src/netcdf_helpers.jl:139\n",
      "WARNING: Base.String is deprecated, use AbstractString instead.\n",
      "  likely near /home/lstagner/.julia/v0.4/NetCDF/src/netcdf_helpers.jl:140\n",
      "WARNING: Base.String is deprecated, use AbstractString instead.\n",
      "  likely near /home/lstagner/.julia/v0.4/NetCDF/src/netcdf_helpers.jl:141\n",
      "WARNING: Base.String is deprecated, use AbstractString instead.\n",
      "  likely near /home/lstagner/.julia/v0.4/NetCDF/src/netcdf_helpers.jl:142\n",
      "WARNING: Base.String is deprecated, use AbstractString instead.\n",
      "  likely near /home/lstagner/.julia/v0.4/NetCDF/src/netcdf_helpers.jl:146\n",
      "WARNING: Base.String is deprecated, use AbstractString instead.\n",
      "  likely near /home/lstagner/.julia/v0.4/NetCDF/src/netcdf_helpers.jl:151\n",
      "WARNING: Base.Uint8 is deprecated, use UInt8 instead.\n",
      "  likely near /home/lstagner/.julia/v0.4/NetCDF/src/netcdf_helpers.jl:151\n",
      "WARNING: Base.String is deprecated, use AbstractString instead.\n",
      "  likely near /home/lstagner/.julia/v0.4/NetCDF/src/netcdf_helpers.jl:152\n",
      "WARNING: Base.Uint8 is deprecated, use UInt8 instead.\n",
      "  likely near /home/lstagner/.julia/v0.4/NetCDF/src/netcdf_helpers.jl:152\n",
      "WARNING: Base.String is deprecated, use AbstractString instead.\n",
      "  likely near /home/lstagner/.julia/v0.4/NetCDF/src/netcdf_helpers.jl:153\n",
      "WARNING: Base.String is deprecated, use AbstractString instead.\n",
      "  likely near /home/lstagner/.julia/v0.4/NetCDF/src/netcdf_helpers.jl:154\n",
      "WARNING: Base.String is deprecated, use AbstractString instead.\n",
      "  likely near /home/lstagner/.julia/v0.4/NetCDF/src/netcdf_helpers.jl:155\n",
      "WARNING: Base.String is deprecated, use AbstractString instead.\n",
      "  likely near /home/lstagner/.julia/v0.4/NetCDF/src/netcdf_helpers.jl:156\n",
      "WARNING: Base.String is deprecated, use AbstractString instead.\n",
      "  likely near /home/lstagner/.julia/v0.4/NetCDF/src/netcdf_helpers.jl:157\n",
      "WARNING: Base.String is deprecated, use AbstractString instead.\n",
      "  likely near /home/lstagner/.julia/v0.4/NetCDF/src/netcdf_helpers.jl:158\n",
      "WARNING: Base.String is deprecated, use AbstractString instead.\n",
      "  likely near /home/lstagner/.julia/v0.4/NetCDF/src/NetCDF.jl:153\n",
      "WARNING: Base.String is deprecated, use AbstractString instead.\n",
      "  likely near /home/lstagner/.julia/v0.4/NetCDF/src/NetCDF.jl:153\n",
      "WARNING: Base.String is deprecated, use AbstractString instead.\n",
      "  likely near /home/lstagner/.julia/v0.4/NetCDF/src/NetCDF.jl:153\n",
      "WARNING: Base.String is deprecated, use AbstractString instead.\n",
      "  likely near /home/lstagner/.julia/v0.4/NetCDF/src/NetCDF.jl:180\n",
      "WARNING: Base.String is deprecated, use AbstractString instead.\n",
      "  likely near /home/lstagner/.julia/v0.4/NetCDF/src/NetCDF.jl:180\n",
      "WARNING: Base.String is deprecated, use AbstractString instead.\n",
      "  likely near /home/lstagner/.julia/v0.4/NetCDF/src/NetCDF.jl:180\n",
      "WARNING: Base.Uint is deprecated, use UInt instead.\n",
      "  likely near /home/lstagner/.julia/v0.4/NetCDF/src/NetCDF.jl:242\n",
      "WARNING: Base.Uint is deprecated, use UInt instead.\n",
      "  likely near /home/lstagner/.julia/v0.4/NetCDF/src/NetCDF.jl:242\n",
      "WARNING: Base.Uint is deprecated, use UInt instead.\n",
      "  likely near /home/lstagner/.julia/v0.4/NetCDF/src/NetCDF.jl:242\n",
      "WARNING: Base.Uint is deprecated, use UInt instead.\n",
      "  likely near /home/lstagner/.julia/v0.4/NetCDF/src/NetCDF.jl:242\n",
      "WARNING: Base.Uint is deprecated, use UInt instead.\n",
      "  likely near /home/lstagner/.julia/v0.4/NetCDF/src/NetCDF.jl:242\n",
      "WARNING: Base.Uint is deprecated, use UInt instead.\n",
      "  likely near /home/lstagner/.julia/v0.4/NetCDF/src/NetCDF.jl:242\n",
      "WARNING: Base.Uint is deprecated, use UInt instead.\n",
      "  likely near /home/lstagner/.julia/v0.4/NetCDF/src/NetCDF.jl:242\n",
      "WARNING: Base.Uint is deprecated, use UInt instead.\n",
      "  likely near /home/lstagner/.julia/v0.4/NetCDF/src/NetCDF.jl:242\n",
      "WARNING: Base.Uint is deprecated, use UInt instead.\n",
      "  likely near /home/lstagner/.julia/v0.4/NetCDF/src/NetCDF.jl:242\n",
      "WARNING: Base.Uint is deprecated, use UInt instead.\n",
      "  likely near /home/lstagner/.julia/v0.4/NetCDF/src/NetCDF.jl:242\n",
      "WARNING: Base.Uint is deprecated, use UInt instead.\n",
      "  likely near /home/lstagner/.julia/v0.4/NetCDF/src/NetCDF.jl:242\n",
      "WARNING: Base.Uint is deprecated, use UInt instead.\n",
      "  likely near /home/lstagner/.julia/v0.4/NetCDF/src/NetCDF.jl:242\n",
      "WARNING: Base.Uint is deprecated, use UInt instead.\n",
      "  likely near /home/lstagner/.julia/v0.4/NetCDF/src/NetCDF.jl:242\n",
      "WARNING: Base.Uint is deprecated, use UInt instead.\n",
      "  likely near /home/lstagner/.julia/v0.4/NetCDF/src/NetCDF.jl:242\n",
      "WARNING: Base.Uint is deprecated, use UInt instead.\n",
      "  likely near /home/lstagner/.julia/v0.4/NetCDF/src/NetCDF.jl:242\n",
      "WARNING: Base.Uint is deprecated, use UInt instead.\n",
      "  likely near /home/lstagner/.julia/v0.4/NetCDF/src/NetCDF.jl:242\n",
      "WARNING: Base.Uint is deprecated, use UInt instead.\n",
      "  likely near /home/lstagner/.julia/v0.4/NetCDF/src/NetCDF.jl:242\n",
      "WARNING: Base.Uint is deprecated, use UInt instead.\n",
      "  likely near /home/lstagner/.julia/v0.4/NetCDF/src/NetCDF.jl:242\n",
      "WARNING: Base.Uint is deprecated, use UInt instead.\n",
      "  likely near /home/lstagner/.julia/v0.4/NetCDF/src/NetCDF.jl:242\n",
      "WARNING: Base.Uint is deprecated, use UInt instead.\n",
      "  likely near /home/lstagner/.julia/v0.4/NetCDF/src/NetCDF.jl:242\n",
      "WARNING: Base.Uint is deprecated, use UInt instead.\n",
      "  likely near /home/lstagner/.julia/v0.4/NetCDF/src/NetCDF.jl:242\n",
      "WARNING: Base.String is deprecated, use AbstractString instead.\n",
      "  likely near /home/lstagner/.julia/v0.4/NetCDF/src/NetCDF.jl:260\n",
      "WARNING: Base.String is deprecated, use AbstractString instead.\n",
      "  likely near /home/lstagner/.julia/v0.4/NetCDF/src/NetCDF.jl:429\n",
      "WARNING: Base.String is deprecated, use AbstractString instead.\n",
      "  likely near /home/lstagner/.julia/v0.4/NetCDF/src/NetCDF.jl:429\n",
      "WARNING: Base.String is deprecated, use AbstractString instead.\n",
      "  likely near /home/lstagner/.julia/v0.4/NetCDF/src/NetCDF.jl:430\n",
      "WARNING: Base.String is deprecated, use AbstractString instead.\n",
      "  likely near /home/lstagner/.julia/v0.4/NetCDF/src/NetCDF.jl:430\n",
      "WARNING: Base.String is deprecated, use AbstractString instead.\n",
      "  likely near /home/lstagner/.julia/v0.4/NetCDF/src/NetCDF.jl:287\n",
      "WARNING: Base.String is deprecated, use AbstractString instead.\n",
      "  likely near /home/lstagner/.julia/v0.4/NetCDF/src/NetCDF.jl:287\n",
      "WARNING: Base.String is deprecated, use AbstractString instead.\n",
      "  likely near /home/lstagner/.julia/v0.4/NetCDF/src/NetCDF.jl:287\n",
      "WARNING: Base.Uint is deprecated, use UInt instead.\n",
      "  likely near /home/lstagner/.julia/v0.4/NetCDF/src/NetCDF.jl:328\n",
      "WARNING: Base.Uint is deprecated, use UInt instead.\n",
      "  likely near /home/lstagner/.julia/v0.4/NetCDF/src/NetCDF.jl:328\n",
      "WARNING: Base.Uint is deprecated, use UInt instead.\n",
      "  likely near /home/lstagner/.julia/v0.4/NetCDF/src/NetCDF.jl:328\n",
      "WARNING: Base.Uint is deprecated, use UInt instead.\n",
      "  likely near /home/lstagner/.julia/v0.4/NetCDF/src/NetCDF.jl:328\n",
      "WARNING: Base.Uint is deprecated, use UInt instead.\n",
      "  likely near /home/lstagner/.julia/v0.4/NetCDF/src/NetCDF.jl:328\n",
      "WARNING: Base.Uint is deprecated, use UInt instead.\n",
      "  likely near /home/lstagner/.julia/v0.4/NetCDF/src/NetCDF.jl:328\n",
      "WARNING: Base.Uint is deprecated, use UInt instead.\n",
      "  likely near /home/lstagner/.julia/v0.4/NetCDF/src/NetCDF.jl:328\n",
      "WARNING: Base.String is deprecated, use AbstractString instead.\n",
      "  likely near /home/lstagner/.julia/v0.4/NetCDF/src/NetCDF.jl:429\n",
      "WARNING: Base.String is deprecated, use AbstractString instead.\n",
      "  likely near /home/lstagner/.julia/v0.4/NetCDF/src/NetCDF.jl:430\n",
      "WARNING: Base.Uint16 is deprecated, use UInt16 instead.\n",
      "  likely near /home/lstagner/.julia/v0.4/NetCDF/src/NetCDF.jl:429\n",
      "WARNING: Base.String is deprecated, use AbstractString instead.\n",
      "  likely near /home/lstagner/.julia/v0.4/NetCDF/src/NetCDF.jl:429\n",
      "WARNING: Base.String is deprecated, use AbstractString instead.\n",
      "  likely near /home/lstagner/.julia/v0.4/NetCDF/src/NetCDF.jl:429\n",
      "WARNING: Base.String is deprecated, use AbstractString instead.\n",
      "  likely near /home/lstagner/.julia/v0.4/NetCDF/src/NetCDF.jl:429\n",
      "WARNING: Base.String is deprecated, use AbstractString instead.\n",
      "  likely near /home/lstagner/.julia/v0.4/NetCDF/src/NetCDF.jl:430\n",
      "WARNING: Base.Uint16 is deprecated, use UInt16 instead.\n",
      "  likely near /home/lstagner/.julia/v0.4/NetCDF/src/NetCDF.jl:439\n",
      "WARNING: Base.String is deprecated, use AbstractString instead.\n",
      "  likely near /home/lstagner/.julia/v0.4/NetCDF/src/NetCDF.jl:439\n",
      "WARNING: Base.String is deprecated, use AbstractString instead.\n",
      "  likely near /home/lstagner/.julia/v0.4/NetCDF/src/NetCDF.jl:439\n",
      "WARNING: Base.String is deprecated, use AbstractString instead.\n",
      "  likely near /home/lstagner/.julia/v0.4/NetCDF/src/NetCDF.jl:439\n",
      "WARNING: Base.String is deprecated, use AbstractString instead.\n",
      "  likely near /home/lstagner/.julia/v0.4/NetCDF/src/NetCDF.jl:429\n",
      "WARNING: Base.String is deprecated, use AbstractString instead.\n",
      "  likely near /home/lstagner/.julia/v0.4/NetCDF/src/NetCDF.jl:429\n",
      "WARNING: Base.String is deprecated, use AbstractString instead.\n",
      "  likely near /home/lstagner/.julia/v0.4/NetCDF/src/NetCDF.jl:429\n",
      "WARNING: Base.String is deprecated, use AbstractString instead.\n",
      "  likely near /home/lstagner/.julia/v0.4/NetCDF/src/NetCDF.jl:429\n",
      "WARNING: Base.String is deprecated, use AbstractString instead.\n",
      "  likely near /home/lstagner/.julia/v0.4/NetCDF/src/NetCDF.jl:429\n",
      "WARNING: Base.String is deprecated, use AbstractString instead.\n",
      "  likely near /home/lstagner/.julia/v0.4/NetCDF/src/NetCDF.jl:429\n",
      "WARNING: Base.String is deprecated, use AbstractString instead.\n",
      "  likely near /home/lstagner/.julia/v0.4/NetCDF/src/NetCDF.jl:430\n",
      "WARNING: Base.String is deprecated, use AbstractString instead.\n",
      "  likely near /home/lstagner/.julia/v0.4/NetCDF/src/NetCDF.jl:430\n",
      "WARNING: Base.String is deprecated, use AbstractString instead.\n",
      "  likely near /home/lstagner/.julia/v0.4/NetCDF/src/NetCDF.jl:429\n",
      "WARNING: Base.String is deprecated, use AbstractString instead.\n",
      "  likely near /home/lstagner/.julia/v0.4/NetCDF/src/NetCDF.jl:429\n",
      "WARNING: Base.String is deprecated, use AbstractString instead.\n",
      "  likely near /home/lstagner/.julia/v0.4/NetCDF/src/NetCDF.jl:429\n",
      "WARNING: Base.String is deprecated, use AbstractString instead.\n",
      "  likely near /home/lstagner/.julia/v0.4/NetCDF/src/NetCDF.jl:430\n",
      "WARNING: Base.String is deprecated, use AbstractString instead.\n",
      "  likely near /home/lstagner/.julia/v0.4/NetCDF/src/NetCDF.jl:429\n",
      "WARNING: Base.String is deprecated, use AbstractString instead.\n",
      "  likely near /home/lstagner/.julia/v0.4/NetCDF/src/NetCDF.jl:429\n",
      "WARNING: Base.String is deprecated, use AbstractString instead.\n",
      "  likely near /home/lstagner/.julia/v0.4/NetCDF/src/NetCDF.jl:429\n",
      "WARNING: Base.String is deprecated, use AbstractString instead.\n",
      "  likely near /home/lstagner/.julia/v0.4/NetCDF/src/NetCDF.jl:429\n",
      "WARNING: Base.String is deprecated, use AbstractString instead.\n",
      "  likely near /home/lstagner/.julia/v0.4/NetCDF/src/NetCDF.jl:429\n",
      "WARNING: Base.String is deprecated, use AbstractString instead.\n",
      "  likely near /home/lstagner/.julia/v0.4/NetCDF/src/NetCDF.jl:429\n",
      "WARNING: Base.String is deprecated, use AbstractString instead.\n",
      "  likely near /home/lstagner/.julia/v0.4/NetCDF/src/NetCDF.jl:430\n",
      "WARNING: Base.String is deprecated, use AbstractString instead.\n",
      "  likely near /home/lstagner/.julia/v0.4/NetCDF/src/NetCDF.jl:430\n",
      "WARNING: Base.String is deprecated, use AbstractString instead.\n",
      "  likely near /home/lstagner/.julia/v0.4/NetCDF/src/NetCDF.jl:520\n",
      "WARNING: Base.String is deprecated, use AbstractString instead.\n",
      "  likely near /home/lstagner/.julia/v0.4/NetCDF/src/NetCDF.jl:520\n",
      "WARNING: Base.String is deprecated, use AbstractString instead.\n",
      "  likely near /home/lstagner/.julia/v0.4/NetCDF/src/NetCDF.jl:429\n",
      "WARNING: Base.String is deprecated, use AbstractString instead.\n",
      "  likely near /home/lstagner/.julia/v0.4/NetCDF/src/NetCDF.jl:429\n",
      "WARNING: Base.String is deprecated, use AbstractString instead.\n",
      "  likely near /home/lstagner/.julia/v0.4/NetCDF/src/NetCDF.jl:429\n",
      "WARNING: Base.String is deprecated, use AbstractString instead.\n",
      "  likely near /home/lstagner/.julia/v0.4/NetCDF/src/NetCDF.jl:429\n",
      "WARNING: Base.String is deprecated, use AbstractString instead.\n",
      "  likely near /home/lstagner/.julia/v0.4/NetCDF/src/NetCDF.jl:429\n",
      "WARNING: Base.String is deprecated, use AbstractString instead.\n",
      "  likely near /home/lstagner/.julia/v0.4/NetCDF/src/NetCDF.jl:429\n",
      "WARNING: Base.String is deprecated, use AbstractString instead.\n",
      "  likely near /home/lstagner/.julia/v0.4/NetCDF/src/NetCDF.jl:430\n",
      "WARNING: Base.String is deprecated, use AbstractString instead.\n",
      "  likely near /home/lstagner/.julia/v0.4/NetCDF/src/NetCDF.jl:430\n",
      "WARNING: Base.String is deprecated, use AbstractString instead.\n",
      "  likely near /home/lstagner/.julia/v0.4/NetCDF/src/NetCDF.jl:429\n",
      "WARNING: Base.String is deprecated, use AbstractString instead.\n",
      "  likely near /home/lstagner/.julia/v0.4/NetCDF/src/NetCDF.jl:430\n",
      "WARNING: Base.String is deprecated, use AbstractString instead.\n",
      "  likely near /home/lstagner/.julia/v0.4/NetCDF/src/NetCDF.jl:429\n",
      "WARNING: Base.String is deprecated, use AbstractString instead.\n",
      "  likely near /home/lstagner/.julia/v0.4/NetCDF/src/NetCDF.jl:429\n",
      "WARNING: Base.String is deprecated, use AbstractString instead.\n",
      "  likely near /home/lstagner/.julia/v0.4/NetCDF/src/NetCDF.jl:429\n",
      "WARNING: Base.String is deprecated, use AbstractString instead.\n",
      "  likely near /home/lstagner/.julia/v0.4/NetCDF/src/NetCDF.jl:429\n",
      "WARNING: Base.String is deprecated, use AbstractString instead.\n",
      "  likely near /home/lstagner/.julia/v0.4/NetCDF/src/NetCDF.jl:429\n",
      "WARNING: Base.String is deprecated, use AbstractString instead.\n",
      "  likely near /home/lstagner/.julia/v0.4/NetCDF/src/NetCDF.jl:429\n",
      "WARNING: Base.String is deprecated, use AbstractString instead.\n",
      "  likely near /home/lstagner/.julia/v0.4/NetCDF/src/NetCDF.jl:430\n",
      "WARNING: Base.String is deprecated, use AbstractString instead.\n",
      "  likely near /home/lstagner/.julia/v0.4/NetCDF/src/NetCDF.jl:430\n",
      "WARNING: Base.String is deprecated, use AbstractString instead.\n",
      "  likely near /home/lstagner/.julia/v0.4/NetCDF/src/NetCDF.jl:561\n",
      "WARNING: Base.String is deprecated, use AbstractString instead.\n",
      "  likely near /home/lstagner/.julia/v0.4/NetCDF/src/NetCDF.jl:561\n",
      "WARNING: Base.String is deprecated, use AbstractString instead.\n",
      "  likely near /home/lstagner/.julia/v0.4/NetCDF/src/NetCDF.jl:429\n",
      "WARNING: Base.String is deprecated, use AbstractString instead.\n",
      "  likely near /home/lstagner/.julia/v0.4/NetCDF/src/NetCDF.jl:429\n",
      "WARNING: Base.String is deprecated, use AbstractString instead.\n",
      "  likely near /home/lstagner/.julia/v0.4/NetCDF/src/NetCDF.jl:429\n",
      "WARNING: Base.String is deprecated, use AbstractString instead.\n",
      "  likely near /home/lstagner/.julia/v0.4/NetCDF/src/NetCDF.jl:430\n",
      "WARNING: Base.String is deprecated, use AbstractString instead.\n",
      "  likely near /home/lstagner/.julia/v0.4/NetCDF/src/NetCDF.jl:430\n",
      "WARNING: Base.String is deprecated, use AbstractString instead.\n",
      "  likely near /home/lstagner/.julia/v0.4/NetCDF/src/NetCDF.jl:430\n",
      "WARNING: Union(args...) is deprecated, use Union{args...} instead.\n",
      " in depwarn at deprecated.jl:73\n",
      " in call at deprecated.jl:50\n",
      " in include at ./boot.jl:261\n",
      " in include_from_node1 at ./loading.jl:304\n",
      " in require at ./loading.jl:243\n",
      " in include at ./boot.jl:261\n",
      " in include_from_node1 at ./loading.jl:304\n",
      " in include at ./boot.jl:261\n",
      " in include_from_node1 at ./loading.jl:304\n",
      " in require at ./loading.jl:243\n",
      " in include_string at loading.jl:266\n",
      " in execute_request_0x535c5df2 at /home/lstagner/.julia/v0.4/IJulia/src/execute_request.jl:177\n",
      " in eventloop at /home/lstagner/.julia/v0.4/IJulia/src/IJulia.jl:141\n",
      " in anonymous at task.jl:447\n",
      "while loading /home/lstagner/.julia/v0.4/NetCDF/src/NetCDF.jl, in expression starting on line 429\n",
      "WARNING: Base.Uint16 is deprecated, use UInt16 instead.\n",
      "  likely near /home/lstagner/.julia/v0.4/NetCDF/src/NetCDF.jl:429\n",
      "WARNING: Base.String is deprecated, use AbstractString instead.\n",
      "  likely near /home/lstagner/.julia/v0.4/NetCDF/src/NetCDF.jl:429\n",
      "WARNING: Base.String is deprecated, use AbstractString instead.\n",
      "  likely near /home/lstagner/.julia/v0.4/NetCDF/src/NetCDF.jl:429\n",
      "WARNING: Base.String is deprecated, use AbstractString instead.\n",
      "  likely near /home/lstagner/.julia/v0.4/NetCDF/src/NetCDF.jl:429\n",
      "WARNING: Base.String is deprecated, use AbstractString instead.\n",
      "  likely near /home/lstagner/.julia/v0.4/NetCDF/src/NetCDF.jl:429\n",
      "WARNING: Base.String is deprecated, use AbstractString instead.\n",
      "  likely near /home/lstagner/.julia/v0.4/NetCDF/src/NetCDF.jl:429\n",
      "WARNING: Base.String is deprecated, use AbstractString instead.\n",
      "  likely near /home/lstagner/.julia/v0.4/NetCDF/src/NetCDF.jl:429\n",
      "WARNING: Base.String is deprecated, use AbstractString instead.\n",
      "  likely near /home/lstagner/.julia/v0.4/NetCDF/src/NetCDF.jl:430\n",
      "WARNING: Base.String is deprecated, use AbstractString instead.\n",
      "  likely near /home/lstagner/.julia/v0.4/NetCDF/src/NetCDF.jl:430\n",
      "WARNING: Base.Uint8 is deprecated, use UInt8 instead.\n",
      "  likely near /home/lstagner/.julia/v0.4/NetCDF/src/NetCDF.jl:716\n",
      "WARNING: Base.Uint8 is deprecated, use UInt8 instead.\n",
      "  likely near /home/lstagner/.julia/v0.4/NetCDF/src/NetCDF.jl:716\n",
      "WARNING: Base.Uint8 is deprecated, use UInt8 instead.\n",
      "  likely near /home/lstagner/.julia/v0.4/NetCDF/src/NetCDF.jl:716\n",
      "WARNING: Base.Uint8 is deprecated, use UInt8 instead.\n",
      "  likely near /home/lstagner/.julia/v0.4/NetCDF/src/NetCDF.jl:716\n",
      "WARNING: Base.Uint8 is deprecated, use UInt8 instead.\n",
      "  likely near /home/lstagner/.julia/v0.4/NetCDF/src/NetCDF.jl:716\n",
      "WARNING: Base.Uint8 is deprecated, use UInt8 instead.\n",
      "  likely near /home/lstagner/.julia/v0.4/NetCDF/src/NetCDF.jl:716\n",
      "WARNING: Base.Uint8 is deprecated, use UInt8 instead.\n",
      "  likely near /home/lstagner/.julia/v0.4/NetCDF/src/NetCDF.jl:716\n",
      "WARNING: Base.Uint8 is deprecated, use UInt8 instead.\n",
      "  likely near /home/lstagner/.julia/v0.4/NetCDF/src/NetCDF.jl:716\n",
      "WARNING: Base.Uint8 is deprecated, use UInt8 instead.\n",
      "  likely near /home/lstagner/.julia/v0.4/NetCDF/src/NetCDF.jl:716\n",
      "in __init__ at /home/lstagner/.julia/v0.4/NetCDF/src/NetCDF.jl:12\n",
      "WARNING: Base.Uint8 is deprecated, use UInt8 instead.\n",
      "  likely near /home/lstagner/.julia/v0.4/NetCDF/src/NetCDF.jl:716\n",
      "in __init__ at /home/lstagner/.julia/v0.4/NetCDF/src/NetCDF.jl:12\n",
      "WARNING: Base.Uint8 is deprecated, use UInt8 instead.\n",
      "  likely near /home/lstagner/.julia/v0.4/NetCDF/src/NetCDF.jl:716\n",
      "in __init__ at /home/lstagner/.julia/v0.4/NetCDF/src/NetCDF.jl:20\n",
      "WARNING: Base.Uint8 is deprecated, use UInt8 instead.\n",
      "  likely near /home/lstagner/.julia/v0.4/NetCDF/src/NetCDF.jl:716\n",
      "in __init__ at /home/lstagner/.julia/v0.4/NetCDF/src/NetCDF.jl:20\n"
     ]
    }
   ],
   "source": [
    "using RegularizedSystems\n",
    "using VSTom\n",
    "using PyPlot\n",
    "using ProgressMeter"
   ]
  },
  {
   "cell_type": "code",
   "execution_count": 2,
   "metadata": {
    "collapsed": false
   },
   "outputs": [
    {
     "data": {
      "text/plain": [
       "make_synthetic_data (generic function with 1 method)"
      ]
     },
     "execution_count": 2,
     "metadata": {},
     "output_type": "execute_result"
    }
   ],
   "source": [
    "function make_synthetic_data{T<:Real}(A::Array{T,2},dist::Array{T,2},n::T,b::T,dE::T,dP::T)\n",
    "    y = (dE*dP) * (A*vec(dist))\n",
    "    \n",
    "    scale = n*mean(sqrt(y))\n",
    "    yerr = scale .* max(sqrt(y),sqrt(b)) .* randn(length(y))\n",
    "    \n",
    "    noisy_spectrum = y .+ yerr\n",
    "    noisy_background = b .+ scale*sqrt(b).*randn(length(y))\n",
    "    \n",
    "    scale_est = n*mean(sqrt(abs(noisy_spectrum)))\n",
    "    \n",
    "    err = scale_est .* max(sqrt(abs(noisy_spectrum)),sqrt(abs(noisy_background)))\n",
    "    \n",
    "    return noisy_spectrum, err\n",
    "end"
   ]
  },
  {
   "cell_type": "markdown",
   "metadata": {},
   "source": [
    "## Reconstruct distributions on 20x20 grid"
   ]
  },
  {
   "cell_type": "code",
   "execution_count": 3,
   "metadata": {
    "collapsed": true
   },
   "outputs": [
    {
     "name": "stderr",
     "output_type": "stream",
     "text": [
      "WARNING: Base.Uint8 is deprecated, use UInt8 instead.\n",
      "  likely near In[3]:4\n",
      "WARNING: Base.Uint8 is deprecated, use UInt8 instead.\n",
      "  likely near In[3]:4\n",
      "WARNING: Base.Uint8 is deprecated, use UInt8 instead.\n",
      "  likely near In[3]:4\n",
      "WARNING: Base.Uint8 is deprecated, use UInt8 instead.\n",
      "  likely near In[3]:4\n",
      "WARNING: Base.Uint8 is deprecated, use UInt8 instead.\n",
      "  likely near In[3]:4\n",
      "WARNING: Base.Uint16 is deprecated, use UInt16 instead.\n",
      "  likely near In[3]:4\n",
      "WARNING: Base.Uint16 is deprecated, use UInt16 instead.\n",
      "  likely near In[3]:4\n",
      "WARNING: Base.Uint16 is deprecated, use UInt16 instead.\n",
      "  likely near In[3]:4\n",
      "WARNING: Base.Uint16 is deprecated, use UInt16 instead.\n",
      "  likely near In[3]:4\n",
      "WARNING: Base.Uint16 is deprecated, use UInt16 instead.\n",
      "  likely near In[3]:4\n",
      "WARNING: Base.Uint8 is deprecated, use UInt8 instead.\n",
      "  likely near In[3]:4\n",
      "WARNING: Base.Uint8 is deprecated, use UInt8 instead.\n",
      "  likely near In[3]:4\n",
      "WARNING: Base.Uint8 is deprecated, use UInt8 instead.\n",
      "  likely near In[3]:4\n",
      "WARNING: Base.Uint8 is deprecated, use UInt8 instead.\n",
      "  likely near In[3]:4\n",
      "WARNING: Base.Uint8 is deprecated, use UInt8 instead.\n",
      "  likely near In[3]:4\n",
      "WARNING: Base.Uint8 is deprecated, use UInt8 instead.\n",
      "  likely near In[3]:4\n",
      "WARNING: Base.Uint8 is deprecated, use UInt8 instead.\n",
      "  likely near In[3]:4\n",
      "WARNING: Base.Uint8 is deprecated, use UInt8 instead.\n",
      "  likely near In[3]:4\n",
      "WARNING: Base.Uint8 is deprecated, use UInt8 instead.\n",
      "  likely near In[3]:4\n",
      "WARNING: Base.Uint8 is deprecated, use UInt8 instead.\n",
      "  likely near In[3]:4\n",
      "WARNING: Base.Uint8 is deprecated, use UInt8 instead.\n",
      "  likely near In[3]:4\n",
      "WARNING: Base.Uint8 is deprecated, use UInt8 instead.\n",
      "  likely near In[3]:4\n",
      "WARNING: Base.Uint8 is deprecated, use UInt8 instead.\n",
      "  likely near In[3]:4\n",
      "WARNING: Base.Uint8 is deprecated, use UInt8 instead.\n",
      "  likely near In[3]:4\n",
      "WARNING: Base.Uint8 is deprecated, use UInt8 instead.\n",
      "  likely near In[3]:4\n",
      "WARNING: Base.String is deprecated, use AbstractString instead.\n",
      "  likely near In[3]:4\n",
      "WARNING: Base.String is deprecated, use AbstractString instead.\n",
      "  likely near In[3]:4\n",
      "WARNING: Base.Uint8 is deprecated, use UInt8 instead.\n",
      "  likely near In[3]:4\n",
      "WARNING: Base.Uint8 is deprecated, use UInt8 instead.\n",
      "  likely near In[3]:4\n",
      "WARNING: Base.Uint8 is deprecated, use UInt8 instead.\n",
      "  likely near In[3]:4\n",
      "WARNING: Base.Uint8 is deprecated, use UInt8 instead.\n",
      "  likely near In[3]:4\n",
      "WARNING: Base.Uint8 is deprecated, use UInt8 instead.\n",
      "  likely near In[3]:4\n",
      "WARNING: Base.Uint is deprecated, use UInt instead.\n",
      "  likely near In[3]:4\n",
      "WARNING: Base.Uint is deprecated, use UInt instead.\n",
      "  likely near In[3]:4\n",
      "WARNING: Base.Uint is deprecated, use UInt instead.\n",
      "  likely near In[3]:4\n",
      "WARNING: Base.Uint is deprecated, use UInt instead.\n",
      "  likely near In[3]:4\n",
      "WARNING: Base.Uint is deprecated, use UInt instead.\n",
      "  likely near In[3]:4\n",
      "WARNING: Base.Uint is deprecated, use UInt instead.\n",
      "  likely near In[3]:4\n",
      "WARNING: Base.Uint8 is deprecated, use UInt8 instead.\n",
      "  likely near In[3]:4\n",
      "WARNING: Base.Uint8 is deprecated, use UInt8 instead.\n",
      "  likely near In[3]:4\n",
      "WARNING: Base.Uint8 is deprecated, use UInt8 instead.\n",
      "  likely near In[3]:4\n",
      "WARNING: Base.Uint8 is deprecated, use UInt8 instead.\n",
      "  likely near In[3]:4\n",
      "WARNING: Base.Uint8 is deprecated, use UInt8 instead.\n",
      "  likely near In[3]:4\n",
      "WARNING: Base.String is deprecated, use AbstractString instead.\n",
      "  likely near In[3]:4\n",
      "WARNING: Base.String is deprecated, use AbstractString instead.\n",
      "  likely near In[3]:4\n",
      "WARNING: Base.String is deprecated, use AbstractString instead.\n",
      "  likely near In[3]:4\n",
      "WARNING: Base.String is deprecated, use AbstractString instead.\n",
      "  likely near In[3]:4\n",
      "WARNING: Base.Uint8 is deprecated, use UInt8 instead.\n",
      "  likely near In[3]:4\n",
      "WARNING: Base.Uint8 is deprecated, use UInt8 instead.\n",
      "  likely near In[3]:4\n",
      "WARNING: Base.String is deprecated, use AbstractString instead.\n",
      "  likely near In[3]:4\n",
      "in getatts_all at /home/lstagner/.julia/v0.4/NetCDF/src/netcdf_helpers.jl:195\n",
      "WARNING: Base.String is deprecated, use AbstractString instead.\n",
      "  likely near In[3]:4\n",
      "in getatts_all at /home/lstagner/.julia/v0.4/NetCDF/src/netcdf_helpers.jl:195\n",
      "WARNING: Base.String is deprecated, use AbstractString instead.\n",
      "  likely near In[3]:4\n",
      "in getatts_all at /home/lstagner/.julia/v0.4/NetCDF/src/netcdf_helpers.jl:195\n",
      "WARNING: Base.Uint8 is deprecated, use UInt8 instead.\n",
      "  likely near In[3]:4\n",
      "WARNING: Base.Uint8 is deprecated, use UInt8 instead.\n",
      "  likely near In[3]:4\n",
      "WARNING: Base.Uint16 is deprecated, use UInt16 instead.\n",
      "  likely near In[3]:4\n",
      "WARNING: Base.Uint16 is deprecated, use UInt16 instead.\n",
      "  likely near In[3]:4\n",
      "WARNING: Base.Uint16 is deprecated, use UInt16 instead.\n",
      "  likely near In[3]:4\n"
     ]
    }
   ],
   "source": [
    "nenergy = 20\n",
    "npitch = 20\n",
    "\n",
    "test_dists = read_ncdf(\"data/test_distributions.cdf\");\n",
    "test_data = read_ncdf(\"data/test_data.cdf\")\n",
    "wf   = read_ncdf(\"data/reduced_synthetic_transfer_matrix.cdf\");\n",
    "\n",
    "A_full = wf[\"transfer_matrix\"]\n",
    "energy_full = wf[\"energy\"]\n",
    "pitch_full  = wf[\"pitch\"]\n",
    "\n",
    "dE_full = abs(energy_full[2] - energy_full[1])\n",
    "dP_full = abs(pitch_full[2] - pitch_full[1])\n",
    "energy = linspace(20.0,maximum(energy_full),nenergy)\n",
    "pitch = linspace(extrema(pitch_full)...,npitch)\n",
    "A = resize_transfer_matrix(A_full,energy_full,pitch_full,energy,pitch);\n",
    "dE = abs(energy[2]-energy[1])\n",
    "dP = abs(pitch[2]-pitch[1]);\n",
    "L1E,L1p = gradEP(energy,pitch);"
   ]
  },
  {
   "cell_type": "code",
   "execution_count": 7,
   "metadata": {
    "collapsed": false
   },
   "outputs": [
    {
     "data": {
      "image/png": "[encoded data removed]",
      "text/plain": [
       "PyPlot.Figure(PyObject <matplotlib.figure.Figure object at 0x7f3ccb679da0>)"
      ]
     },
     "metadata": {},
     "output_type": "display_data"
    },
    {
     "data": {
      "text/plain": [
       "0.3861501606987788"
      ]
     },
     "execution_count": 7,
     "metadata": {},
     "output_type": "execute_result"
    }
   ],
   "source": [
    "transp_full = test_dists[\"transp\"]\n",
    "transp = bilinear(transp_full,energy_full,pitch_full,energy,pitch)\n",
    "transp_vec = vec(transp)\n",
    "nr,nc = size(A)\n",
    "spec, err = make_synthetic_data(A_full,transp_full,0.5,1.25e14,dE_full,dP_full)\n",
    "RF = TikhonovFunctional(A,spec,err,(eye(nc),))\n",
    "alpha = lcurve(RF,log_alpha_range=(-10,5),nseeds=15,doplot=true,filename=\"tik0_transp_k=0.5_lcurve.eps\")"
   ]
  },
  {
   "cell_type": "code",
   "execution_count": 4,
   "metadata": {
    "collapsed": false
   },
   "outputs": [
    {
     "data": {
      "text/plain": [
       "tik0_analysis (generic function with 1 method)"
      ]
     },
     "execution_count": 4,
     "metadata": {},
     "output_type": "execute_result"
    }
   ],
   "source": [
    "function tik0_analysis(A_full,dist_full,dE_full,dP_full,A,dE,dP,n;num=20)\n",
    "    nr,nc = size(A)\n",
    "    x = zeros(nc,num)\n",
    "    for i=1:num\n",
    "        spec,err = make_synthetic_data(A_full,dist_full,n,1.25e14,dE_full,dP_full)\n",
    "        RF = TikhonovFunctional(A,spec,err,(eye(nc),))\n",
    "        alpha = lcurve(RF,log_alpha_range=(-10,5),nseeds=50)\n",
    "        sol = minimize(RF,alpha)\n",
    "        x[:,i] = max(sol.x,0)/(dE*dP)\n",
    "    end\n",
    "    \n",
    "    return x\n",
    "end"
   ]
  },
  {
   "cell_type": "code",
   "execution_count": 5,
   "metadata": {
    "collapsed": false
   },
   "outputs": [
    {
     "name": "stdout",
     "output_type": "stream",
     "text": [
      "Progress: 100%|█████████████████████████████████████████| Time: 2:18:04\n"
     ]
    }
   ],
   "source": [
    "transp_full = test_dists[\"transp\"]\n",
    "transp = bilinear(transp_full,energy_full,pitch_full,energy,pitch)\n",
    "transp_vec = vec(transp)\n",
    "nr,nc = size(A)\n",
    "t_x_mean = zeros(nc,20)\n",
    "t_x_var = zeros(nc,20)\n",
    "t_x_bias = zeros(nc,20)\n",
    "t_x_mse = zeros(nc,20)\n",
    "\n",
    "t_d_mean = zeros(20)\n",
    "t_d_var = zeros(20)\n",
    "t_d_bias = zeros(20)\n",
    "t_d_mse = zeros(20)\n",
    "\n",
    "@showprogress for (i,n) in enumerate(0.05:0.05:1.0)\n",
    "    x_samples = tik0_analysis(A_full,transp_full,dE_full,dP_full,A,dE,dP,n)\n",
    "\n",
    "    t_x_mean[:,i] = squeeze(mean(x_samples,2),2)\n",
    "    t_x_var[:,i] = squeeze(var(x_samples,2),2)\n",
    "    t_x_bias[:,i] = t_x_mean[:,i] - transp_vec\n",
    "    t_x_mse[:,i] = t_x_bias[:,i].^2 + t_x_var[:,i]\n",
    "    \n",
    "    t_d_mean[i] = mean(sum(x_samples,1)*dE*dP)\n",
    "    t_d_var[i] = var(sum(x_samples,1)*dE*dP)\n",
    "    t_d_bias[i] = t_d_mean[i] - 1e12\n",
    "    t_d_mse[i] = t_d_bias[i]^2 + t_d_var[i]\n",
    "end"
   ]
  },
  {
   "cell_type": "code",
   "execution_count": 8,
   "metadata": {
    "collapsed": false
   },
   "outputs": [
    {
     "data": {
      "text/plain": [
       "1.3283121268927466e23"
      ]
     },
     "execution_count": 8,
     "metadata": {},
     "output_type": "execute_result"
    }
   ],
   "source": [
    "x_samples = tik0_analysis(A_full,transp_full,dE_full,dP_full,A,dE,dP,0.95)\n",
    "i=19\n",
    "t_x_mean[:,i] = squeeze(mean(x_samples,2),2)\n",
    "t_x_var[:,i] = squeeze(var(x_samples,2),2)\n",
    "t_x_bias[:,i] = t_x_mean[:,i] - transp_vec\n",
    "t_x_mse[:,i] = t_x_bias[:,i].^2 + t_x_var[:,i]\n",
    "\n",
    "t_d_mean[i] = mean(sum(x_samples,1)*dE*dP)\n",
    "t_d_var[i] = var(sum(x_samples,1)*dE*dP)\n",
    "t_d_bias[i] = t_d_mean[i] - 1e12\n",
    "t_d_mse[i] = t_d_bias[i]^2 + t_d_var[i]"
   ]
  },
  {
   "cell_type": "code",
   "execution_count": 29,
   "metadata": {
    "collapsed": false
   },
   "outputs": [
    {
     "data": {
      "image/png": "[encoded data removed]",
      "text/plain": [
       "Figure(PyObject <matplotlib.figure.Figure object at 0x7fa259432c50>)"
      ]
     },
     "metadata": {},
     "output_type": "display_data"
    },
    {
     "data": {
      "text/plain": [
       "PyObject <matplotlib.colorbar.Colorbar object at 0x7fa259544668>"
      ]
     },
     "execution_count": 29,
     "metadata": {},
     "output_type": "execute_result"
    }
   ],
   "source": [
    "pcolor(energy,pitch,reshape(t_x_bias[:,1],20,20))\n",
    "colorbar()"
   ]
  },
  {
   "cell_type": "code",
   "execution_count": 10,
   "metadata": {
    "collapsed": false
   },
   "outputs": [
    {
     "data": {
      "image/png": "[encoded data removed]",
      "text/plain": [
       "Figure(PyObject <matplotlib.figure.Figure object at 0x7f60b85fdf98>)"
      ]
     },
     "metadata": {},
     "output_type": "display_data"
    },
    {
     "data": {
      "text/plain": [
       "(0,1.05)"
      ]
     },
     "execution_count": 10,
     "metadata": {},
     "output_type": "execute_result"
    }
   ],
   "source": [
    "errorbar([0.05:0.05:1.0],t_d_mean/1e12,sqrt(t_d_var)/1e12)\n",
    "ylim(0.2,1.2)\n",
    "xlim(0,1.05)"
   ]
  },
  {
   "cell_type": "code",
   "execution_count": 11,
   "metadata": {
    "collapsed": true
   },
   "outputs": [],
   "source": [
    "using NetCDF\n",
    "# Write synthetic data to file\n",
    "fname = \"data/tik0_sampled_transp.cdf\"\n",
    "\n",
    "isfile(fname) && rm(fname)\n",
    "\n",
    "nrows_id = NcDim(\"nrows\",20*20)\n",
    "ncols_id = NcDim(\"ncols\",20)\n",
    "nen_id = NcDim(\"nenergy\",20)\n",
    "np_id = NcDim(\"npitch\",20)\n",
    "\n",
    "x_mean_varid = NcVar(\"x_mean\",[nrows_id,ncols_id])\n",
    "x_var_varid = NcVar(\"x_var\",[nrows_id,ncols_id])\n",
    "x_bias_varid = NcVar(\"x_bias\",[nrows_id,ncols_id])\n",
    "x_mse_varid = NcVar(\"x_mse\",[nrows_id,ncols_id])\n",
    "\n",
    "d_mean_varid = NcVar(\"d_mean\",ncols_id)\n",
    "d_var_varid = NcVar(\"d_var\",ncols_id)\n",
    "d_bias_varid = NcVar(\"d_bias\",ncols_id)\n",
    "d_mse_varid = NcVar(\"d_mse\",ncols_id)\n",
    "\n",
    "energy_varid = NcVar(\"energy\",nen_id)\n",
    "pitch_varid = NcVar(\"pitch\",nen_id)\n",
    "elevel_varid = NcVar(\"error_level\",ncols_id)\n",
    "\n",
    "ncid = NetCDF.create(fname,NcVar[x_mean_varid,x_var_varid,x_bias_varid,x_mse_varid,\n",
    "    d_mean_varid,d_var_varid,d_bias_varid,d_mse_varid,energy_varid,pitch_varid,elevel_varid],mode=NC_CLASSIC_MODEL)\n",
    "\n",
    "NetCDF.putvar(ncid,\"x_mean\",t_x_mean)\n",
    "NetCDF.putvar(ncid,\"x_var\",t_x_var)\n",
    "NetCDF.putvar(ncid,\"x_bias\",t_x_bias)\n",
    "NetCDF.putvar(ncid,\"x_mse\",t_x_mse)\n",
    "\n",
    "NetCDF.putvar(ncid,\"d_mean\",t_d_mean)\n",
    "NetCDF.putvar(ncid,\"d_var\",t_d_var)\n",
    "NetCDF.putvar(ncid,\"d_bias\",t_d_bias)\n",
    "NetCDF.putvar(ncid,\"d_mse\",t_d_mse)\n",
    "\n",
    "NetCDF.putvar(ncid,\"energy\",energy)\n",
    "NetCDF.putvar(ncid,\"pitch\",pitch)\n",
    "NetCDF.putvar(ncid,\"error_level\",[0.05:0.05:1.0])\n",
    "NetCDF.close(ncid);"
   ]
  },
  {
   "cell_type": "code",
   "execution_count": 5,
   "metadata": {
    "collapsed": true
   },
   "outputs": [],
   "source": [
    "gaussian_full = test_dists[\"gaussian\"]\n",
    "gaussian = bilinear(gaussian_full,energy_full,pitch_full,energy,pitch)\n",
    "gaussian_vec = vec(gaussian)\n",
    "nr,nc = size(A)\n",
    "g_x_mean = zeros(nc,20)\n",
    "g_x_var = zeros(nc,20)\n",
    "g_x_bias = zeros(nc,20)\n",
    "g_x_mse = zeros(nc,20)\n",
    "\n",
    "g_d_mean = zeros(20)\n",
    "g_d_var = zeros(20)\n",
    "g_d_bias = zeros(20)\n",
    "g_d_mse = zeros(20);"
   ]
  },
  {
   "cell_type": "code",
   "execution_count": 6,
   "metadata": {
    "collapsed": false
   },
   "outputs": [
    {
     "name": "stdout",
     "output_type": "stream",
     "text": [
      "Progress: 100%|█████████████████████████████████████████| Time: 0:53:06\n"
     ]
    }
   ],
   "source": [
    "@showprogress for (i,n) in enumerate(0.05:0.05:1.0)\n",
    "    x_samples = tik0_analysis(A_full,gaussian_full,dE_full,dP_full,A,dE,dP,n)\n",
    "\n",
    "    g_x_mean[:,i] = squeeze(mean(x_samples,2),2)\n",
    "    g_x_var[:,i] = squeeze(var(x_samples,2),2)\n",
    "    g_x_bias[:,i] = g_x_mean[:,i] - gaussian_vec\n",
    "    g_x_mse[:,i] = g_x_bias[:,i].^2 + g_x_var[:,i]\n",
    "    \n",
    "    g_d_mean[i] = mean(sum(x_samples,1)*dE*dP)\n",
    "    g_d_var[i] = var(sum(x_samples,1)*dE*dP)\n",
    "    g_d_bias[i] = g_d_mean[i] - 1e12\n",
    "    g_d_mse[i] = g_d_bias[i]^2 + g_d_var[i]\n",
    "end"
   ]
  },
  {
   "cell_type": "code",
   "execution_count": 8,
   "metadata": {
    "collapsed": false
   },
   "outputs": [
    {
     "data": {
      "image/png": "[encoded data removed]",
      "text/plain": [
       "Figure(PyObject <matplotlib.figure.Figure object at 0x7f4543e897b8>)"
      ]
     },
     "metadata": {},
     "output_type": "display_data"
    },
    {
     "data": {
      "text/plain": [
       "(0,1.05)"
      ]
     },
     "execution_count": 8,
     "metadata": {},
     "output_type": "execute_result"
    }
   ],
   "source": [
    "errorbar([0.05:0.05:1.0],g_d_mean/1e12,sqrt(g_d_var)/1e12)\n",
    "ylim(0.2,1.5)\n",
    "xlim(0,1.05)"
   ]
  },
  {
   "cell_type": "code",
   "execution_count": 9,
   "metadata": {
    "collapsed": true
   },
   "outputs": [],
   "source": [
    "using NetCDF\n",
    "# Write synthetic data to file\n",
    "fname = \"data/tik0_sampled_gaussian.cdf\"\n",
    "\n",
    "isfile(fname) && rm(fname)\n",
    "\n",
    "nrows_id = NcDim(\"nrows\",20*20)\n",
    "ncols_id = NcDim(\"ncols\",20)\n",
    "nen_id = NcDim(\"nenergy\",20)\n",
    "np_id = NcDim(\"npitch\",20)\n",
    "\n",
    "x_mean_varid = NcVar(\"x_mean\",[nrows_id,ncols_id])\n",
    "x_var_varid = NcVar(\"x_var\",[nrows_id,ncols_id])\n",
    "x_bias_varid = NcVar(\"x_bias\",[nrows_id,ncols_id])\n",
    "x_mse_varid = NcVar(\"x_mse\",[nrows_id,ncols_id])\n",
    "\n",
    "d_mean_varid = NcVar(\"d_mean\",ncols_id)\n",
    "d_var_varid = NcVar(\"d_var\",ncols_id)\n",
    "d_bias_varid = NcVar(\"d_bias\",ncols_id)\n",
    "d_mse_varid = NcVar(\"d_mse\",ncols_id)\n",
    "\n",
    "energy_varid = NcVar(\"energy\",nen_id)\n",
    "pitch_varid = NcVar(\"pitch\",nen_id)\n",
    "elevel_varid = NcVar(\"error_level\",ncols_id)\n",
    "\n",
    "ncid = NetCDF.create(fname,NcVar[x_mean_varid,x_var_varid,x_bias_varid,x_mse_varid,\n",
    "    d_mean_varid,d_var_varid,d_bias_varid,d_mse_varid,energy_varid,pitch_varid,elevel_varid],mode=NC_CLASSIC_MODEL)\n",
    "\n",
    "NetCDF.putvar(ncid,\"x_mean\",g_x_mean)\n",
    "NetCDF.putvar(ncid,\"x_var\",g_x_var)\n",
    "NetCDF.putvar(ncid,\"x_bias\",g_x_bias)\n",
    "NetCDF.putvar(ncid,\"x_mse\",g_x_mse)\n",
    "\n",
    "NetCDF.putvar(ncid,\"d_mean\",g_d_mean)\n",
    "NetCDF.putvar(ncid,\"d_var\",g_d_var)\n",
    "NetCDF.putvar(ncid,\"d_bias\",g_d_bias)\n",
    "NetCDF.putvar(ncid,\"d_mse\",g_d_mse)\n",
    "\n",
    "NetCDF.putvar(ncid,\"energy\",energy)\n",
    "NetCDF.putvar(ncid,\"pitch\",pitch)\n",
    "NetCDF.putvar(ncid,\"error_level\",[0.05:0.05:1.0])\n",
    "NetCDF.close(ncid);"
   ]
  },
  {
   "cell_type": "code",
   "execution_count": 10,
   "metadata": {
    "collapsed": false
   },
   "outputs": [
    {
     "data": {
      "image/png": "[encoded data removed]",
      "text/plain": [
       "Figure(PyObject <matplotlib.figure.Figure object at 0x7f4543e89860>)"
      ]
     },
     "metadata": {},
     "output_type": "display_data"
    },
    {
     "data": {
      "text/plain": [
       "PyObject <matplotlib.colorbar.Colorbar object at 0x7f451ec96588>"
      ]
     },
     "execution_count": 10,
     "metadata": {},
     "output_type": "execute_result"
    }
   ],
   "source": [
    "pcolor(energy,pitch,reshape(g_x_mean[:,1],20,20))\n",
    "colorbar()"
   ]
  },
  {
   "cell_type": "code",
   "execution_count": 11,
   "metadata": {
    "collapsed": true
   },
   "outputs": [],
   "source": [
    "bimax_full = test_dists[\"bimax\"]\n",
    "bimax = bilinear(bimax_full,energy_full,pitch_full,energy,pitch)\n",
    "bimax_vec = vec(bimax)\n",
    "nr,nc = size(A)\n",
    "b_x_mean = zeros(nc,20)\n",
    "b_x_var = zeros(nc,20)\n",
    "b_x_bias = zeros(nc,20)\n",
    "b_x_mse = zeros(nc,20)\n",
    "\n",
    "b_d_mean = zeros(20)\n",
    "b_d_var = zeros(20)\n",
    "b_d_bias = zeros(20)\n",
    "b_d_mse = zeros(20);"
   ]
  },
  {
   "cell_type": "code",
   "execution_count": 12,
   "metadata": {
    "collapsed": false
   },
   "outputs": [
    {
     "name": "stdout",
     "output_type": "stream",
     "text": [
      "Progress: 100%|█████████████████████████████████████████| Time: 0:51:40\n"
     ]
    }
   ],
   "source": [
    "@showprogress for (i,n) in enumerate(0.05:0.05:1.0)\n",
    "    x_samples = tik0_analysis(A_full,bimax_full,dE_full,dP_full,A,dE,dP,n)\n",
    "\n",
    "    b_x_mean[:,i] = squeeze(mean(x_samples,2),2)\n",
    "    b_x_var[:,i] = squeeze(var(x_samples,2),2)\n",
    "    b_x_bias[:,i] = b_x_mean[:,i] - bimax_vec\n",
    "    b_x_mse[:,i] = b_x_bias[:,i].^2 + b_x_var[:,i]\n",
    "    \n",
    "    b_d_mean[i] = mean(sum(x_samples,1)*dE*dP)\n",
    "    b_d_var[i] = var(sum(x_samples,1)*dE*dP)\n",
    "    b_d_bias[i] = b_d_mean[i] - 1e12\n",
    "    b_d_mse[i] = b_d_bias[i]^2 + b_d_var[i]\n",
    "end"
   ]
  },
  {
   "cell_type": "code",
   "execution_count": 13,
   "metadata": {
    "collapsed": true
   },
   "outputs": [
    {
     "data": {
      "image/png": "[encoded data removed]",
      "text/plain": [
       "Figure(PyObject <matplotlib.figure.Figure object at 0x7f4543e73fd0>)"
      ]
     },
     "metadata": {},
     "output_type": "display_data"
    },
    {
     "data": {
      "text/plain": [
       "(0,1.05)"
      ]
     },
     "execution_count": 13,
     "metadata": {},
     "output_type": "execute_result"
    }
   ],
   "source": [
    "errorbar([0.05:0.05:1.0],b_d_mean/1e12,sqrt(b_d_var)/1e12)\n",
    "ylim(0.2,1.5)\n",
    "xlim(0,1.05)"
   ]
  },
  {
   "cell_type": "code",
   "execution_count": 16,
   "metadata": {
    "collapsed": false
   },
   "outputs": [
    {
     "data": {
      "image/png": "[encoded data removed]",
      "text/plain": [
       "Figure(PyObject <matplotlib.figure.Figure object at 0x7f451edd4ac8>)"
      ]
     },
     "metadata": {},
     "output_type": "display_data"
    },
    {
     "data": {
      "text/plain": [
       "PyObject <matplotlib.colorbar.Colorbar object at 0x7f45170fbb70>"
      ]
     },
     "execution_count": 16,
     "metadata": {},
     "output_type": "execute_result"
    }
   ],
   "source": [
    "pcolor(energy,pitch,reshape(b_x_mean[:,15],20,20))\n",
    "colorbar()"
   ]
  },
  {
   "cell_type": "code",
   "execution_count": 14,
   "metadata": {
    "collapsed": true
   },
   "outputs": [],
   "source": [
    "using NetCDF\n",
    "# Write synthetic data to file\n",
    "fname = \"data/tik0_sampled_bimax.cdf\"\n",
    "\n",
    "isfile(fname) && rm(fname)\n",
    "\n",
    "nrows_id = NcDim(\"nrows\",20*20)\n",
    "ncols_id = NcDim(\"ncols\",20)\n",
    "nen_id = NcDim(\"nenergy\",20)\n",
    "np_id = NcDim(\"npitch\",20)\n",
    "\n",
    "x_mean_varid = NcVar(\"x_mean\",[nrows_id,ncols_id])\n",
    "x_var_varid = NcVar(\"x_var\",[nrows_id,ncols_id])\n",
    "x_bias_varid = NcVar(\"x_bias\",[nrows_id,ncols_id])\n",
    "x_mse_varid = NcVar(\"x_mse\",[nrows_id,ncols_id])\n",
    "\n",
    "d_mean_varid = NcVar(\"d_mean\",ncols_id)\n",
    "d_var_varid = NcVar(\"d_var\",ncols_id)\n",
    "d_bias_varid = NcVar(\"d_bias\",ncols_id)\n",
    "d_mse_varid = NcVar(\"d_mse\",ncols_id)\n",
    "\n",
    "energy_varid = NcVar(\"energy\",nen_id)\n",
    "pitch_varid = NcVar(\"pitch\",nen_id)\n",
    "elevel_varid = NcVar(\"error_level\",ncols_id)\n",
    "\n",
    "ncid = NetCDF.create(fname,NcVar[x_mean_varid,x_var_varid,x_bias_varid,x_mse_varid,\n",
    "    d_mean_varid,d_var_varid,d_bias_varid,d_mse_varid,energy_varid,pitch_varid,elevel_varid],mode=NC_CLASSIC_MODEL)\n",
    "\n",
    "NetCDF.putvar(ncid,\"x_mean\",b_x_mean)\n",
    "NetCDF.putvar(ncid,\"x_var\",b_x_var)\n",
    "NetCDF.putvar(ncid,\"x_bias\",b_x_bias)\n",
    "NetCDF.putvar(ncid,\"x_mse\",b_x_mse)\n",
    "\n",
    "NetCDF.putvar(ncid,\"d_mean\",b_d_mean)\n",
    "NetCDF.putvar(ncid,\"d_var\",b_d_var)\n",
    "NetCDF.putvar(ncid,\"d_bias\",b_d_bias)\n",
    "NetCDF.putvar(ncid,\"d_mse\",b_d_mse)\n",
    "\n",
    "NetCDF.putvar(ncid,\"energy\",energy)\n",
    "NetCDF.putvar(ncid,\"pitch\",pitch)\n",
    "NetCDF.putvar(ncid,\"error_level\",[0.05:0.05:1.0])\n",
    "NetCDF.close(ncid);"
   ]
  },
  {
   "cell_type": "code",
   "execution_count": null,
   "metadata": {
    "collapsed": true
   },
   "outputs": [],
   "source": []
  }
 ],
 "metadata": {
  "kernelspec": {
   "display_name": "Julia 0.4.0",
   "language": "julia",
   "name": "julia-0.4"
  },
  "language_info": {
   "file_extension": ".jl",
   "mimetype": "application/julia",
   "name": "julia",
   "version": "0.4.0"
  }
 },
 "nbformat": 4,
 "nbformat_minor": 0
}
