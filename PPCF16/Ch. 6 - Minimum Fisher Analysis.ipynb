{
 "cells": [
  {
   "cell_type": "markdown",
   "metadata": {},
   "source": [
    "# Minimum Fisher"
   ]
  },
  {
   "cell_type": "code",
   "execution_count": null,
   "metadata": {
    "collapsed": false,
    "scrolled": true
   },
   "outputs": [],
   "source": [
    "push!(LOAD_PATH, \"./src\")\n",
    "using RegularizedSystems\n",
    "using VSTom\n",
    "using PyPlot\n",
    "using ProgressMeter"
   ]
  },
  {
   "cell_type": "code",
   "execution_count": null,
   "metadata": {
    "collapsed": false
   },
   "outputs": [],
   "source": [
    "function make_synthetic_data{T<:Real}(A::AbstractArray{T,2},dist::AbstractArray{T,2},n::T,b::T,dE::T,dP::T)\n",
    "    y = (dE*dP) * (A*vec(dist))\n",
    "    \n",
    "    scale = n*mean(sqrt(y))\n",
    "    yerr = scale .* max(sqrt(y),sqrt(b)) .* randn(length(y))\n",
    "    \n",
    "    noisy_spectrum = y .+ yerr\n",
    "    noisy_background = b .+ scale*sqrt(b).*randn(length(y))\n",
    "    \n",
    "    scale_est = n*mean(sqrt(abs(noisy_spectrum)))\n",
    "    \n",
    "    err = scale_est .* max(sqrt(abs(noisy_spectrum)),sqrt(abs(noisy_background)))\n",
    "    \n",
    "    return noisy_spectrum, err\n",
    "end"
   ]
  },
  {
   "cell_type": "markdown",
   "metadata": {},
   "source": [
    "## Reconstruct distributions on 20x20 grid"
   ]
  },
  {
   "cell_type": "code",
   "execution_count": null,
   "metadata": {
    "collapsed": false
   },
   "outputs": [],
   "source": [
    "nenergy = 20\n",
    "npitch = 20\n",
    "\n",
    "test_dists = read_ncdf(\"data/test_distributions.cdf\");\n",
    "test_data = read_ncdf(\"data/test_data.cdf\")\n",
    "wf   = read_ncdf(\"data/reduced_synthetic_transfer_matrix.cdf\");\n",
    "\n",
    "A_full = wf[\"transfer_matrix\"]\n",
    "energy_full = wf[\"energy\"]\n",
    "pitch_full  = wf[\"pitch\"]\n",
    "\n",
    "dE_full = abs(energy_full[2] - energy_full[1])\n",
    "dP_full = abs(pitch_full[2] - pitch_full[1])\n",
    "energy = linspace(20.0,maximum(energy_full),nenergy)\n",
    "pitch = linspace(extrema(pitch_full)...,npitch)\n",
    "A = resize_transfer_matrix(A_full,energy_full,pitch_full,energy,pitch);\n",
    "dE = abs(energy[2]-energy[1])\n",
    "dP = abs(pitch[2]-pitch[1]);\n",
    "L1E,L1p = gradEP(energy,pitch);"
   ]
  },
  {
   "cell_type": "code",
   "execution_count": null,
   "metadata": {
    "collapsed": false
   },
   "outputs": [],
   "source": [
    "transp_full = test_dists[\"transp\"]\n",
    "transp = bilinear(transp_full,energy_full,pitch_full,energy,pitch)\n",
    "transp_vec = vec(transp)\n",
    "nr,nc = size(A)\n",
    "spec, err = make_synthetic_data(A_full,transp_full,0.5,1.25e14,dE_full,dP_full)\n",
    "RF = FisherFunctional(A,spec,err,(L1E,L1p))\n",
    "alpha = lcurve(RF,log_alpha_range=(0,20),nseeds=25,doplot=true,kwargs={:maxiter=>5,:verbose=>false},filename=\"mf_transp_k=0.5_lcurve.eps\")"
   ]
  },
  {
   "cell_type": "code",
   "execution_count": null,
   "metadata": {
    "collapsed": false
   },
   "outputs": [],
   "source": [
    "function mf_analysis(A_full,dist_full,dE_full,dP_full,A,dE,dP,L1E,L1p,n;num=20)\n",
    "    nr,nc = size(A)\n",
    "    x = zeros(nc,num)\n",
    "    for i=1:num\n",
    "        spec,err = make_synthetic_data(A_full,dist_full,n,1.25e14,dE_full,dP_full)\n",
    "        RF = FisherFunctional(A,spec,err,(L1E,L1p))\n",
    "        alpha = lcurve(RF,log_alpha_range=(0,20),nseeds=20,kwargs={:maxiter=>5,:verbose=>false})\n",
    "        sol = minimize(RF,alpha,maxiter=5)\n",
    "        x[:,i] = max(sol.x,0)/(dE*dP)\n",
    "    end\n",
    "    \n",
    "    return x\n",
    "end"
   ]
  },
  {
   "cell_type": "code",
   "execution_count": null,
   "metadata": {
    "collapsed": false
   },
   "outputs": [],
   "source": [
    "transp_full = test_dists[\"transp\"]\n",
    "transp = bilinear(transp_full,energy_full,pitch_full,energy,pitch)\n",
    "transp_vec = vec(transp)\n",
    "nr,nc = size(A)\n",
    "t_x_mean = zeros(nc,20)\n",
    "t_x_var = zeros(nc,20)\n",
    "t_x_bias = zeros(nc,20)\n",
    "t_x_mse = zeros(nc,20)\n",
    "\n",
    "t_d_mean = zeros(20)\n",
    "t_d_var = zeros(20)\n",
    "t_d_bias = zeros(20)\n",
    "t_d_mse = zeros(20)\n",
    "\n",
    "@showprogress for (i,n) in enumerate(0.05:0.05:1.0)\n",
    "    x_samples = mf_analysis(A_full,transp_full,dE_full,dP_full,A,dE,dP,L1E,L1p,n)\n",
    "\n",
    "    t_x_mean[:,i] = squeeze(mean(x_samples,2),2)\n",
    "    t_x_var[:,i] = squeeze(var(x_samples,2),2)\n",
    "    t_x_bias[:,i] = t_x_mean[:,i] - transp_vec\n",
    "    t_x_mse[:,i] = t_x_bias[:,i].^2 + t_x_var[:,i]\n",
    "    \n",
    "    t_d_mean[i] = mean(sum(x_samples,1)*dE*dP)\n",
    "    t_d_var[i] = var(sum(x_samples,1)*dE*dP)\n",
    "    t_d_bias[i] = t_d_mean[i] - 1e12\n",
    "    t_d_mse[i] = t_d_bias[i]^2 + t_d_var[i]\n",
    "end"
   ]
  },
  {
   "cell_type": "code",
   "execution_count": null,
   "metadata": {
    "collapsed": false
   },
   "outputs": [],
   "source": [
    "x_samples = mf_analysis(A_full,transp_full,dE_full,dP_full,A,dE,dP,L1E,L1p,1.0)\n",
    "i=20\n",
    "t_x_mean[:,i] = squeeze(mean(x_samples,2),2)\n",
    "t_x_var[:,i] = squeeze(var(x_samples,2),2)\n",
    "t_x_bias[:,i] = t_x_mean[:,i] - transp_vec\n",
    "t_x_mse[:,i] = t_x_bias[:,i].^2 + t_x_var[:,i]\n",
    "\n",
    "t_d_mean[i] = mean(sum(x_samples,1)*dE*dP)\n",
    "t_d_var[i] = var(sum(x_samples,1)*dE*dP)\n",
    "t_d_bias[i] = t_d_mean[i] - 1e12\n",
    "t_d_mse[i] = t_d_bias[i]^2 + t_d_var[i]"
   ]
  },
  {
   "cell_type": "code",
   "execution_count": null,
   "metadata": {
    "collapsed": true
   },
   "outputs": [],
   "source": [
    "using NetCDF\n",
    "# Write synthetic data to file\n",
    "fname = \"data/mf_sampled_transp.cdf\"\n",
    "\n",
    "isfile(fname) && rm(fname)\n",
    "\n",
    "nrows_id = NcDim(\"nrows\",20*20)\n",
    "ncols_id = NcDim(\"ncols\",20)\n",
    "nen_id = NcDim(\"nenergy\",20)\n",
    "np_id = NcDim(\"npitch\",20)\n",
    "\n",
    "x_mean_varid = NcVar(\"x_mean\",[nrows_id,ncols_id])\n",
    "x_var_varid = NcVar(\"x_var\",[nrows_id,ncols_id])\n",
    "x_bias_varid = NcVar(\"x_bias\",[nrows_id,ncols_id])\n",
    "x_mse_varid = NcVar(\"x_mse\",[nrows_id,ncols_id])\n",
    "\n",
    "d_mean_varid = NcVar(\"d_mean\",ncols_id)\n",
    "d_var_varid = NcVar(\"d_var\",ncols_id)\n",
    "d_bias_varid = NcVar(\"d_bias\",ncols_id)\n",
    "d_mse_varid = NcVar(\"d_mse\",ncols_id)\n",
    "\n",
    "energy_varid = NcVar(\"energy\",nen_id)\n",
    "pitch_varid = NcVar(\"pitch\",nen_id)\n",
    "elevel_varid = NcVar(\"error_level\",ncols_id)\n",
    "\n",
    "ncid = NetCDF.create(fname,[x_mean_varid,x_var_varid,x_bias_varid,x_mse_varid,\n",
    "    d_mean_varid,d_var_varid,d_bias_varid,d_mse_varid,energy_varid,pitch_varid,elevel_varid],mode=NC_CLASSIC_MODEL)\n",
    "\n",
    "NetCDF.putvar(ncid,\"x_mean\",t_x_mean)\n",
    "NetCDF.putvar(ncid,\"x_var\",t_x_var)\n",
    "NetCDF.putvar(ncid,\"x_bias\",t_x_bias)\n",
    "NetCDF.putvar(ncid,\"x_mse\",t_x_mse)\n",
    "\n",
    "NetCDF.putvar(ncid,\"d_mean\",t_d_mean)\n",
    "NetCDF.putvar(ncid,\"d_var\",t_d_var)\n",
    "NetCDF.putvar(ncid,\"d_bias\",t_d_bias)\n",
    "NetCDF.putvar(ncid,\"d_mse\",t_d_mse)\n",
    "\n",
    "NetCDF.putvar(ncid,\"energy\",energy)\n",
    "NetCDF.putvar(ncid,\"pitch\",pitch)\n",
    "NetCDF.putvar(ncid,\"error_level\",[0.05:0.05:1.0])\n",
    "NetCDF.close(ncid);"
   ]
  },
  {
   "cell_type": "code",
   "execution_count": null,
   "metadata": {
    "collapsed": true
   },
   "outputs": [],
   "source": [
    "gaussian_full = test_dists[\"gaussian\"]\n",
    "gaussian = bilinear(gaussian_full,energy_full,pitch_full,energy,pitch)\n",
    "gaussian_vec = vec(gaussian)\n",
    "nr,nc = size(A)\n",
    "g_x_mean = zeros(nc,20)\n",
    "g_x_var = zeros(nc,20)\n",
    "g_x_bias = zeros(nc,20)\n",
    "g_x_mse = zeros(nc,20)\n",
    "\n",
    "g_d_mean = zeros(20)\n",
    "g_d_var = zeros(20)\n",
    "g_d_bias = zeros(20)\n",
    "g_d_mse = zeros(20);"
   ]
  },
  {
   "cell_type": "code",
   "execution_count": null,
   "metadata": {
    "collapsed": false
   },
   "outputs": [],
   "source": [
    "@showprogress for (i,n) in enumerate(0.05:0.05:1.0)\n",
    "    x_samples = mf_analysis(A_full,gaussian_full,dE_full,dP_full,A,dE,dP,L1E,L1p,n)\n",
    "\n",
    "    g_x_mean[:,i] = squeeze(mean(x_samples,2),2)\n",
    "    g_x_var[:,i] = squeeze(var(x_samples,2),2)\n",
    "    g_x_bias[:,i] = g_x_mean[:,i] - gaussian_vec\n",
    "    g_x_mse[:,i] = g_x_bias[:,i].^2 + g_x_var[:,i]\n",
    "    \n",
    "    g_d_mean[i] = mean(sum(x_samples,1)*dE*dP)\n",
    "    g_d_var[i] = var(sum(x_samples,1)*dE*dP)\n",
    "    g_d_bias[i] = g_d_mean[i] - 1e12\n",
    "    g_d_mse[i] = g_d_bias[i]^2 + g_d_var[i]\n",
    "end"
   ]
  },
  {
   "cell_type": "code",
   "execution_count": null,
   "metadata": {
    "collapsed": true
   },
   "outputs": [],
   "source": [
    "using NetCDF\n",
    "# Write synthetic data to file\n",
    "fname = \"data/mf_sampled_gaussian.cdf\"\n",
    "\n",
    "isfile(fname) && rm(fname)\n",
    "\n",
    "nrows_id = NcDim(\"nrows\",20*20)\n",
    "ncols_id = NcDim(\"ncols\",20)\n",
    "nen_id = NcDim(\"nenergy\",20)\n",
    "np_id = NcDim(\"npitch\",20)\n",
    "\n",
    "x_mean_varid = NcVar(\"x_mean\",[nrows_id,ncols_id])\n",
    "x_var_varid = NcVar(\"x_var\",[nrows_id,ncols_id])\n",
    "x_bias_varid = NcVar(\"x_bias\",[nrows_id,ncols_id])\n",
    "x_mse_varid = NcVar(\"x_mse\",[nrows_id,ncols_id])\n",
    "\n",
    "d_mean_varid = NcVar(\"d_mean\",ncols_id)\n",
    "d_var_varid = NcVar(\"d_var\",ncols_id)\n",
    "d_bias_varid = NcVar(\"d_bias\",ncols_id)\n",
    "d_mse_varid = NcVar(\"d_mse\",ncols_id)\n",
    "\n",
    "energy_varid = NcVar(\"energy\",nen_id)\n",
    "pitch_varid = NcVar(\"pitch\",nen_id)\n",
    "elevel_varid = NcVar(\"error_level\",ncols_id)\n",
    "\n",
    "ncid = NetCDF.create(fname,[x_mean_varid,x_var_varid,x_bias_varid,x_mse_varid,\n",
    "    d_mean_varid,d_var_varid,d_bias_varid,d_mse_varid,energy_varid,pitch_varid,elevel_varid],mode=NC_CLASSIC_MODEL)\n",
    "\n",
    "NetCDF.putvar(ncid,\"x_mean\",g_x_mean)\n",
    "NetCDF.putvar(ncid,\"x_var\",g_x_var)\n",
    "NetCDF.putvar(ncid,\"x_bias\",g_x_bias)\n",
    "NetCDF.putvar(ncid,\"x_mse\",g_x_mse)\n",
    "\n",
    "NetCDF.putvar(ncid,\"d_mean\",g_d_mean)\n",
    "NetCDF.putvar(ncid,\"d_var\",g_d_var)\n",
    "NetCDF.putvar(ncid,\"d_bias\",g_d_bias)\n",
    "NetCDF.putvar(ncid,\"d_mse\",g_d_mse)\n",
    "\n",
    "NetCDF.putvar(ncid,\"energy\",energy)\n",
    "NetCDF.putvar(ncid,\"pitch\",pitch)\n",
    "NetCDF.putvar(ncid,\"error_level\",[0.05:0.05:1.0])\n",
    "NetCDF.close(ncid);"
   ]
  },
  {
   "cell_type": "code",
   "execution_count": null,
   "metadata": {
    "collapsed": true
   },
   "outputs": [],
   "source": [
    "bimax_full = test_dists[\"bimax\"]\n",
    "bimax = bilinear(bimax_full,energy_full,pitch_full,energy,pitch)\n",
    "bimax_vec = vec(bimax)\n",
    "nr,nc = size(A)\n",
    "b_x_mean = zeros(nc,20)\n",
    "b_x_var = zeros(nc,20)\n",
    "b_x_bias = zeros(nc,20)\n",
    "b_x_mse = zeros(nc,20)\n",
    "\n",
    "b_d_mean = zeros(20)\n",
    "b_d_var = zeros(20)\n",
    "b_d_bias = zeros(20)\n",
    "b_d_mse = zeros(20);"
   ]
  },
  {
   "cell_type": "code",
   "execution_count": null,
   "metadata": {
    "collapsed": false
   },
   "outputs": [],
   "source": [
    "@showprogress for (i,n) in enumerate(0.05:0.05:1.0)\n",
    "    x_samples = mf_analysis(A_full,bimax_full,dE_full,dP_full,A,dE,dP,L1E,L1p,n)\n",
    "\n",
    "    b_x_mean[:,i] = squeeze(mean(x_samples,2),2)\n",
    "    b_x_var[:,i] = squeeze(var(x_samples,2),2)\n",
    "    b_x_bias[:,i] = b_x_mean[:,i] - bimax_vec\n",
    "    b_x_mse[:,i] = b_x_bias[:,i].^2 + b_x_var[:,i]\n",
    "    \n",
    "    b_d_mean[i] = mean(sum(x_samples,1)*dE*dP)\n",
    "    b_d_var[i] = var(sum(x_samples,1)*dE*dP)\n",
    "    b_d_bias[i] = b_d_mean[i] - 1e12\n",
    "    b_d_mse[i] = b_d_bias[i]^2 + b_d_var[i]\n",
    "end"
   ]
  },
  {
   "cell_type": "code",
   "execution_count": null,
   "metadata": {
    "collapsed": true
   },
   "outputs": [],
   "source": [
    "using NetCDF\n",
    "# Write synthetic data to file\n",
    "fname = \"data/mf_sampled_bimax.cdf\"\n",
    "\n",
    "isfile(fname) && rm(fname)\n",
    "\n",
    "nrows_id = NcDim(\"nrows\",20*20)\n",
    "ncols_id = NcDim(\"ncols\",20)\n",
    "nen_id = NcDim(\"nenergy\",20)\n",
    "np_id = NcDim(\"npitch\",20)\n",
    "\n",
    "x_mean_varid = NcVar(\"x_mean\",[nrows_id,ncols_id])\n",
    "x_var_varid = NcVar(\"x_var\",[nrows_id,ncols_id])\n",
    "x_bias_varid = NcVar(\"x_bias\",[nrows_id,ncols_id])\n",
    "x_mse_varid = NcVar(\"x_mse\",[nrows_id,ncols_id])\n",
    "\n",
    "d_mean_varid = NcVar(\"d_mean\",ncols_id)\n",
    "d_var_varid = NcVar(\"d_var\",ncols_id)\n",
    "d_bias_varid = NcVar(\"d_bias\",ncols_id)\n",
    "d_mse_varid = NcVar(\"d_mse\",ncols_id)\n",
    "\n",
    "energy_varid = NcVar(\"energy\",nen_id)\n",
    "pitch_varid = NcVar(\"pitch\",nen_id)\n",
    "elevel_varid = NcVar(\"error_level\",ncols_id)\n",
    "\n",
    "ncid = NetCDF.create(fname,[x_mean_varid,x_var_varid,x_bias_varid,x_mse_varid,\n",
    "    d_mean_varid,d_var_varid,d_bias_varid,d_mse_varid,energy_varid,pitch_varid,elevel_varid],mode=NC_CLASSIC_MODEL)\n",
    "\n",
    "NetCDF.putvar(ncid,\"x_mean\",b_x_mean)\n",
    "NetCDF.putvar(ncid,\"x_var\",b_x_var)\n",
    "NetCDF.putvar(ncid,\"x_bias\",b_x_bias)\n",
    "NetCDF.putvar(ncid,\"x_mse\",b_x_mse)\n",
    "\n",
    "NetCDF.putvar(ncid,\"d_mean\",b_d_mean)\n",
    "NetCDF.putvar(ncid,\"d_var\",b_d_var)\n",
    "NetCDF.putvar(ncid,\"d_bias\",b_d_bias)\n",
    "NetCDF.putvar(ncid,\"d_mse\",b_d_mse)\n",
    "\n",
    "NetCDF.putvar(ncid,\"energy\",energy)\n",
    "NetCDF.putvar(ncid,\"pitch\",pitch)\n",
    "NetCDF.putvar(ncid,\"error_level\",[0.05:0.05:1.0])\n",
    "NetCDF.close(ncid);"
   ]
  },
  {
   "cell_type": "code",
   "execution_count": null,
   "metadata": {
    "collapsed": true
   },
   "outputs": [],
   "source": []
  }
 ],
 "metadata": {
  "kernelspec": {
   "display_name": "Julia 0.4.1",
   "language": "julia",
   "name": "julia-0.4"
  },
  "language_info": {
   "file_extension": ".jl",
   "mimetype": "application/julia",
   "name": "julia",
   "version": "0.4.1"
  }
 },
 "nbformat": 4,
 "nbformat_minor": 0
}
