{
 "cells": [
  {
   "cell_type": "markdown",
   "metadata": {},
   "source": [
    "# Test Distributions\n",
    "\n",
    "For this study we need a set of test distributions that cover a variaty of different shapes. We chose the following distributions...\n",
    "\n",
    "1. Single Gaussian\n",
    "2. Bi-Maxwellian\n",
    "3. TRANSP Distribution\n",
    "\n",
    "Each test distribution is normalized such that the integral over E-p space is equal to $1 \\times 10^{12}$ fast-ions/cm³"
   ]
  },
  {
   "cell_type": "code",
   "execution_count": null,
   "metadata": {
    "collapsed": false
   },
   "outputs": [],
   "source": [
    "push!(LOAD_PATH, \"./src\")\n",
    "using VSTom\n",
    "using PyPlot"
   ]
  },
  {
   "cell_type": "code",
   "execution_count": null,
   "metadata": {
    "collapsed": false,
    "scrolled": true
   },
   "outputs": [],
   "source": [
    "a = read_ncdf(\"data/reduced_synthetic_transfer_matrix.cdf\")\n",
    "transfer_matrix = a[\"transfer_matrix\"]\n",
    "energy = a[\"energy\"]\n",
    "nenergy = length(energy)\n",
    "\n",
    "pitch = a[\"pitch\"]\n",
    "npitch = length(pitch)\n",
    "\n",
    "dE = abs(energy[2]-energy[1]);\n",
    "dP = abs(pitch[2]-pitch[1]);\n",
    "E = ones(npitch)*energy';\n",
    "P = pitch*ones(nenergy)';"
   ]
  },
  {
   "cell_type": "markdown",
   "metadata": {},
   "source": [
    "## Single Gaussian\n",
    "\n",
    "This distribution allows us to see if the algorithms can reconstruct a simple distribution"
   ]
  },
  {
   "cell_type": "code",
   "execution_count": null,
   "metadata": {
    "collapsed": false,
    "scrolled": false
   },
   "outputs": [],
   "source": [
    "gaussian = exp(-(((E-50.0)/10.0).^2 + ((P/0.25).^2) ))\n",
    "norm = (1e12)/(sum(gaussian)*dE*dP)\n",
    "gaussian *= norm\n",
    "println(norm)\n",
    "c_map = plt[:cm][:get_cmap](\"gist_earth\")\n",
    "c_map[:set_under](\"w\")\n",
    "fig,ax  = plt[:subplots]()\n",
    "p = ax[:contourf](E,P,gaussian,30,cmap = c_map,vmin=3e9)\n",
    "ax[:set_xlabel](\"Energy [keV]\")\n",
    "ax[:set_ylabel](\"Pitch\")\n",
    "ax[:set_title](\"Single Gaussian\")\n",
    "fig[:colorbar](p)"
   ]
  },
  {
   "cell_type": "markdown",
   "metadata": {},
   "source": [
    "## Bi-Maxwellian\n",
    "\n",
    "This is a common fast-ion distribution in RF heated plasmas. "
   ]
  },
  {
   "cell_type": "code",
   "execution_count": null,
   "metadata": {
    "collapsed": false,
    "scrolled": false
   },
   "outputs": [],
   "source": [
    "Epara = 3.0\n",
    "Eperp = 20.0\n",
    "\n",
    "bimax = (1/sqrt(pi))*(1.0/Eperp)*(1.0/sqrt(Epara))*sqrt(E).*exp(-(P.*P.*E/Epara)).*exp(-((1-P.*P).*E/Eperp))\n",
    "norm = 1e12/(sum(bimax)*dE*dP)\n",
    "\n",
    "bimax *= norm\n",
    "\n",
    "c_map = plt[:cm][:get_cmap](\"gist_earth\")\n",
    "c_map[:set_under](\"w\")\n",
    "fig,ax  = plt[:subplots]()\n",
    "p = ax[:contourf](E,P,bimax,50,cmap=c_map,vmin=5e8)\n",
    "ax[:set_xlabel](\"Energy [keV]\")\n",
    "ax[:set_ylabel](\"Pitch\")\n",
    "ax[:set_title](\"Bi-Maxwellian\")\n",
    "fig[:colorbar](p)\n",
    "println(\"norm: \",norm)"
   ]
  },
  {
   "cell_type": "markdown",
   "metadata": {},
   "source": [
    "## TRANSP\n",
    "\n",
    "Like the Bi-Maxwellian this TRANSP distribution is representative of a typical beam heated plasma"
   ]
  },
  {
   "cell_type": "code",
   "execution_count": null,
   "metadata": {
    "collapsed": false
   },
   "outputs": [],
   "source": [
    "b = read_ncdf(\"data/transp.cdf\")\n",
    "transp = bilinear(b[\"MEAN_FBM\"]',b[\"ENERGY\"],b[\"PITCH\"],energy,pitch)\n",
    "transp *= 1e12/(sum(transp)*dE*dP)\n",
    "b = 0; gc() #clear a variable\n",
    "\n",
    "# c_map = plt.cm[:get_cmap](\"gist_earth\")\n",
    "# c_map[:set_under](\"w\")\n",
    "\n",
    "# fig,ax  = plt.subplots()\n",
    "# p = ax[:contourf](E, P, transp, 30, cmap=c_map,vmin=4e8)\n",
    "# ax[:set_xlabel](\"Energy [keV]\")\n",
    "# ax[:set_ylabel](\"Pitch\")\n",
    "# ax[:set_title](\"TRANSP\")\n",
    "# fig[:colorbar](p)"
   ]
  },
  {
   "cell_type": "markdown",
   "metadata": {},
   "source": [
    "## Save test distributions"
   ]
  },
  {
   "cell_type": "code",
   "execution_count": null,
   "metadata": {
    "collapsed": false
   },
   "outputs": [],
   "source": [
    "using NetCDF\n",
    "\n",
    "# Write transfer matrix to file\n",
    "fname = \"data/test_distributions.cdf\"\n",
    "\n",
    "isfile(fname) && rm(fname)\n",
    "\n",
    "E_id = NcDim(\"ne\",nenergy)\n",
    "P_id = NcDim(\"np\",npitch)\n",
    "\n",
    "gauss_varid = NcVar(\"gaussian\",[P_id,E_id])\n",
    "bimax_varid = NcVar(\"bimax\",[P_id,E_id])\n",
    "transp_varid = NcVar(\"transp\",[P_id,E_id])\n",
    "e_varid = NcVar(\"E\",[P_id,E_id])\n",
    "p_varid = NcVar(\"P\",[P_id,E_id])\n",
    "\n",
    "ncid = NetCDF.create(fname,NcVar[gauss_varid,bimax_varid,transp_varid,e_varid,p_varid],mode=NC_CLASSIC_MODEL)\n",
    "\n",
    "NetCDF.putvar(ncid,\"gaussian\",gaussian)\n",
    "NetCDF.putvar(ncid,\"bimax\",bimax)\n",
    "NetCDF.putvar(ncid,\"transp\",transp)\n",
    "NetCDF.putvar(ncid,\"E\",E)\n",
    "NetCDF.putvar(ncid,\"P\",P)\n",
    "\n",
    "NetCDF.close(ncid)"
   ]
  },
  {
   "cell_type": "markdown",
   "metadata": {},
   "source": [
    "# Synthetic Test Data\n",
    "\n",
    "## Error Model\n",
    "In experiments it is not possible to measure a single spectral component. The measured signal is comprised of active signal and background signal. To seperate out the active signal we have to have at least two measurements. A measurements of the active plus background signal and a background only signal. Subtracting the two signals will isolate the active signal.\n",
    "\n",
    "The subtraction causes an interesting effect to the estimated error. When the active signal is large compared to the background the error primarely associated with the active signal. When the active signal is small compared the background the error is associated with the background signal. The error is also assumed to be gaussian-like. To generate test spectra from our test distributions we must be able to replicate this type of behavior. \n",
    "\n",
    "We propose the following model that has the correct behavior.\n",
    "\n",
    "$$\\sigma_A(\\lambda) = \\mathcal{K} * \\max (\\sqrt{A(\\lambda)},\\sqrt{B(\\lambda)} ) * \\mathcal{N}(0,1)$$\n",
    "\n",
    "Where $\\mathcal{K}$ is a scale factor. A convienient choice of $\\mathcal{K}$ is $n*\\mathrm{mean}(\\sqrt{A(\\lambda)})$. With this choice of $\\mathcal{K}$, the factor $n$ can be thought of as the percentage of the mean value of $A$ which is useful for quantifying error levels."
   ]
  },
  {
   "cell_type": "code",
   "execution_count": null,
   "metadata": {
    "collapsed": false,
    "scrolled": true
   },
   "outputs": [],
   "source": [
    "function make_synthetic_data{T<:Real}(A::Array{T,2},dist::Array{T,2},n::T,b::T,dE::T,dP::T)\n",
    "    y = (dE*dP) * (A*reshape(dist,length(dist)))\n",
    "    \n",
    "    scale = n*mean(sqrt(y))\n",
    "    yerr = scale .* max(sqrt(y),sqrt(b)) .* randn(length(y))\n",
    "    \n",
    "    noisy_spectrum = y .+ yerr\n",
    "    noisy_background = b .+ scale*sqrt(b).*randn(length(y))\n",
    "    \n",
    "    scale_est = n*mean(sqrt(abs(noisy_spectrum)))\n",
    "    \n",
    "    err = scale_est .* max(sqrt(abs(noisy_spectrum)),sqrt(abs(noisy_background)))\n",
    "    \n",
    "    return noisy_spectrum, err\n",
    "end"
   ]
  },
  {
   "cell_type": "markdown",
   "metadata": {},
   "source": [
    "### No Background\n",
    "Error is dominatated by active signal causing an error profile that correlates with the signal profile."
   ]
  },
  {
   "cell_type": "code",
   "execution_count": null,
   "metadata": {
    "collapsed": false
   },
   "outputs": [],
   "source": [
    "dist = ones(npitch,nenergy)\n",
    "dist *= (1e12)/sum(dist*dE*dP)\n",
    "spec,err = make_synthetic_data(transfer_matrix,dist,.1,0.0,dE,dP);\n",
    "plot(err,\"k\")\n",
    "title(\"No Background\")\n",
    "xlabel(\"Index\")\n",
    "ylabel(\"Error\")\n",
    "savefig(\"/home/lstagner/conferences/IAEA2015/no_background.png\")"
   ]
  },
  {
   "cell_type": "markdown",
   "metadata": {},
   "source": [
    "### Typical Constant Background\n",
    "This represents a typical experimental error profile where the background error dominates at relativively low active signal and active error dominates at relativively high active signal."
   ]
  },
  {
   "cell_type": "code",
   "execution_count": null,
   "metadata": {
    "collapsed": false
   },
   "outputs": [],
   "source": [
    "spec,err = make_synthetic_data(transfer_matrix,dist,.1,1.25e14,dE,dP);\n",
    "plot(err,\"k\")\n",
    "title(\"Typical Constant Background\")\n",
    "xlabel(\"Index\")\n",
    "ylabel(\"Error\")\n",
    "savefig(\"/home/lstagner/conferences/IAEA2015/mid_background.png\")"
   ]
  },
  {
   "cell_type": "markdown",
   "metadata": {},
   "source": [
    "### High Constant Background\n",
    "Error from background dominates causing a flat error profile"
   ]
  },
  {
   "cell_type": "code",
   "execution_count": null,
   "metadata": {
    "collapsed": false,
    "scrolled": false
   },
   "outputs": [],
   "source": [
    "spec,err = make_synthetic_data(transfer_matrix,dist,.1,1e18,dE,dP);\n",
    "plot(err,\"k\")\n",
    "title(\"High Constant Background\")\n",
    "xlabel(\"Index\")\n",
    "ylabel(\"Error\")\n",
    "savefig(\"/home/lstagner/conferences/IAEA2015/high_background.png\")"
   ]
  },
  {
   "cell_type": "markdown",
   "metadata": {},
   "source": [
    "## Generate Synthetic Test Data"
   ]
  },
  {
   "cell_type": "code",
   "execution_count": null,
   "metadata": {
    "collapsed": false
   },
   "outputs": [],
   "source": [
    "# Get size of transfer matrix\n",
    "nrows,ncols = size(transfer_matrix)\n",
    "\n",
    "# Allocate storage\n",
    "gauss_spec = zeros(nrows,21)\n",
    "gauss_err = zeros(nrows,21)\n",
    "bimax_spec = zeros(nrows,21)\n",
    "bimax_err = zeros(nrows,21)\n",
    "transp_spec = zeros(nrows,21)\n",
    "transp_err = zeros(nrows,21)\n",
    "\n",
    "# Generate synthetic data for varying error levels with the same background value\n",
    "for (ind,n) in enumerate(0:.05:1)\n",
    "    gauss_spec[:,ind], gauss_err[:,ind] = make_synthetic_data(transfer_matrix,gaussian,n,1.25e14,dE,dP);\n",
    "    bimax_spec[:,ind], bimax_err[:,ind] = make_synthetic_data(transfer_matrix,bimax,n,1.25e14,dE,dP);\n",
    "    transp_spec[:,ind], transp_err[:,ind] = make_synthetic_data(transfer_matrix,transp,n,1.25e14,dE,dP);\n",
    "end"
   ]
  },
  {
   "cell_type": "code",
   "execution_count": null,
   "metadata": {
    "collapsed": false
   },
   "outputs": [],
   "source": [
    "using NetCDF\n",
    "# Write synthetic data to file\n",
    "fname = \"data/example_test_data.cdf\"\n",
    "\n",
    "isfile(fname) && rm(fname)\n",
    "\n",
    "nrows_id = NcDim(\"nrows\",nrows)\n",
    "ncols_id = NcDim(\"ncols\",21)\n",
    "\n",
    "gauss_spec_varid = NcVar(\"gaussian_spec\",[nrows_id,ncols_id])\n",
    "bimax_spec_varid = NcVar(\"bimax_spec\",[nrows_id,ncols_id])\n",
    "transp_spec_varid = NcVar(\"transp_spec\",[nrows_id,ncols_id])\n",
    "\n",
    "gauss_err_varid = NcVar(\"gaussian_err\",[nrows_id,ncols_id])\n",
    "bimax_err_varid = NcVar(\"bimax_err\",[nrows_id,ncols_id])\n",
    "transp_err_varid = NcVar(\"transp_err\",[nrows_id,ncols_id])\n",
    "\n",
    "ncid = NetCDF.create(fname,NcVar[gauss_spec_varid,bimax_spec_varid,transp_spec_varid, \n",
    "    gauss_err_varid,bimax_err_varid,transp_err_varid],mode=NC_CLASSIC_MODEL)\n",
    "\n",
    "NetCDF.putvar(ncid,\"gaussian_spec\",gauss_spec)\n",
    "NetCDF.putvar(ncid,\"bimax_spec\",bimax_spec)\n",
    "NetCDF.putvar(ncid,\"transp_spec\",transp_spec)\n",
    "\n",
    "NetCDF.putvar(ncid,\"gaussian_err\",gauss_err)\n",
    "NetCDF.putvar(ncid,\"bimax_err\",bimax_err)\n",
    "NetCDF.putvar(ncid,\"transp_err\",transp_err)\n",
    "NetCDF.close(ncid);"
   ]
  },
  {
   "cell_type": "code",
   "execution_count": null,
   "metadata": {
    "collapsed": true
   },
   "outputs": [],
   "source": []
  }
 ],
 "metadata": {
  "kernelspec": {
   "display_name": "Julia 0.4.1",
   "language": "julia",
   "name": "julia-0.4"
  },
  "language_info": {
   "file_extension": ".jl",
   "mimetype": "application/julia",
   "name": "julia",
   "version": "0.4.1"
  }
 },
 "nbformat": 4,
 "nbformat_minor": 0
}
