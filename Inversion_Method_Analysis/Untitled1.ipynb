{
 "cells": [
  {
   "cell_type": "code",
   "execution_count": 25,
   "metadata": {
    "collapsed": true
   },
   "outputs": [],
   "source": [
    "using RegularizedSystems\n",
    "using VSTom\n",
    "using PyPlot\n",
    "a = read_ncdf(\"data/reduced_synthetic_transfer_matrix.cdf\")\n",
    "transfer_matrix = a[\"transfer_matrix\"]\n",
    "energy = a[\"energy\"]\n",
    "nenergy = length(energy)\n",
    "\n",
    "pitch = a[\"pitch\"]\n",
    "npitch = length(pitch)\n",
    "\n",
    "dE = abs(energy[2]-energy[1]);\n",
    "dP = abs(pitch[2]-pitch[1]);\n",
    "E = ones(npitch)*energy';\n",
    "P = pitch*ones(nenergy)';"
   ]
  },
  {
   "cell_type": "code",
   "execution_count": 2,
   "metadata": {
    "collapsed": false
   },
   "outputs": [
    {
     "data": {
      "text/plain": [
       "make_synthetic_data (generic function with 1 method)"
      ]
     },
     "execution_count": 2,
     "metadata": {},
     "output_type": "execute_result"
    }
   ],
   "source": [
    "function make_synthetic_data{T<:Real}(A::Array{T,2},dist::Array{T,2},n::T,b::T,dE::T,dP::T)\n",
    "    y = (dE*dP) * (A*reshape(dist,length(dist)))\n",
    "    \n",
    "    scale = n*mean(sqrt(y))\n",
    "    yerr = scale .* max(sqrt(y),sqrt(b)) .* randn(length(y))\n",
    "    \n",
    "    noisy_spectrum = y .+ yerr\n",
    "    noisy_background = b .+ scale*sqrt(b).*randn(length(y))\n",
    "    \n",
    "    scale_est = n*mean(sqrt(abs(noisy_spectrum)))\n",
    "    \n",
    "    err = scale_est .* max(sqrt(abs(noisy_spectrum)),sqrt(abs(noisy_background)))\n",
    "    \n",
    "    return noisy_spectrum, err\n",
    "end"
   ]
  },
  {
   "cell_type": "code",
   "execution_count": 3,
   "metadata": {
    "collapsed": false
   },
   "outputs": [],
   "source": [
    "nrows,ncols = size(transfer_matrix)\n",
    "\n",
    "flat = ones(npitch,nenergy)\n",
    "flat *= (1e12)/sum(flat*dE*dP)\n",
    "flat_spec = zeros(nrows,21)\n",
    "flat_err = zeros(nrows,21)\n",
    "# Generate synthetic data for varying error levels with the same background value\n",
    "for (ind,n) in enumerate(0:.05:1)\n",
    "    flat_spec[:,ind], flat_err[:,ind] = make_synthetic_data(transfer_matrix,flat,n,1.25e14,dE,dP);\n",
    "end"
   ]
  },
  {
   "cell_type": "code",
   "execution_count": 4,
   "metadata": {
    "collapsed": false
   },
   "outputs": [
    {
     "data": {
      "text/plain": [
       "tsvd_analysis (generic function with 1 method)"
      ]
     },
     "execution_count": 4,
     "metadata": {},
     "output_type": "execute_result"
    }
   ],
   "source": [
    "function tsvd_analysis(A,spec,err,dist,dE,dP)\n",
    "    RF = TSVDFunctional(A,spec,err)\n",
    "    k = discrete_lcurve(RF,1:300)\n",
    "    sol = minimize(RF,k;true_sol = dist*dE*dP)\n",
    "    dens = sum(max(sol.x,0.0))\n",
    "    dens_err = norm(sol.sigma)\n",
    "    x = reshape(max(sol.x,0)/(dE*dP),size(dist)...)\n",
    "    sigma = reshape(sol.sigma/(dE*dP),size(dist)...)\n",
    "    reg_err = reshape(sol.reg_err/(dE*dP),size(dist)...)\n",
    "    dx = x .- dist\n",
    "    return x,sigma,reg_err, dx,dens,dens_err\n",
    "end"
   ]
  },
  {
   "cell_type": "code",
   "execution_count": 61,
   "metadata": {
    "collapsed": false
   },
   "outputs": [
    {
     "data": {
      "text/plain": [
       "tik1_analysis (generic function with 1 method)"
      ]
     },
     "execution_count": 61,
     "metadata": {},
     "output_type": "execute_result"
    }
   ],
   "source": [
    "function tik1_analysis(A,spec,err,dist,dE,dP,L1E,L1p)\n",
    "    nr,nc = size(A)\n",
    "    RF = TikhonovFunctional(A,spec,err,(L1E,L1p))\n",
    "    alpha = lcurve(RF;log_alpha_range=(5,20),nseeds=20)\n",
    "    sol = minimize(RF,alpha;true_sol=dist*dE*dP)\n",
    "    dens = sum(max(sol.x,0.0))\n",
    "    dens_err = norm(sol.sigma)\n",
    "    x = reshape(max(sol.x,0)/(dE*dP),size(dist)...)\n",
    "    sigma = reshape(sol.sigma/(dE*dP),size(dist)...)\n",
    "    reg_err = reshape(sol.reg_err/(dE*dP),size(dist)...)\n",
    "    dx = x .- dist\n",
    "    return x,sigma,reg_err,dx,dens,dens_err\n",
    "end"
   ]
  },
  {
   "cell_type": "code",
   "execution_count": 69,
   "metadata": {
    "collapsed": false
   },
   "outputs": [
    {
     "data": {
      "text/plain": [
       "tik0_analysis (generic function with 1 method)"
      ]
     },
     "execution_count": 69,
     "metadata": {},
     "output_type": "execute_result"
    }
   ],
   "source": [
    "function tik0_analysis(A,spec,err,dist,dE,dP,L1E,L1p)\n",
    "    nr,nc = size(A)\n",
    "    RF = TikhonovFunctional(A,spec,err,(eye(nc),))\n",
    "    alpha = lcurve(RF;log_alpha_range=(-10,5))\n",
    "    sol = minimize(RF,alpha,true_sol=dist*dE*dP)\n",
    "    dens = sum(max(sol.x,0.0))\n",
    "    dens_err = norm(sol.sigma)\n",
    "    x = reshape(max(sol.x,0)/(dE*dP),size(dist)...)\n",
    "    sigma = reshape(sol.sigma/(dE*dP),size(dist)...)\n",
    "    reg_err = reshape(sol.reg_err/(dE*dP),size(dist)...)\n",
    "    dx = x .- dist\n",
    "    return x,sigma,reg_err,dx,dens,dens_err\n",
    "end"
   ]
  },
  {
   "cell_type": "code",
   "execution_count": 26,
   "metadata": {
    "collapsed": false
   },
   "outputs": [],
   "source": [
    "nenergy = 20\n",
    "npitch = 20\n",
    "flat = ones(npitch,nenergy)\n",
    "flat *= (1e12)/sum(flat*dE*dP)\n",
    "A_full = transfer_matrix\n",
    "energy_full = energy\n",
    "pitch_full  = pitch\n",
    "\n",
    "A,energy,pitch = resize_transfer_matrix(A_full,energy_full,pitch_full,nenergy,npitch);\n",
    "dE = abs(energy[2]-energy[1])\n",
    "dP = abs(pitch[2]-pitch[1]);\n",
    "L1E,L1p = gradEP(energy,pitch);"
   ]
  },
  {
   "cell_type": "code",
   "execution_count": 70,
   "metadata": {
    "collapsed": true
   },
   "outputs": [],
   "source": [
    "flat_x = zeros(npitch,nenergy,20)\n",
    "flat_sigma = zeros(npitch,nenergy,20)\n",
    "flat_reg = zeros(npitch,nenergy,20)\n",
    "flat_dx = zeros(npitch,nenergy,20)\n",
    "flat_dens = zeros(20)\n",
    "flat_dens_err = zeros(20);"
   ]
  },
  {
   "cell_type": "code",
   "execution_count": 71,
   "metadata": {
    "collapsed": false
   },
   "outputs": [],
   "source": [
    "for i=1:20\n",
    "    flat_x[:,:,i],flat_sigma[:,:,i],flat_reg[:,:,i],flat_dx[:,:,i],flat_dens[i],flat_dens_err[i] = \n",
    "    tik0_analysis(A,flat_spec[:,i+1],flat_err[:,i+1],flat,dE,dP,L1E,L1p)\n",
    "end"
   ]
  },
  {
   "cell_type": "code",
   "execution_count": 73,
   "metadata": {
    "collapsed": false,
    "scrolled": true
   },
   "outputs": [
    {
     "data": {
      "image/png": "[encoded data removed]",
      "text/plain": [
       "Figure(PyObject <matplotlib.figure.Figure object at 0x7f60c64fcdd8>)"
      ]
     },
     "metadata": {},
     "output_type": "display_data"
    },
    {
     "data": {
      "text/plain": [
       "(0,2)"
      ]
     },
     "execution_count": 73,
     "metadata": {},
     "output_type": "execute_result"
    }
   ],
   "source": [
    "plot([0.05:0.05:1],flat_dens/(1e12))\n",
    "xlim(0,.75)\n",
    "ylim(0,2)"
   ]
  },
  {
   "cell_type": "code",
   "execution_count": 67,
   "metadata": {
    "collapsed": false
   },
   "outputs": [
    {
     "name": "stdout",
     "output_type": "stream",
     "text": [
      "28.60942976562264\n"
     ]
    }
   ],
   "source": [
    "println(flat_dens[12]/1e12)"
   ]
  },
  {
   "cell_type": "code",
   "execution_count": 75,
   "metadata": {
    "collapsed": false
   },
   "outputs": [
    {
     "data": {
      "image/png": "[encoded data removed]",
      "text/plain": [
       "Figure(PyObject <matplotlib.figure.Figure object at 0x7f60c60feb00>)"
      ]
     },
     "metadata": {},
     "output_type": "display_data"
    },
    {
     "data": {
      "text/plain": [
       "PyObject <matplotlib.colorbar.Colorbar object at 0x7f60c63da710>"
      ]
     },
     "execution_count": 75,
     "metadata": {},
     "output_type": "execute_result"
    }
   ],
   "source": [
    "pcolor(energy,pitch,flat_x[:,:,1] - flat[1,1],cmap=\"RdGy_r\")\n",
    "colorbar()"
   ]
  },
  {
   "cell_type": "code",
   "execution_count": null,
   "metadata": {
    "collapsed": true
   },
   "outputs": [],
   "source": []
  }
 ],
 "metadata": {
  "kernelspec": {
   "display_name": "Julia 0.3.8",
   "language": "julia",
   "name": "julia-0.3"
  },
  "language_info": {
   "name": "julia",
   "version": "0.3.9"
  }
 },
 "nbformat": 4,
 "nbformat_minor": 0
}
