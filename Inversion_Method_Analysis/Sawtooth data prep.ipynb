{
 "cells": [
  {
   "cell_type": "code",
   "execution_count": 1,
   "metadata": {
    "collapsed": true
   },
   "outputs": [],
   "source": [
    "using RegularizedSystems\n",
    "using VSTom\n",
    "using PyPlot"
   ]
  },
  {
   "cell_type": "code",
   "execution_count": 10,
   "metadata": {
    "collapsed": false,
    "scrolled": false
   },
   "outputs": [
    {
     "data": {
      "text/plain": [
       "Dict{String,Any} with 12 entries:\n",
       "  \"True_before_coarse\"     => [1.032929345536e12 9.24215934976e11 4.55640776704…\n",
       "  \"Maxwellian_after\"       => [1.67653670912e12 1.612524552192e12 1.15601480089…\n",
       "  \"p_coarse\"               => [-0.9599999785423279,-0.8589473366737366,-0.75789…\n",
       "  \"True_before_coarse_cut\" => [0.0 0.0 0.0 1.97166792704e11 8.2034581504e10 3.2…\n",
       "  \"True_after_coarse\"      => [1.676579438592e12 9.32470390784e11 2.86287200256…\n",
       "  \"TRANSP_before\"          => [5.8270108e7 3.390611712e9 1.3274471424e10 1.6894…\n",
       "  \"E_coarse\"               => [1.0,6.210526466369629,11.421052932739258,16.6315…\n",
       "  \"E\"                      => [1.0,3.0,5.0,7.0,9.0,11.0,13.0,15.0,17.0,19.0,21.…\n",
       "  \"True_after_coarse_cut\"  => [0.0 0.0 0.0 8.1609637888e10 2.342208512e10 7.458…\n",
       "  \"TRANSP_after\"           => [5.8001232e7 3.799691008e9 1.363231232e10 1.82397…\n",
       "  \"Maxwellian_before\"      => [1.032883142656e12 1.19920656384e12 1.03776858931…\n",
       "  \"p\"                      => [-0.9800000190734863,-0.9399999976158142,-0.89999…"
      ]
     },
     "execution_count": 10,
     "metadata": {},
     "output_type": "execute_result"
    }
   ],
   "source": [
    "b = read_ncdf(\"/home/lstagner/Dropbox/Inversion_method_analysis/31557/31557F00_fi_1_wght_2241ms.cdf\")\n",
    "a = read_ncdf(\"/home/lstagner/Dropbox/Inversion_method_analysis/31557/31557F00_fi_2_wght_2271ms.cdf\")\n",
    "dw = read_ncdf(\"/home/lstagner/Dropbox/Inversion_method_analysis/Asger\\ source\\ code/31557_dW.nc\")\n",
    "spec = read_ncdf(\"/home/lstagner/Dropbox/Inversion_method_analysis/31557/31557_measured_spectra.cdf\")\n",
    "true_dists = read_ncdf(\"/home/lstagner/Dropbox/Inversion_method_analysis/31557/31557_true_distributions.nc\")"
   ]
  },
  {
   "cell_type": "code",
   "execution_count": null,
   "metadata": {
    "collapsed": true
   },
   "outputs": [],
   "source": []
  },
  {
   "cell_type": "code",
   "execution_count": 17,
   "metadata": {
    "collapsed": false
   },
   "outputs": [],
   "source": [
    "energy = float64(b[\"energy\"])\n",
    "pitch = float64(b[\"pitch\"])\n",
    "wl = float64(b[\"central_wavel\"])\n",
    "wght_b = float64(b[\"weight\"])\n",
    "wght_a = float64(a[\"weight\"]);"
   ]
  },
  {
   "cell_type": "code",
   "execution_count": 18,
   "metadata": {
    "collapsed": false
   },
   "outputs": [],
   "source": [
    "bb = read_ncdf(\"data/before_sawtooth_transfer_matrix.cdf\")\n",
    "ind1 = int(bb[\"spectrum_1_index\"])\n",
    "ind2 = int(bb[\"spectrum_2_index\"])\n",
    "ind3 = int(bb[\"spectrum_3_index\"])\n",
    "ind4 = int(bb[\"spectrum_4_index\"])\n",
    "ind5 = int(bb[\"spectrum_5_index\"]);"
   ]
  },
  {
   "cell_type": "code",
   "execution_count": 19,
   "metadata": {
    "collapsed": false
   },
   "outputs": [],
   "source": [
    "spec1_b = float64(spec[\"intens\"][1,ind1,1]')\n",
    "spec1_a = float64(spec[\"intens\"][1,ind1,2]')\n",
    "err1_b  = float64(spec[\"error\"][1,ind1,1]')\n",
    "err1_a  = float64(spec[\"error\"][1,ind1,2]')\n",
    "wl1 = float64(spec[\"central_wavel\"][1,ind1]')\n",
    "\n",
    "spec2_b = float64(spec[\"intens\"][2,ind2,1]')\n",
    "spec2_a = float64(spec[\"intens\"][2,ind2,2]')\n",
    "err2_b  = float64(spec[\"error\"][2,ind2,1]')\n",
    "err2_a  = float64(spec[\"error\"][2,ind2,2]')\n",
    "wl2 = float64(spec[\"central_wavel\"][2,ind2]')\n",
    "\n",
    "spec3_b = float64(spec[\"intens\"][3,ind3,1]')\n",
    "spec3_a = float64(spec[\"intens\"][3,ind3,2]')\n",
    "err3_b  = float64(spec[\"error\"][3,ind3,1]')\n",
    "err3_a  = float64(spec[\"error\"][3,ind3,2]')\n",
    "wl3 = float64(spec[\"central_wavel\"][3,ind3]')\n",
    "\n",
    "spec4_b = float64(spec[\"intens\"][4,ind4,1]')\n",
    "spec4_a = float64(spec[\"intens\"][4,ind4,2]')\n",
    "err4_b  = float64(spec[\"error\"][4,ind4,1]')\n",
    "err4_a  = float64(spec[\"error\"][4,ind4,2]')\n",
    "wl4 = float64(spec[\"central_wavel\"][4,ind4]')\n",
    "\n",
    "spec5_b = float64(spec[\"intens\"][5,ind5,1]')\n",
    "spec5_a = float64(spec[\"intens\"][5,ind5,2]')\n",
    "err5_b  = float64(spec[\"error\"][5,ind5,1]')\n",
    "err5_a  = float64(spec[\"error\"][5,ind5,2]')\n",
    "wl5 = float64(spec[\"central_wavel\"][5,ind5]');"
   ]
  },
  {
   "cell_type": "code",
   "execution_count": 20,
   "metadata": {
    "collapsed": false
   },
   "outputs": [
    {
     "data": {
      "text/plain": [
       "50"
      ]
     },
     "execution_count": 20,
     "metadata": {},
     "output_type": "execute_result"
    }
   ],
   "source": [
    "E = energy .< 100\n",
    "energy = energy[E]\n",
    "nen =length(energy)"
   ]
  },
  {
   "cell_type": "code",
   "execution_count": 70,
   "metadata": {
    "collapsed": false
   },
   "outputs": [],
   "source": [
    "A1_b = zeros(length(wl1),nen*75)\n",
    "A1_a = zeros(length(wl1),nen*75)\n",
    "dwav = abs(wl1[2] - wl1[1])\n",
    "for i=1:length(wl1)\n",
    "    ind = indmin((wl .- wl1[i]).^2)\n",
    "    A1_b[i,:] = reshape(reshape(wght_b[1,ind,E,:],nen,75)',nen*75)*(1e4 / (dwav*4*pi))\n",
    "    A1_a[i,:] = reshape(reshape(wght_a[1,ind,E,:],nen,75)',nen*75)*(1e4 / (dwav*4*pi))\n",
    "end"
   ]
  },
  {
   "cell_type": "code",
   "execution_count": 71,
   "metadata": {
    "collapsed": true
   },
   "outputs": [],
   "source": [
    "A2_b = zeros(length(wl2),nen*75)\n",
    "A2_a = zeros(length(wl2),nen*75)\n",
    "dwav = abs(wl2[2] - wl2[1])\n",
    "for i=1:length(wl2)\n",
    "    ind = indmin((wl .- wl2[i]).^2)\n",
    "    A2_b[i,:] = reshape(reshape(wght_b[2,ind,E,:],nen,75)',nen*75)*(1e4 / (dwav*4*pi))\n",
    "    A2_a[i,:] = reshape(reshape(wght_a[2,ind,E,:],nen,75)',nen*75)*(1e4 / (dwav*4*pi))\n",
    "end"
   ]
  },
  {
   "cell_type": "code",
   "execution_count": 72,
   "metadata": {
    "collapsed": true
   },
   "outputs": [],
   "source": [
    "A3_b = zeros(length(wl3),nen*75)\n",
    "A3_a = zeros(length(wl3),nen*75)\n",
    "dwav = abs(wl3[2] - wl3[1])\n",
    "for i=1:length(wl3)\n",
    "    ind = indmin((wl .- wl3[i]).^2)\n",
    "    A3_b[i,:] = reshape(reshape(wght_b[3,ind,E,:],nen,75)',nen*75)*(1e4 / (dwav*4*pi))\n",
    "    A3_a[i,:] = reshape(reshape(wght_a[3,ind,E,:],nen,75)',nen*75)*(1e4 / (dwav*4*pi))\n",
    "end"
   ]
  },
  {
   "cell_type": "code",
   "execution_count": 73,
   "metadata": {
    "collapsed": true
   },
   "outputs": [],
   "source": [
    "A4_b = zeros(length(wl4),nen*75)\n",
    "A4_a = zeros(length(wl4),nen*75)\n",
    "dwav = abs(wl4[2] - wl4[1])\n",
    "for i=1:length(wl4)\n",
    "    ind = indmin((wl .- wl4[i]).^2)\n",
    "    A4_b[i,:] = reshape(reshape(wght_b[4,ind,E,:],nen,75)',nen*75)*(1e4 / (dwav*4*pi))\n",
    "    A4_a[i,:] = reshape(reshape(wght_a[4,ind,E,:],nen,75)',nen*75)*(1e4 / (dwav*4*pi))\n",
    "end"
   ]
  },
  {
   "cell_type": "code",
   "execution_count": 74,
   "metadata": {
    "collapsed": true
   },
   "outputs": [],
   "source": [
    "A5_b = zeros(length(wl5),nen*75)\n",
    "A5_a = zeros(length(wl5),nen*75)\n",
    "dwav = abs(wl5[2] - wl5[1])\n",
    "for i=1:length(wl5)\n",
    "    ind = indmin((wl .- wl5[i]).^2)\n",
    "    A5_b[i,:] = reshape(reshape(wght_b[5,ind,E,:],nen,75)',nen*75)*(1e4 / (dwav*4*pi)) \n",
    "    A5_a[i,:] = reshape(reshape(wght_a[5,ind,E,:],nen,75)',nen*75)*(1e4 / (dwav*4*pi)) #(Ph*cm^3)/(m^2 *s*dE*dP*sr*nm)\n",
    "end"
   ]
  },
  {
   "cell_type": "code",
   "execution_count": 98,
   "metadata": {
    "collapsed": false
   },
   "outputs": [],
   "source": [
    "dwav = wl\n",
    "A_b = vcat(A1_b,A2_b,A3_b,A4_b,A5_b)\n",
    "A_a = vcat(A1_a,A2_a,A3_a,A4_a,A5_a)\n",
    "spec_b = reshape(vcat(spec1_b,spec2_b,spec3_b,spec4_b,spec5_b),1116)\n",
    "err_b = reshape(vcat(err1_b,err2_b,err3_b,err4_b,err5_b),1116)\n",
    "#err_b = spec_err[\"noise_before\"]\n",
    "spec_a = reshape(vcat(spec1_a,spec2_a,spec3_a,spec4_a,spec5_a),1116)\n",
    "err_a = reshape(vcat(err1_a,err2_a,err3_a,err4_a,err5_a),1116);\n",
    "#err_a = spec_err[\"noise_after\"];"
   ]
  },
  {
   "cell_type": "code",
   "execution_count": 99,
   "metadata": {
    "collapsed": false
   },
   "outputs": [],
   "source": [
    "energy_50 = dw[\"E\"]\n",
    "pitch_50 = dw[\"p\"]\n",
    "A_b = resize_transfer_matrix(A_b,energy,pitch,energy_50,pitch_50);\n",
    "A_a = resize_transfer_matrix(A_a,energy,pitch,energy_50,pitch_50);"
   ]
  },
  {
   "cell_type": "code",
   "execution_count": 93,
   "metadata": {
    "collapsed": false,
    "scrolled": true
   },
   "outputs": [
    {
     "data": {
      "text/plain": [
       "Dict{String,Any} with 6 entries:\n",
       "  \"transfer_matrix\" => [0.0 0.0 0.0 0.0 0.0 0.0 0.0 0.0 0.0 0.0 0.0 0.0 0.0 0.0…\n",
       "  \"data_hat\"        => [0.556885302066803,0.9980168342590332,-0.423922121524810…\n",
       "  \"data\"            => [5.97170105352192e14,1.068641550336e15,-4.43398464995328…\n",
       "  \"E\"               => [1.0,6.210526466369629,11.421052932739258,16.63158035278…\n",
       "  \"noise\"           => [1.072339450068992e15,1.070765076119552e15,1.04594318504…\n",
       "  \"p\"               => [-0.9599999785423279,-0.8589473366737366,-0.757894694805…"
      ]
     },
     "execution_count": 93,
     "metadata": {},
     "output_type": "execute_result"
    }
   ],
   "source": [
    "bb = read_ncdf(\"data/31557_after_sawtooth_data.nc\")"
   ]
  },
  {
   "cell_type": "code",
   "execution_count": 108,
   "metadata": {
    "collapsed": false
   },
   "outputs": [
    {
     "data": {
      "image/png": "[encoded data removed]",
      "text/plain": [
       "Figure(PyObject <matplotlib.figure.Figure object at 0x7fd37fd31ba8>)"
      ]
     },
     "metadata": {},
     "output_type": "display_data"
    },
    {
     "data": {
      "text/plain": [
       "PyObject <matplotlib.colorbar.Colorbar object at 0x7fd37fb1a6d8>"
      ]
     },
     "execution_count": 108,
     "metadata": {},
     "output_type": "execute_result"
    }
   ],
   "source": [
    "pcolor(bb[\"E\"],bb[\"p\"],reshape(bb[\"transfer_matrix\"][144,:],20,20))\n",
    "colorbar()"
   ]
  },
  {
   "cell_type": "code",
   "execution_count": 109,
   "metadata": {
    "collapsed": false
   },
   "outputs": [
    {
     "data": {
      "image/png": "[encoded data removed]",
      "text/plain": [
       "Figure(PyObject <matplotlib.figure.Figure object at 0x7fd37fd36940>)"
      ]
     },
     "metadata": {},
     "output_type": "display_data"
    },
    {
     "data": {
      "text/plain": [
       "PyObject <matplotlib.colorbar.Colorbar object at 0x7fd37f9f9c50>"
      ]
     },
     "execution_count": 109,
     "metadata": {},
     "output_type": "execute_result"
    }
   ],
   "source": [
    "pcolor(energy_50,pitch_50,reshape(A_a[144,:],50,50))\n",
    "colorbar()"
   ]
  },
  {
   "cell_type": "code",
   "execution_count": 49,
   "metadata": {
    "collapsed": false
   },
   "outputs": [],
   "source": [
    "dw_dE = abs(energy_50[2]-energy_50[1])\n",
    "dw_dP = abs(pitch_50[2]-pitch_50[1])\n",
    "dtransfer = dw[\"dW\"]/(dw_dE*dw_dP)/(4*pi);"
   ]
  },
  {
   "cell_type": "code",
   "execution_count": 52,
   "metadata": {
    "collapsed": false
   },
   "outputs": [],
   "source": [
    "using NetCDF\n",
    "\n",
    "nrows, ncols = size(A_a)\n",
    "nen = length(energy_50)\n",
    "np = length(pitch_50)\n",
    "# Write transfer matrix to file\n",
    "fname = \"data/after_sawtooth_data.cdf\"\n",
    "\n",
    "isfile(fname) && rm(fname)\n",
    "\n",
    "nrows_id = NcDim(\"nrows\",nrows)\n",
    "ncols_id = NcDim(\"ncols\",ncols)\n",
    "nen_id = NcDim(\"energy\",nen)\n",
    "np_id = NcDim(\"pitch\",np)\n",
    "\n",
    "t_varid = NcVar(\"transfer_matrix\",[nrows_id,ncols_id])\n",
    "dw_varid = NcVar(\"dw\",[nrows_id,ncols_id])\n",
    "e_varid = NcVar(\"energy\",nen_id)\n",
    "p_varid = NcVar(\"pitch\",np_id)\n",
    "s_varid = NcVar(\"spectra\",nrows_id)\n",
    "err_varid = NcVar(\"error\",nrows_id)\n",
    "ncid = NetCDF.create(fname,[t_varid,dw_varid,e_varid,p_varid,s_varid,err_varid],mode=NC_CLASSIC_MODEL)\n",
    "\n",
    "NetCDF.putvar(ncid,\"transfer_matrix\",A_a)\n",
    "NetCDF.putvar(ncid,\"dw\",dtransfer)\n",
    "NetCDF.putvar(ncid,\"energy\",energy_50)\n",
    "NetCDF.putvar(ncid,\"pitch\",pitch_50)\n",
    "NetCDF.putvar(ncid,\"spectra\",spec_a)\n",
    "NetCDF.putvar(ncid,\"error\",err_a)\n",
    "NetCDF.close(ncid);"
   ]
  },
  {
   "cell_type": "code",
   "execution_count": 53,
   "metadata": {
    "collapsed": true
   },
   "outputs": [],
   "source": [
    "nrows, ncols = size(A_b)\n",
    "nen = length(energy_50)\n",
    "np = length(pitch_50)\n",
    "# Write transfer matrix to file\n",
    "fname = \"data/before_sawtooth_data.cdf\"\n",
    "\n",
    "isfile(fname) && rm(fname)\n",
    "\n",
    "nrows_id = NcDim(\"nrows\",nrows)\n",
    "ncols_id = NcDim(\"ncols\",ncols)\n",
    "nen_id = NcDim(\"energy\",nen)\n",
    "np_id = NcDim(\"pitch\",np)\n",
    "\n",
    "t_varid = NcVar(\"transfer_matrix\",[nrows_id,ncols_id])\n",
    "dw_varid = NcVar(\"dw\",[nrows_id,ncols_id])\n",
    "e_varid = NcVar(\"energy\",nen_id)\n",
    "p_varid = NcVar(\"pitch\",np_id)\n",
    "s_varid = NcVar(\"spectra\",nrows_id)\n",
    "err_varid = NcVar(\"error\",nrows_id)\n",
    "ncid = NetCDF.create(fname,[t_varid,dw_varid,e_varid,p_varid,s_varid,err_varid],mode=NC_CLASSIC_MODEL)\n",
    "\n",
    "NetCDF.putvar(ncid,\"transfer_matrix\",A_b)\n",
    "NetCDF.putvar(ncid,\"dw\",dtransfer)\n",
    "NetCDF.putvar(ncid,\"energy\",energy_50)\n",
    "NetCDF.putvar(ncid,\"pitch\",pitch_50)\n",
    "NetCDF.putvar(ncid,\"spectra\",spec_b)\n",
    "NetCDF.putvar(ncid,\"error\",err_b)\n",
    "NetCDF.close(ncid);"
   ]
  },
  {
   "cell_type": "code",
   "execution_count": 51,
   "metadata": {
    "collapsed": false
   },
   "outputs": [
    {
     "data": {
      "text/plain": [
       "1116x2500 Array{Float64,2}:\n",
       " 0.0  0.0  0.0  0.0  0.0  0.0  0.0  0.0  0.0  …   0.00071815  0.0         0.0\n",
       " 0.0  0.0  0.0  0.0  0.0  0.0  0.0  0.0  0.0      0.00071815  0.0         0.0\n",
       " 0.0  0.0  0.0  0.0  0.0  0.0  0.0  0.0  0.0      0.00755494  0.0         0.0\n",
       " 0.0  0.0  0.0  0.0  0.0  0.0  0.0  0.0  0.0      0.00755494  0.0         0.0\n",
       " 0.0  0.0  0.0  0.0  0.0  0.0  0.0  0.0  0.0      0.0311427   0.0         0.0\n",
       " 0.0  0.0  0.0  0.0  0.0  0.0  0.0  0.0  0.0  …   0.0311427   0.0         0.0\n",
       " 0.0  0.0  0.0  0.0  0.0  0.0  0.0  0.0  0.0      0.250271    0.0         0.0\n",
       " 0.0  0.0  0.0  0.0  0.0  0.0  0.0  0.0  0.0      0.250271    0.0         0.0\n",
       " 0.0  0.0  0.0  0.0  0.0  0.0  0.0  0.0  0.0      1.84887     0.0         0.0\n",
       " 0.0  0.0  0.0  0.0  0.0  0.0  0.0  0.0  0.0      1.84887     0.0         0.0\n",
       " 0.0  0.0  0.0  0.0  0.0  0.0  0.0  0.0  0.0  …  15.3644      0.00250847  0.0\n",
       " 0.0  0.0  0.0  0.0  0.0  0.0  0.0  0.0  0.0     15.3644      0.00250847  0.0\n",
       " 0.0  0.0  0.0  0.0  0.0  0.0  0.0  0.0  0.0     56.0034      0.0269053   0.0\n",
       " ⋮                        ⋮                   ⋱                              \n",
       " 0.0  0.0  0.0  0.0  0.0  0.0  0.0  0.0  0.0      0.538272    0.0         0.0\n",
       " 0.0  0.0  0.0  0.0  0.0  0.0  0.0  0.0  0.0  …   0.102227    0.0         0.0\n",
       " 0.0  0.0  0.0  0.0  0.0  0.0  0.0  0.0  0.0      0.102227    0.0         0.0\n",
       " 0.0  0.0  0.0  0.0  0.0  0.0  0.0  0.0  0.0      0.102227    0.0         0.0\n",
       " 0.0  0.0  0.0  0.0  0.0  0.0  0.0  0.0  0.0      0.102227    0.0         0.0\n",
       " 0.0  0.0  0.0  0.0  0.0  0.0  0.0  0.0  0.0      0.0231396   0.0         0.0\n",
       " 0.0  0.0  0.0  0.0  0.0  0.0  0.0  0.0  0.0  …   0.0231396   0.0         0.0\n",
       " 0.0  0.0  0.0  0.0  0.0  0.0  0.0  0.0  0.0      0.0231396   0.0         0.0\n",
       " 0.0  0.0  0.0  0.0  0.0  0.0  0.0  0.0  0.0      0.0231396   0.0         0.0\n",
       " 0.0  0.0  0.0  0.0  0.0  0.0  0.0  0.0  0.0      0.0231396   0.0         0.0\n",
       " 0.0  0.0  0.0  0.0  0.0  0.0  0.0  0.0  0.0      0.00123958  0.0         0.0\n",
       " 0.0  0.0  0.0  0.0  0.0  0.0  0.0  0.0  0.0  …   0.00123958  0.0         0.0"
      ]
     },
     "execution_count": 51,
     "metadata": {},
     "output_type": "execute_result"
    }
   ],
   "source": [
    "A_b"
   ]
  },
  {
   "cell_type": "code",
   "execution_count": null,
   "metadata": {
    "collapsed": true
   },
   "outputs": [],
   "source": []
  }
 ],
 "metadata": {
  "kernelspec": {
   "display_name": "Julia 0.3.8",
   "language": "julia",
   "name": "julia-0.3"
  },
  "language_info": {
   "name": "julia",
   "version": "0.3.9"
  }
 },
 "nbformat": 4,
 "nbformat_minor": 0
}
